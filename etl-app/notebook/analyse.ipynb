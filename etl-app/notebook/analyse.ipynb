{
 "cells": [
  {
   "cell_type": "code",
   "execution_count": 61,
   "metadata": {},
   "outputs": [],
   "source": [
    "import duckdb\n",
    "import findspark\n",
    "findspark.init()\n",
    "from pyspark.sql import SparkSession\n",
    "from pyspark.sql import functions as F\n",
    "from pyspark.sql.window import Window\n",
    "from pyspark.sql.types import StructType, StructField, IntegerType, LongType, DoubleType, BooleanType, TimestampType\n",
    "import pandas as pd\n",
    "from datetime import datetime\n",
    "import matplotlib.pyplot as plt\n",
    "import seaborn as sns"
   ]
  },
  {
   "cell_type": "markdown",
   "metadata": {},
   "source": [
    "## 1. Quan sát và phân tích Dim Companies"
   ]
  },
  {
   "cell_type": "code",
   "execution_count": 58,
   "metadata": {},
   "outputs": [],
   "source": [
    "spark = SparkSession.builder.appName(\"Companies\").getOrCreate()"
   ]
  },
  {
   "cell_type": "code",
   "execution_count": 59,
   "metadata": {},
   "outputs": [],
   "source": [
    "# Connect to the DuckDB database\n",
    "duck_conn = duckdb.connect('/home/anhcu/Final_ETL_App/etl-app/datawarehouse.duckdb')\n",
    "query = 'SELECT * FROM dim_companies'\n",
    "\n",
    "# Fetch data from DuckDB and convert to Pandas DataFrame\n",
    "pandas_df = duck_conn.execute(query).fetchdf()\n",
    "\n",
    "duck_conn.close()"
   ]
  },
  {
   "cell_type": "code",
   "execution_count": 60,
   "metadata": {},
   "outputs": [
    {
     "name": "stderr",
     "output_type": "stream",
     "text": [
      "24/06/22 09:34:46 WARN TaskSetManager: Stage 131 contains a task of very large size (2180 KiB). The maximum recommended task size is 1000 KiB.\n",
      "24/06/22 09:34:47 WARN TaskSetManager: Stage 134 contains a task of very large size (2180 KiB). The maximum recommended task size is 1000 KiB.\n"
     ]
    },
    {
     "name": "stdout",
     "output_type": "stream",
     "text": [
      "19697\n",
      "+----------+--------------------+--------------------+--------------+-------------------+--------------------+----------------+--------------------+---------------------+-------------------+---------------------+-----------------------+--------------------+--------------------+\n",
      "|company_id|        company_name|  company_time_stamp|company_ticket|company_is_delisted|    company_category|company_currency|    company_location|company_exchange_name|company_region_name|company_industry_name|company_industry_sector|company_sic_industry|  company_sic_sector|\n",
      "+----------+--------------------+--------------------+--------------+-------------------+--------------------+----------------+--------------------+---------------------+-------------------+---------------------+-----------------------+--------------------+--------------------+\n",
      "|         1|ADMIRALTY BANCORP...|2024-06-22 07:57:...|          AAAB|               true|Domestic Common S...|             USD|      Florida; U.S.A|               NASDAQ|      United States|     Banks - Regional|     Financial Services|State Commercial ...|Finance Insurance...|\n",
      "|         2|ACCESS ANYTIME BA...|2024-06-22 07:57:...|          AABC|               true|Domestic Common S...|             USD|   New Mexico; U.S.A|               NASDAQ|      United States|     Banks - Regional|     Financial Services|Savings Instituti...|Finance Insurance...|\n",
      "|         3|ASSET ACCEPTANCE ...|2024-06-22 07:57:...|          AACC|               true|Domestic Common S...|             USD|     Michigan; U.S.A|               NASDAQ|      United States|     Asset Management|     Financial Services|Short-Term Busine...|Finance Insurance...|\n",
      "|         4|ACE CASH EXPRESS INC|2024-06-22 07:57:...|          AACE|               true|Domestic Common S...|             USD|        Texas; U.S.A|               NASDAQ|      United States|      Credit Services|     Financial Services|Functions Related...|Finance Insurance...|\n",
      "|         5|ARMADA ACQUISITIO...|2024-06-22 07:57:...|          AACI|              false|Domestic Common S...|             USD| Pennsylvania; U.S.A|               NASDAQ|      United States|      Shell Companies|            Industrials|        Blank Checks|Finance Insurance...|\n",
      "|         6|AUSTRALIA ACQUISI...|2024-06-22 07:57:...|         AACPF|               true|    ADR Common Stock|             USD|           Australia|               NASDAQ|      United States|      Shell Companies|            Industrials|        Blank Checks|Finance Insurance...|\n",
      "|         7| AADI BIOSCIENCE INC|2024-06-22 07:57:...|          AADI|              false|Domestic Common S...|             USD|   California; U.S.A|               NASDAQ|      United States|        Biotechnology|             Healthcare|Pharmaceutical Pr...|       Manufacturing|\n",
      "|         8|ADVANTAGE BANCORP...|2024-06-22 07:57:...|          AADV|               true|Domestic Common S...|             USD|    Wisconsin; U.S.A|               NASDAQ|      United States|     Banks - Regional|     Financial Services|Savings Instituti...|Finance Insurance...|\n",
      "|         9|AFRICAN AGRICULTU...|2024-06-22 07:57:...|          AAGR|              false|Domestic Common S...|             USD|     New York; U.S.A|               NASDAQ|      United States|        Farm Products|     Consumer Defensive|Agricultural Prod...|Agriculture Fores...|\n",
      "|        10|AIRTRAN HOLDINGS INC|2024-06-22 07:57:...|           AAI|               true|Domestic Common S...|             USD|      Florida; U.S.A|               NASDAQ|      United States|             Airlines|            Industrials|Air Transportatio...|Transportation Co...|\n",
      "|        11|ALABAMA AIRCRAFT ...|2024-06-22 07:57:...|         AAIIQ|               true|Domestic Common S...|             USD|      Alabama; U.S.A|               NASDAQ|      United States|  Aerospace & Defense|            Industrials|            Aircraft|       Manufacturing|\n",
      "|        12|       AAIPHARMA INC|2024-06-22 07:57:...|        AAIIQ1|               true|Domestic Common S...|             USD|North Carolina; U...|               NASDAQ|      United States| Diagnostics & Res...|             Healthcare|Services-Testing ...|            Services|\n",
      "|        13|AMERICAN AIRLINES...|2024-06-22 07:57:...|           AAL|              false|Domestic Common S...|             USD|        Texas; U.S.A|               NASDAQ|      United States|             Airlines|            Industrials|Air Transportatio...|Transportation Co...|\n",
      "|        14|ATLANTIC AMERICAN...|2024-06-22 07:57:...|          AAME|              false|Domestic Common S...|             USD|      Georgia; U.S.A|               NASDAQ|      United States|     Insurance - Life|     Financial Services|      Life Insurance|Finance Insurance...|\n",
      "|        15|ABIGAIL ADAMS NAT...|2024-06-22 07:57:...|          AANB|               true|Domestic Common S...|             USD|District Of Colum...|               NASDAQ|      United States|     Banks - Regional|     Financial Services|National Commerci...|Finance Insurance...|\n",
      "|        16|APPLIED OPTOELECT...|2024-06-22 07:57:...|          AAOI|              false|Domestic Common S...|             USD|        Texas; U.S.A|               NASDAQ|      United States| Communication Equ...|             Technology|Semiconductors & ...|       Manufacturing|\n",
      "|        17|            AAON INC|2024-06-22 07:57:...|          AAON|              false|Domestic Common S...|             USD|     Oklahoma; U.S.A|               NASDAQ|      United States| Building Products...|        Basic Materials|Air-Cond & Warm A...|       Manufacturing|\n",
      "|        18|ATLANTIC ALLIANCE...|2024-06-22 07:57:...|          AAPC|               true|Domestic Common S...|             USD|     New York; U.S.A|               NASDAQ|      United States|             Gambling|      Consumer Cyclical|Services-Miscella...|            Services|\n",
      "|        19|           APPLE INC|2024-06-22 07:57:...|          AAPL|              false|Domestic Common S...|             USD|   California; U.S.A|               NASDAQ|      United States| Consumer Electronics|             Technology|Electronic Computers|       Manufacturing|\n",
      "|        20|         ALCIDE CORP|2024-06-22 07:57:...|          ALCD|               true|Domestic Common S...|             USD|   Washington; U.S.A|               NASDAQ|      United States|  Agricultural Inputs|        Basic Materials|Agricultural Chem...|       Manufacturing|\n",
      "+----------+--------------------+--------------------+--------------+-------------------+--------------------+----------------+--------------------+---------------------+-------------------+---------------------+-----------------------+--------------------+--------------------+\n",
      "only showing top 20 rows\n",
      "\n"
     ]
    }
   ],
   "source": [
    "# Convert Pandas DataFrame to PySpark DataFrame\n",
    "spark_df_companies = spark.createDataFrame(pandas_df)\n",
    "\n",
    "print(spark_df_companies.count())\n",
    "\n",
    "# Show the Spark DataFrame\n",
    "spark_df_companies.show()"
   ]
  },
  {
   "cell_type": "code",
   "execution_count": 62,
   "metadata": {},
   "outputs": [
    {
     "name": "stderr",
     "output_type": "stream",
     "text": [
      "24/06/22 09:36:07 WARN TaskSetManager: Stage 135 contains a task of very large size (2180 KiB). The maximum recommended task size is 1000 KiB.\n",
      "                                                                                \r"
     ]
    },
    {
     "name": "stdout",
     "output_type": "stream",
     "text": [
      "19697\n"
     ]
    },
    {
     "name": "stderr",
     "output_type": "stream",
     "text": [
      "24/06/22 09:36:09 WARN TaskSetManager: Stage 141 contains a task of very large size (2180 KiB). The maximum recommended task size is 1000 KiB.\n"
     ]
    },
    {
     "name": "stdout",
     "output_type": "stream",
     "text": [
      "+----------+--------------------+--------------------+--------------+-------------------+--------------------+----------------+--------------------+---------------------+-------------------+---------------------+-----------------------+--------------------+--------------------+\n",
      "|company_id|        company_name|  company_time_stamp|company_ticket|company_is_delisted|    company_category|company_currency|    company_location|company_exchange_name|company_region_name|company_industry_name|company_industry_sector|company_sic_industry|  company_sic_sector|\n",
      "+----------+--------------------+--------------------+--------------+-------------------+--------------------+----------------+--------------------+---------------------+-------------------+---------------------+-----------------------+--------------------+--------------------+\n",
      "|     13152|          ALCOA CORP|2024-06-22 07:57:...|            AA|              false|Domestic Common S...|             USD| Pennsylvania; U.S.A|                 NYSE|      United States|             Aluminum|        Basic Materials|Primary Productio...|       Manufacturing|\n",
      "|         1|ADMIRALTY BANCORP...|2024-06-22 07:57:...|          AAAB|               true|Domestic Common S...|             USD|      Florida; U.S.A|               NASDAQ|      United States|     Banks - Regional|     Financial Services|State Commercial ...|Finance Insurance...|\n",
      "|     17538|ALTANA AKTIENGESE...|2024-06-22 07:57:...|         AAAGY|               true|    ADR Common Stock|             USD|              Jordan|                 NYSE|      United States|        Biotechnology|             Healthcare|Pharmaceutical Pr...|       Manufacturing|\n",
      "|         2|ACCESS ANYTIME BA...|2024-06-22 07:57:...|          AABC|               true|Domestic Common S...|             USD|   New Mexico; U.S.A|               NASDAQ|      United States|     Banks - Regional|     Financial Services|Savings Instituti...|Finance Insurance...|\n",
      "|     10450|ALLIANCE ATLANTIS...|2024-06-22 07:57:...|          AACB|               true|Canadian Common S...|             USD|     Ontario; Canada|               NASDAQ|      United States|        Entertainment|   Communication Ser...|Services-Motion P...|            Services|\n",
      "|         3|ASSET ACCEPTANCE ...|2024-06-22 07:57:...|          AACC|               true|Domestic Common S...|             USD|     Michigan; U.S.A|               NASDAQ|      United States|     Asset Management|     Financial Services|Short-Term Busine...|Finance Insurance...|\n",
      "|     10451|ATA CREATIVITY GL...|2024-06-22 07:57:...|          AACG|              false|    ADR Common Stock|             USD|               China|               NASDAQ|      United States| Education & Train...|     Consumer Defensive|Services-Educatio...|            Services|\n",
      "|     13155|    AAC HOLDINGS INC|2024-06-22 07:57:...|          AACH|               true|Domestic Common S...|             USD|    Tennessee; U.S.A|                 NYSE|      United States| Medical Care Faci...|             Healthcare|Services-Specialt...|            Services|\n",
      "|     10452|ARMADA ACQUISITIO...|2024-06-22 07:57:...|         AACIU|              false|Domestic Common S...|             USD| Pennsylvania; U.S.A|               NASDAQ|      United States|      Shell Companies|            Industrials|        Blank Checks|Finance Insurance...|\n",
      "|     10453|ARMADA ACQUISITIO...|2024-06-22 07:57:...|         AACIW|              false|Domestic Common S...|             USD| Pennsylvania; U.S.A|               NASDAQ|      United States|      Shell Companies|            Industrials|        Blank Checks|Finance Insurance...|\n",
      "|         9|AFRICAN AGRICULTU...|2024-06-22 07:57:...|          AAGR|              false|Domestic Common S...|             USD|     New York; U.S.A|               NASDAQ|      United States|        Farm Products|     Consumer Defensive|Agricultural Prod...|Agriculture Fores...|\n",
      "|     10456|AFRICAN AGRICULTU...|2024-06-22 07:57:...|         AAGRW|              false|Domestic Common S...|             USD|     New York; U.S.A|               NASDAQ|      United States|        Farm Products|     Consumer Defensive|Agricultural Prod...|Agriculture Fores...|\n",
      "|     13157|AMBASSADOR APARTM...|2024-06-22 07:57:...|           AAH|               true|Domestic Common S...|             USD|     Illinois; U.S.A|                 NYSE|      United States|      REIT - Mortgage|            Real Estate|Real Estate Inves...|Finance Insurance...|\n",
      "|     17543|ARLINGTON ASSET I...|2024-06-22 07:57:...|       AAIC-PB|               true|Domestic Preferre...|             USD|     Virginia; U.S.A|                 NYSE|      United States|      REIT - Mortgage|            Real Estate|Real Estate Inves...|Finance Insurance...|\n",
      "|     17544|ARLINGTON ASSET I...|2024-06-22 07:57:...|       AAIC-PC|               true|Domestic Preferre...|             USD|     Virginia; U.S.A|                 NYSE|      United States|      REIT - Mortgage|            Real Estate|Real Estate Inves...|Finance Insurance...|\n",
      "|        11|ALABAMA AIRCRAFT ...|2024-06-22 07:57:...|         AAIIQ|               true|Domestic Common S...|             USD|      Alabama; U.S.A|               NASDAQ|      United States|  Aerospace & Defense|            Industrials|            Aircraft|       Manufacturing|\n",
      "|        12|       AAIPHARMA INC|2024-06-22 07:57:...|        AAIIQ1|               true|Domestic Common S...|             USD|North Carolina; U...|               NASDAQ|      United States| Diagnostics & Res...|             Healthcare|Services-Testing ...|            Services|\n",
      "|     17545|APOLLO GLOBAL MAN...|2024-06-22 07:57:...|        AAM-PA|               true|Domestic Preferre...|             USD|     New York; U.S.A|                 NYSE|      United States|     Asset Management|     Financial Services|   Investment Advice|Finance Insurance...|\n",
      "|     17546|APOLLO GLOBAL MAN...|2024-06-22 07:57:...|        AAM-PB|               true|Domestic Preferre...|             USD|     New York; U.S.A|                 NYSE|      United States|     Asset Management|     Financial Services|   Investment Advice|Finance Insurance...|\n",
      "|     17547|   PROG HOLDINGS INC|2024-06-22 07:57:...|          AAN1|               true|Domestic Common S...|             USD|      Georgia; U.S.A|                 NYSE|      United States| Rental & Leasing ...|            Industrials|Services-Equipmen...|            Services|\n",
      "+----------+--------------------+--------------------+--------------+-------------------+--------------------+----------------+--------------------+---------------------+-------------------+---------------------+-----------------------+--------------------+--------------------+\n",
      "only showing top 20 rows\n",
      "\n"
     ]
    }
   ],
   "source": [
    "# Tạo Window specification\n",
    "windowSpec = Window.partitionBy(\"company_ticket\").orderBy(spark_df_companies[\"company_time_stamp\"].desc())\n",
    "\n",
    "# Sử dụng row_number để đánh số thứ tự và giữ lại hàng cuối cùng\n",
    "df_with_row_num = spark_df_companies.withColumn(\"row_num\", F.row_number().over(windowSpec))\n",
    "\n",
    "# Lọc để giữ lại hàng cuối cùng trong mỗi nhóm\n",
    "spark_df_companies_filtered = df_with_row_num.filter(df_with_row_num.row_num == 1).drop(\"row_num\")\n",
    "\n",
    "# Hiển thị DataFrame kết quả\n",
    "print(spark_df_companies_filtered.count())\n",
    "spark_df_companies_filtered.show()"
   ]
  },
  {
   "cell_type": "code",
   "execution_count": 63,
   "metadata": {},
   "outputs": [
    {
     "name": "stdout",
     "output_type": "stream",
     "text": [
      "Thống kê số lượng công ty ở từng sàn giao dịch:\n"
     ]
    },
    {
     "name": "stderr",
     "output_type": "stream",
     "text": [
      "24/06/22 09:36:17 WARN TaskSetManager: Stage 144 contains a task of very large size (2180 KiB). The maximum recommended task size is 1000 KiB.\n"
     ]
    },
    {
     "name": "stdout",
     "output_type": "stream",
     "text": [
      "+-------------+--------------------+\n",
      "|Sàn giao dịch|Số lượng mã niêm yết|\n",
      "+-------------+--------------------+\n",
      "|         NYSE|                6549|\n",
      "|       NASDAQ|               13148|\n",
      "+-------------+--------------------+\n",
      "\n"
     ]
    }
   ],
   "source": [
    "# Thống kê số lượng công ty ở từng sàn giao dịch\n",
    "print(\"Thống kê số lượng công ty ở từng sàn giao dịch:\")\n",
    "spark_df_companies_filtered\\\n",
    "    .groupBy(\"company_exchange_name\")\\\n",
    "    .agg(F.count(\"*\").alias(\"count\"))\\\n",
    "    .withColumnRenamed(\"company_exchange_name\", \"Sàn giao dịch\")\\\n",
    "    .withColumnRenamed(\"count\", \"Số lượng mã niêm yết\")\\\n",
    "    .show()"
   ]
  },
  {
   "cell_type": "code",
   "execution_count": 64,
   "metadata": {},
   "outputs": [
    {
     "name": "stdout",
     "output_type": "stream",
     "text": [
      "Thống kê số lượng công ty bị hủy niêm yết:\n"
     ]
    },
    {
     "name": "stderr",
     "output_type": "stream",
     "text": [
      "24/06/22 09:36:24 WARN TaskSetManager: Stage 150 contains a task of very large size (2180 KiB). The maximum recommended task size is 1000 KiB.\n"
     ]
    },
    {
     "name": "stdout",
     "output_type": "stream",
     "text": [
      "+------------------+--------+\n",
      "|Đã bị hủy niêm yết|Số lượng|\n",
      "+------------------+--------+\n",
      "|              true|   13181|\n",
      "|             false|    6516|\n",
      "+------------------+--------+\n",
      "\n"
     ]
    }
   ],
   "source": [
    "# Thống kê số lượng công ty đã và chưa bị delisted\n",
    "print(\"Thống kê số lượng công ty bị hủy niêm yết:\")\n",
    "spark_df_companies_filtered\\\n",
    "    .groupBy(\"company_is_delisted\")\\\n",
    "    .agg(F.count(\"*\").alias(\"count\"))\\\n",
    "    .withColumnRenamed(\"company_is_delisted\", \"Đã bị hủy niêm yết\")\\\n",
    "    .withColumnRenamed(\"count\", \"Số lượng\")\\\n",
    "    .show()"
   ]
  },
  {
   "cell_type": "code",
   "execution_count": 65,
   "metadata": {},
   "outputs": [
    {
     "name": "stdout",
     "output_type": "stream",
     "text": [
      "Thống kê số lượng công ty theo quốc gia:\n"
     ]
    },
    {
     "name": "stderr",
     "output_type": "stream",
     "text": [
      "24/06/22 09:36:39 WARN TaskSetManager: Stage 156 contains a task of very large size (2180 KiB). The maximum recommended task size is 1000 KiB.\n"
     ]
    },
    {
     "name": "stdout",
     "output_type": "stream",
     "text": [
      "+--------------+----------------+\n",
      "|      Quóc gia|Số lượng công ty|\n",
      "+--------------+----------------+\n",
      "|         U.S.A|           16542|\n",
      "|        Canada|             531|\n",
      "|         China|             523|\n",
      "|United Kingdom|             273|\n",
      "|        Israel|             226|\n",
      "|       Bermuda|             179|\n",
      "|Cayman Islands|             178|\n",
      "|     Hong Kong|              97|\n",
      "|     Singapore|              90|\n",
      "|       Ireland|              79|\n",
      "|        Brazil|              75|\n",
      "|   Netherlands|              60|\n",
      "|     Australia|              57|\n",
      "|       Germany|              56|\n",
      "|    Luxembourg|              51|\n",
      "|   Switzerland|              45|\n",
      "|        Mexico|              44|\n",
      "|         Japan|              44|\n",
      "|        Greece|              43|\n",
      "|        France|              41|\n",
      "+--------------+----------------+\n",
      "only showing top 20 rows\n",
      "\n"
     ]
    }
   ],
   "source": [
    "# Thống kê số lượng công ty theo quốc gia\n",
    "print(\"Thống kê số lượng công ty theo quốc gia:\")\n",
    "spark_df_companies_filtered\\\n",
    "    .withColumn(\"Quóc gia\", F.element_at(F.split(spark_df_companies_filtered[\"company_location\"], \"; \"), -1))\\\n",
    "    .drop(\"company_location\")\\\n",
    "    .groupBy(\"Quóc gia\")\\\n",
    "    .agg(F.count(\"*\").alias(\"count\"))\\\n",
    "    .orderBy(F.col(\"count\").desc())\\\n",
    "    .withColumnRenamed(\"count\", \"Số lượng công ty\")\\\n",
    "    .show()"
   ]
  },
  {
   "cell_type": "code",
   "execution_count": 66,
   "metadata": {},
   "outputs": [
    {
     "name": "stdout",
     "output_type": "stream",
     "text": [
      "Thống kê số lượng công ty theo ngành công nghiệp:\n"
     ]
    },
    {
     "name": "stderr",
     "output_type": "stream",
     "text": [
      "24/06/22 09:37:00 WARN TaskSetManager: Stage 162 contains a task of very large size (2180 KiB). The maximum recommended task size is 1000 KiB.\n"
     ]
    },
    {
     "name": "stdout",
     "output_type": "stream",
     "text": [
      "+--------------------+----------------+\n",
      "|            Industry|Số lượng công ty|\n",
      "+--------------------+----------------+\n",
      "|         Industrials|            3687|\n",
      "|          Technology|            3391|\n",
      "|          Healthcare|            2989|\n",
      "|  Financial Services|            2887|\n",
      "|   Consumer Cyclical|            1900|\n",
      "|Communication Ser...|            1116|\n",
      "|         Real Estate|             985|\n",
      "|              Energy|             844|\n",
      "|     Basic Materials|             817|\n",
      "|  Consumer Defensive|             714|\n",
      "|           Utilities|             367|\n",
      "+--------------------+----------------+\n",
      "\n"
     ]
    }
   ],
   "source": [
    "# Thống kê số lượng công ty theo ngành công nghiệp\n",
    "print(\"Thống kê số lượng công ty theo ngành công nghiệp:\")\n",
    "spark_df_companies_filtered\\\n",
    "    .groupBy(\"company_industry_sector\")\\\n",
    "    .agg(F.count(\"*\").alias(\"count\"))\\\n",
    "    .orderBy(F.col(\"count\").desc())\\\n",
    "    .withColumnRenamed(\"company_industry_sector\", \"Industry\")\\\n",
    "    .withColumnRenamed(\"count\", \"Số lượng công ty\")\\\n",
    "    .show()"
   ]
  },
  {
   "cell_type": "code",
   "execution_count": 67,
   "metadata": {},
   "outputs": [
    {
     "name": "stdout",
     "output_type": "stream",
     "text": [
      "Thống kê số lượng công ty theo ngành công nghiệp SIC:\n"
     ]
    },
    {
     "name": "stderr",
     "output_type": "stream",
     "text": [
      "24/06/22 09:37:11 WARN TaskSetManager: Stage 168 contains a task of very large size (2180 KiB). The maximum recommended task size is 1000 KiB.\n",
      "[Stage 168:>                                                        (0 + 2) / 2]\r"
     ]
    },
    {
     "name": "stdout",
     "output_type": "stream",
     "text": [
      "+--------------------+----------------+\n",
      "|        SIC Industry|Số lượng công ty|\n",
      "+--------------------+----------------+\n",
      "|       Manufacturing|            6394|\n",
      "|Finance Insurance...|            5722|\n",
      "|            Services|            3762|\n",
      "|Transportation Co...|            1597|\n",
      "|        Retail Trade|             869|\n",
      "|              Mining|             705|\n",
      "|     Wholesale Trade|             418|\n",
      "|        Construction|             160|\n",
      "|Agriculture Fores...|              70|\n",
      "+--------------------+----------------+\n",
      "\n"
     ]
    },
    {
     "name": "stderr",
     "output_type": "stream",
     "text": [
      "                                                                                \r"
     ]
    }
   ],
   "source": [
    "# Thống kê số lượng công ty theo ngành công nghiệp SIC\n",
    "print(\"Thống kê số lượng công ty theo ngành công nghiệp SIC:\")\n",
    "spark_df_companies_filtered\\\n",
    "    .groupBy(\"company_sic_sector\")\\\n",
    "    .agg(F.count(\"*\").alias(\"count\"))\\\n",
    "    .orderBy(F.col(\"count\").desc())\\\n",
    "    .withColumnRenamed(\"company_sic_sector\", \"SIC Industry\")\\\n",
    "    .withColumnRenamed(\"count\", \"Số lượng công ty\")\\\n",
    "    .show()"
   ]
  },
  {
   "cell_type": "code",
   "execution_count": 68,
   "metadata": {},
   "outputs": [
    {
     "name": "stdout",
     "output_type": "stream",
     "text": [
      "Thống kê số lượng công ty theo loại hình công ty:\n"
     ]
    },
    {
     "name": "stderr",
     "output_type": "stream",
     "text": [
      "24/06/22 09:37:22 WARN TaskSetManager: Stage 174 contains a task of very large size (2180 KiB). The maximum recommended task size is 1000 KiB.\n"
     ]
    },
    {
     "name": "stdout",
     "output_type": "stream",
     "text": [
      "+--------------------+----------------+\n",
      "|            Category|Số lượng công ty|\n",
      "+--------------------+----------------+\n",
      "|Domestic Common S...|           12180|\n",
      "|Domestic Common S...|            1809|\n",
      "|    ADR Common Stock|            1482|\n",
      "|Domestic Common S...|            1296|\n",
      "|Domestic Common S...|            1028|\n",
      "|Domestic Preferre...|            1025|\n",
      "|Canadian Common S...|             247|\n",
      "|ADR Common Stock ...|             221|\n",
      "|ADR Common Stock ...|             179|\n",
      "|ADR Common Stock ...|             122|\n",
      "| ADR Preferred Stock|              89|\n",
      "|Canadian Common S...|              10|\n",
      "|Canadian Common S...|               4|\n",
      "|Canadian Preferre...|               3|\n",
      "|Canadian Common S...|               2|\n",
      "+--------------------+----------------+\n",
      "\n"
     ]
    }
   ],
   "source": [
    "# Thống kê số lượng công ty theo loại hình công ty\n",
    "print(\"Thống kê số lượng công ty theo loại hình công ty:\")\n",
    "spark_df_companies_filtered\\\n",
    "    .groupBy(\"company_category\")\\\n",
    "    .agg(F.count(\"*\").alias(\"count\"))\\\n",
    "    .orderBy(F.col(\"count\").desc())\\\n",
    "    .withColumnRenamed(\"company_category\", \"Category\")\\\n",
    "    .withColumnRenamed(\"count\", \"Số lượng công ty\")\\\n",
    "    .show()"
   ]
  },
  {
   "cell_type": "markdown",
   "metadata": {},
   "source": [
    "## 2. Quan sát và phân tích Fact Candles"
   ]
  },
  {
   "cell_type": "code",
   "execution_count": 69,
   "metadata": {},
   "outputs": [],
   "source": [
    "# Connect to the DuckDB database\n",
    "duck_conn = duckdb.connect('/home/anhcu/Final_ETL_App/etl-app/datawarehouse.duckdb')\n",
    "query = 'SELECT * FROM fact_candles'\n",
    "\n",
    "# Fetch data from DuckDB and convert to Pandas DataFrame\n",
    "pandas_df = duck_conn.execute(query).fetchdf()\n",
    "\n",
    "duck_conn.close()"
   ]
  },
  {
   "cell_type": "code",
   "execution_count": 70,
   "metadata": {},
   "outputs": [
    {
     "data": {
      "text/html": [
       "<div>\n",
       "<style scoped>\n",
       "    .dataframe tbody tr th:only-of-type {\n",
       "        vertical-align: middle;\n",
       "    }\n",
       "\n",
       "    .dataframe tbody tr th {\n",
       "        vertical-align: top;\n",
       "    }\n",
       "\n",
       "    .dataframe thead th {\n",
       "        text-align: right;\n",
       "    }\n",
       "</style>\n",
       "<table border=\"1\" class=\"dataframe\">\n",
       "  <thead>\n",
       "    <tr style=\"text-align: right;\">\n",
       "      <th></th>\n",
       "      <th>candle_id</th>\n",
       "      <th>candle_company_id</th>\n",
       "      <th>candle_volume</th>\n",
       "      <th>candle_volume_weighted</th>\n",
       "      <th>candle_open</th>\n",
       "      <th>candle_close</th>\n",
       "      <th>candle_high</th>\n",
       "      <th>candle_low</th>\n",
       "      <th>candle_time_stamp</th>\n",
       "      <th>candle_num_of_trades</th>\n",
       "      <th>candle_is_otc</th>\n",
       "      <th>candles_time_id</th>\n",
       "    </tr>\n",
       "  </thead>\n",
       "  <tbody>\n",
       "    <tr>\n",
       "      <th>0</th>\n",
       "      <td>1</td>\n",
       "      <td>5</td>\n",
       "      <td>2720</td>\n",
       "      <td>11.4063</td>\n",
       "      <td>11.3700</td>\n",
       "      <td>11.4000</td>\n",
       "      <td>11.450</td>\n",
       "      <td>11.3700</td>\n",
       "      <td>1718136000000</td>\n",
       "      <td>33</td>\n",
       "      <td>NaN</td>\n",
       "      <td>1</td>\n",
       "    </tr>\n",
       "    <tr>\n",
       "      <th>1</th>\n",
       "      <td>2</td>\n",
       "      <td>7</td>\n",
       "      <td>129357</td>\n",
       "      <td>1.7232</td>\n",
       "      <td>1.7200</td>\n",
       "      <td>1.7300</td>\n",
       "      <td>1.740</td>\n",
       "      <td>1.7000</td>\n",
       "      <td>1718136000000</td>\n",
       "      <td>806</td>\n",
       "      <td>NaN</td>\n",
       "      <td>1</td>\n",
       "    </tr>\n",
       "    <tr>\n",
       "      <th>2</th>\n",
       "      <td>3</td>\n",
       "      <td>9</td>\n",
       "      <td>33671</td>\n",
       "      <td>0.3436</td>\n",
       "      <td>0.3525</td>\n",
       "      <td>0.3524</td>\n",
       "      <td>0.358</td>\n",
       "      <td>0.3200</td>\n",
       "      <td>1718136000000</td>\n",
       "      <td>180</td>\n",
       "      <td>NaN</td>\n",
       "      <td>1</td>\n",
       "    </tr>\n",
       "    <tr>\n",
       "      <th>3</th>\n",
       "      <td>4</td>\n",
       "      <td>13</td>\n",
       "      <td>25343916</td>\n",
       "      <td>11.3268</td>\n",
       "      <td>11.4100</td>\n",
       "      <td>11.2800</td>\n",
       "      <td>11.450</td>\n",
       "      <td>11.2600</td>\n",
       "      <td>1718136000000</td>\n",
       "      <td>72704</td>\n",
       "      <td>NaN</td>\n",
       "      <td>1</td>\n",
       "    </tr>\n",
       "    <tr>\n",
       "      <th>4</th>\n",
       "      <td>5</td>\n",
       "      <td>14</td>\n",
       "      <td>1531</td>\n",
       "      <td>1.8192</td>\n",
       "      <td>1.8200</td>\n",
       "      <td>1.8340</td>\n",
       "      <td>1.834</td>\n",
       "      <td>1.8001</td>\n",
       "      <td>1718136000000</td>\n",
       "      <td>46</td>\n",
       "      <td>NaN</td>\n",
       "      <td>1</td>\n",
       "    </tr>\n",
       "    <tr>\n",
       "      <th>...</th>\n",
       "      <td>...</td>\n",
       "      <td>...</td>\n",
       "      <td>...</td>\n",
       "      <td>...</td>\n",
       "      <td>...</td>\n",
       "      <td>...</td>\n",
       "      <td>...</td>\n",
       "      <td>...</td>\n",
       "      <td>...</td>\n",
       "      <td>...</td>\n",
       "      <td>...</td>\n",
       "      <td>...</td>\n",
       "    </tr>\n",
       "    <tr>\n",
       "      <th>48749</th>\n",
       "      <td>48750</td>\n",
       "      <td>19688</td>\n",
       "      <td>267774</td>\n",
       "      <td>11.8107</td>\n",
       "      <td>11.7900</td>\n",
       "      <td>11.8500</td>\n",
       "      <td>11.910</td>\n",
       "      <td>11.7350</td>\n",
       "      <td>1719000000000</td>\n",
       "      <td>2793</td>\n",
       "      <td>NaN</td>\n",
       "      <td>11</td>\n",
       "    </tr>\n",
       "    <tr>\n",
       "      <th>48750</th>\n",
       "      <td>48751</td>\n",
       "      <td>19690</td>\n",
       "      <td>224813</td>\n",
       "      <td>2.8716</td>\n",
       "      <td>2.8500</td>\n",
       "      <td>2.8500</td>\n",
       "      <td>2.940</td>\n",
       "      <td>2.8109</td>\n",
       "      <td>1719000000000</td>\n",
       "      <td>1975</td>\n",
       "      <td>NaN</td>\n",
       "      <td>11</td>\n",
       "    </tr>\n",
       "    <tr>\n",
       "      <th>48751</th>\n",
       "      <td>48752</td>\n",
       "      <td>19691</td>\n",
       "      <td>209760</td>\n",
       "      <td>21.5625</td>\n",
       "      <td>21.8300</td>\n",
       "      <td>21.1600</td>\n",
       "      <td>22.110</td>\n",
       "      <td>21.1500</td>\n",
       "      <td>1719000000000</td>\n",
       "      <td>2341</td>\n",
       "      <td>NaN</td>\n",
       "      <td>11</td>\n",
       "    </tr>\n",
       "    <tr>\n",
       "      <th>48752</th>\n",
       "      <td>48753</td>\n",
       "      <td>19692</td>\n",
       "      <td>155437</td>\n",
       "      <td>3.7196</td>\n",
       "      <td>3.7600</td>\n",
       "      <td>3.7500</td>\n",
       "      <td>3.800</td>\n",
       "      <td>3.6000</td>\n",
       "      <td>1719000000000</td>\n",
       "      <td>588</td>\n",
       "      <td>NaN</td>\n",
       "      <td>11</td>\n",
       "    </tr>\n",
       "    <tr>\n",
       "      <th>48753</th>\n",
       "      <td>48754</td>\n",
       "      <td>19696</td>\n",
       "      <td>2308589</td>\n",
       "      <td>21.3421</td>\n",
       "      <td>21.3200</td>\n",
       "      <td>21.3200</td>\n",
       "      <td>21.460</td>\n",
       "      <td>21.1400</td>\n",
       "      <td>1719000000000</td>\n",
       "      <td>17146</td>\n",
       "      <td>NaN</td>\n",
       "      <td>11</td>\n",
       "    </tr>\n",
       "  </tbody>\n",
       "</table>\n",
       "<p>48754 rows × 12 columns</p>\n",
       "</div>"
      ],
      "text/plain": [
       "       candle_id  candle_company_id  candle_volume  candle_volume_weighted  \\\n",
       "0              1                  5           2720                 11.4063   \n",
       "1              2                  7         129357                  1.7232   \n",
       "2              3                  9          33671                  0.3436   \n",
       "3              4                 13       25343916                 11.3268   \n",
       "4              5                 14           1531                  1.8192   \n",
       "...          ...                ...            ...                     ...   \n",
       "48749      48750              19688         267774                 11.8107   \n",
       "48750      48751              19690         224813                  2.8716   \n",
       "48751      48752              19691         209760                 21.5625   \n",
       "48752      48753              19692         155437                  3.7196   \n",
       "48753      48754              19696        2308589                 21.3421   \n",
       "\n",
       "       candle_open  candle_close  candle_high  candle_low candle_time_stamp  \\\n",
       "0          11.3700       11.4000       11.450     11.3700     1718136000000   \n",
       "1           1.7200        1.7300        1.740      1.7000     1718136000000   \n",
       "2           0.3525        0.3524        0.358      0.3200     1718136000000   \n",
       "3          11.4100       11.2800       11.450     11.2600     1718136000000   \n",
       "4           1.8200        1.8340        1.834      1.8001     1718136000000   \n",
       "...            ...           ...          ...         ...               ...   \n",
       "48749      11.7900       11.8500       11.910     11.7350     1719000000000   \n",
       "48750       2.8500        2.8500        2.940      2.8109     1719000000000   \n",
       "48751      21.8300       21.1600       22.110     21.1500     1719000000000   \n",
       "48752       3.7600        3.7500        3.800      3.6000     1719000000000   \n",
       "48753      21.3200       21.3200       21.460     21.1400     1719000000000   \n",
       "\n",
       "       candle_num_of_trades candle_is_otc  candles_time_id  \n",
       "0                        33           NaN                1  \n",
       "1                       806           NaN                1  \n",
       "2                       180           NaN                1  \n",
       "3                     72704           NaN                1  \n",
       "4                        46           NaN                1  \n",
       "...                     ...           ...              ...  \n",
       "48749                  2793           NaN               11  \n",
       "48750                  1975           NaN               11  \n",
       "48751                  2341           NaN               11  \n",
       "48752                   588           NaN               11  \n",
       "48753                 17146           NaN               11  \n",
       "\n",
       "[48754 rows x 12 columns]"
      ]
     },
     "execution_count": 70,
     "metadata": {},
     "output_type": "execute_result"
    }
   ],
   "source": [
    "pandas_df"
   ]
  },
  {
   "cell_type": "code",
   "execution_count": 71,
   "metadata": {},
   "outputs": [
    {
     "name": "stderr",
     "output_type": "stream",
     "text": [
      "/tmp/ipykernel_403647/1880719106.py:6: FutureWarning: The behavior of 'to_datetime' with 'unit' when parsing strings is deprecated. In a future version, strings will be parsed as datetime strings, matching the behavior without a 'unit'. To retain the old behavior, explicitly cast ints or floats to numeric type before calling to_datetime.\n",
      "  pandas_df['candle_time_stamp'] = pd.to_datetime(pandas_df['candle_time_stamp'], unit='ms')\n"
     ]
    },
    {
     "data": {
      "text/html": [
       "<div>\n",
       "<style scoped>\n",
       "    .dataframe tbody tr th:only-of-type {\n",
       "        vertical-align: middle;\n",
       "    }\n",
       "\n",
       "    .dataframe tbody tr th {\n",
       "        vertical-align: top;\n",
       "    }\n",
       "\n",
       "    .dataframe thead th {\n",
       "        text-align: right;\n",
       "    }\n",
       "</style>\n",
       "<table border=\"1\" class=\"dataframe\">\n",
       "  <thead>\n",
       "    <tr style=\"text-align: right;\">\n",
       "      <th></th>\n",
       "      <th>candle_id</th>\n",
       "      <th>candle_company_id</th>\n",
       "      <th>candle_volume</th>\n",
       "      <th>candle_volume_weighted</th>\n",
       "      <th>candle_open</th>\n",
       "      <th>candle_close</th>\n",
       "      <th>candle_high</th>\n",
       "      <th>candle_low</th>\n",
       "      <th>candle_time_stamp</th>\n",
       "      <th>candle_num_of_trades</th>\n",
       "      <th>candle_is_otc</th>\n",
       "    </tr>\n",
       "  </thead>\n",
       "  <tbody>\n",
       "    <tr>\n",
       "      <th>0</th>\n",
       "      <td>1</td>\n",
       "      <td>5</td>\n",
       "      <td>2720</td>\n",
       "      <td>11.4063</td>\n",
       "      <td>11.3700</td>\n",
       "      <td>11.4000</td>\n",
       "      <td>11.450</td>\n",
       "      <td>11.3700</td>\n",
       "      <td>2024-06-11 19:59:07.264</td>\n",
       "      <td>33</td>\n",
       "      <td>False</td>\n",
       "    </tr>\n",
       "    <tr>\n",
       "      <th>1</th>\n",
       "      <td>2</td>\n",
       "      <td>7</td>\n",
       "      <td>129357</td>\n",
       "      <td>1.7232</td>\n",
       "      <td>1.7200</td>\n",
       "      <td>1.7300</td>\n",
       "      <td>1.740</td>\n",
       "      <td>1.7000</td>\n",
       "      <td>2024-06-11 19:59:07.264</td>\n",
       "      <td>806</td>\n",
       "      <td>False</td>\n",
       "    </tr>\n",
       "    <tr>\n",
       "      <th>2</th>\n",
       "      <td>3</td>\n",
       "      <td>9</td>\n",
       "      <td>33671</td>\n",
       "      <td>0.3436</td>\n",
       "      <td>0.3525</td>\n",
       "      <td>0.3524</td>\n",
       "      <td>0.358</td>\n",
       "      <td>0.3200</td>\n",
       "      <td>2024-06-11 19:59:07.264</td>\n",
       "      <td>180</td>\n",
       "      <td>False</td>\n",
       "    </tr>\n",
       "    <tr>\n",
       "      <th>3</th>\n",
       "      <td>4</td>\n",
       "      <td>13</td>\n",
       "      <td>25343916</td>\n",
       "      <td>11.3268</td>\n",
       "      <td>11.4100</td>\n",
       "      <td>11.2800</td>\n",
       "      <td>11.450</td>\n",
       "      <td>11.2600</td>\n",
       "      <td>2024-06-11 19:59:07.264</td>\n",
       "      <td>72704</td>\n",
       "      <td>False</td>\n",
       "    </tr>\n",
       "    <tr>\n",
       "      <th>4</th>\n",
       "      <td>5</td>\n",
       "      <td>14</td>\n",
       "      <td>1531</td>\n",
       "      <td>1.8192</td>\n",
       "      <td>1.8200</td>\n",
       "      <td>1.8340</td>\n",
       "      <td>1.834</td>\n",
       "      <td>1.8001</td>\n",
       "      <td>2024-06-11 19:59:07.264</td>\n",
       "      <td>46</td>\n",
       "      <td>False</td>\n",
       "    </tr>\n",
       "    <tr>\n",
       "      <th>...</th>\n",
       "      <td>...</td>\n",
       "      <td>...</td>\n",
       "      <td>...</td>\n",
       "      <td>...</td>\n",
       "      <td>...</td>\n",
       "      <td>...</td>\n",
       "      <td>...</td>\n",
       "      <td>...</td>\n",
       "      <td>...</td>\n",
       "      <td>...</td>\n",
       "      <td>...</td>\n",
       "    </tr>\n",
       "    <tr>\n",
       "      <th>48749</th>\n",
       "      <td>48750</td>\n",
       "      <td>19688</td>\n",
       "      <td>267774</td>\n",
       "      <td>11.8107</td>\n",
       "      <td>11.7900</td>\n",
       "      <td>11.8500</td>\n",
       "      <td>11.910</td>\n",
       "      <td>11.7350</td>\n",
       "      <td>2024-06-21 19:59:33.888</td>\n",
       "      <td>2793</td>\n",
       "      <td>False</td>\n",
       "    </tr>\n",
       "    <tr>\n",
       "      <th>48750</th>\n",
       "      <td>48751</td>\n",
       "      <td>19690</td>\n",
       "      <td>224813</td>\n",
       "      <td>2.8716</td>\n",
       "      <td>2.8500</td>\n",
       "      <td>2.8500</td>\n",
       "      <td>2.940</td>\n",
       "      <td>2.8109</td>\n",
       "      <td>2024-06-21 19:59:33.888</td>\n",
       "      <td>1975</td>\n",
       "      <td>False</td>\n",
       "    </tr>\n",
       "    <tr>\n",
       "      <th>48751</th>\n",
       "      <td>48752</td>\n",
       "      <td>19691</td>\n",
       "      <td>209760</td>\n",
       "      <td>21.5625</td>\n",
       "      <td>21.8300</td>\n",
       "      <td>21.1600</td>\n",
       "      <td>22.110</td>\n",
       "      <td>21.1500</td>\n",
       "      <td>2024-06-21 19:59:33.888</td>\n",
       "      <td>2341</td>\n",
       "      <td>False</td>\n",
       "    </tr>\n",
       "    <tr>\n",
       "      <th>48752</th>\n",
       "      <td>48753</td>\n",
       "      <td>19692</td>\n",
       "      <td>155437</td>\n",
       "      <td>3.7196</td>\n",
       "      <td>3.7600</td>\n",
       "      <td>3.7500</td>\n",
       "      <td>3.800</td>\n",
       "      <td>3.6000</td>\n",
       "      <td>2024-06-21 19:59:33.888</td>\n",
       "      <td>588</td>\n",
       "      <td>False</td>\n",
       "    </tr>\n",
       "    <tr>\n",
       "      <th>48753</th>\n",
       "      <td>48754</td>\n",
       "      <td>19696</td>\n",
       "      <td>2308589</td>\n",
       "      <td>21.3421</td>\n",
       "      <td>21.3200</td>\n",
       "      <td>21.3200</td>\n",
       "      <td>21.460</td>\n",
       "      <td>21.1400</td>\n",
       "      <td>2024-06-21 19:59:33.888</td>\n",
       "      <td>17146</td>\n",
       "      <td>False</td>\n",
       "    </tr>\n",
       "  </tbody>\n",
       "</table>\n",
       "<p>48754 rows × 11 columns</p>\n",
       "</div>"
      ],
      "text/plain": [
       "       candle_id  candle_company_id  candle_volume  candle_volume_weighted  \\\n",
       "0              1                  5           2720                 11.4063   \n",
       "1              2                  7         129357                  1.7232   \n",
       "2              3                  9          33671                  0.3436   \n",
       "3              4                 13       25343916                 11.3268   \n",
       "4              5                 14           1531                  1.8192   \n",
       "...          ...                ...            ...                     ...   \n",
       "48749      48750              19688         267774                 11.8107   \n",
       "48750      48751              19690         224813                  2.8716   \n",
       "48751      48752              19691         209760                 21.5625   \n",
       "48752      48753              19692         155437                  3.7196   \n",
       "48753      48754              19696        2308589                 21.3421   \n",
       "\n",
       "       candle_open  candle_close  candle_high  candle_low  \\\n",
       "0          11.3700       11.4000       11.450     11.3700   \n",
       "1           1.7200        1.7300        1.740      1.7000   \n",
       "2           0.3525        0.3524        0.358      0.3200   \n",
       "3          11.4100       11.2800       11.450     11.2600   \n",
       "4           1.8200        1.8340        1.834      1.8001   \n",
       "...            ...           ...          ...         ...   \n",
       "48749      11.7900       11.8500       11.910     11.7350   \n",
       "48750       2.8500        2.8500        2.940      2.8109   \n",
       "48751      21.8300       21.1600       22.110     21.1500   \n",
       "48752       3.7600        3.7500        3.800      3.6000   \n",
       "48753      21.3200       21.3200       21.460     21.1400   \n",
       "\n",
       "            candle_time_stamp  candle_num_of_trades  candle_is_otc  \n",
       "0     2024-06-11 19:59:07.264                    33          False  \n",
       "1     2024-06-11 19:59:07.264                   806          False  \n",
       "2     2024-06-11 19:59:07.264                   180          False  \n",
       "3     2024-06-11 19:59:07.264                 72704          False  \n",
       "4     2024-06-11 19:59:07.264                    46          False  \n",
       "...                       ...                   ...            ...  \n",
       "48749 2024-06-21 19:59:33.888                  2793          False  \n",
       "48750 2024-06-21 19:59:33.888                  1975          False  \n",
       "48751 2024-06-21 19:59:33.888                  2341          False  \n",
       "48752 2024-06-21 19:59:33.888                   588          False  \n",
       "48753 2024-06-21 19:59:33.888                 17146          False  \n",
       "\n",
       "[48754 rows x 11 columns]"
      ]
     },
     "execution_count": 71,
     "metadata": {},
     "output_type": "execute_result"
    }
   ],
   "source": [
    "# Loại bỏ các cột không cần thiết\n",
    "pandas_df.drop(columns=['candles_time_id'], inplace=True)\n",
    "\n",
    "# Chuyển đổi kiểu dữ liệu\n",
    "pandas_df['candle_is_otc'] = pandas_df['candle_is_otc'].fillna(False).astype(bool)\n",
    "pandas_df['candle_time_stamp'] = pd.to_datetime(pandas_df['candle_time_stamp'], unit='ms')\n",
    "\n",
    "pandas_df"
   ]
  },
  {
   "cell_type": "code",
   "execution_count": 72,
   "metadata": {},
   "outputs": [
    {
     "name": "stderr",
     "output_type": "stream",
     "text": [
      "24/06/22 09:37:47 WARN TaskSetManager: Stage 180 contains a task of very large size (1713 KiB). The maximum recommended task size is 1000 KiB.\n"
     ]
    },
    {
     "name": "stdout",
     "output_type": "stream",
     "text": [
      "48754\n",
      "+---------+-----------------+-------------+----------------------+-----------+------------+-----------+----------+--------------------+--------------------+-------------+\n",
      "|candle_id|candle_company_id|candle_volume|candle_volume_weighted|candle_open|candle_close|candle_high|candle_low|   candle_time_stamp|candle_num_of_trades|candle_is_otc|\n",
      "+---------+-----------------+-------------+----------------------+-----------+------------+-----------+----------+--------------------+--------------------+-------------+\n",
      "|        1|                5|         2720|               11.4063|      11.37|        11.4|      11.45|     11.37|2024-06-11 19:59:...|                  33|        false|\n",
      "|        2|                7|       129357|                1.7232|       1.72|        1.73|       1.74|       1.7|2024-06-11 19:59:...|                 806|        false|\n",
      "|        3|                9|        33671|                0.3436|     0.3525|      0.3524|      0.358|      0.32|2024-06-11 19:59:...|                 180|        false|\n",
      "|        4|               13|     25343916|               11.3268|      11.41|       11.28|      11.45|     11.26|2024-06-11 19:59:...|               72704|        false|\n",
      "|        5|               14|         1531|                1.8192|       1.82|       1.834|      1.834|    1.8001|2024-06-11 19:59:...|                  46|        false|\n",
      "|        6|               16|      1957031|               10.0585|      10.23|       10.17|      10.32|      9.86|2024-06-11 19:59:...|               19258|        false|\n",
      "|        7|               17|       501889|               72.2497|      72.16|       72.73|      72.79|     70.92|2024-06-11 19:59:...|               11197|        false|\n",
      "|        8|               19|    169677009|              203.1517|     193.65|      207.15|     207.16|    193.63|2024-06-11 19:59:...|             1601717|        false|\n",
      "|        9|               21|         6271|                6.1175|        6.1|       6.155|       6.19|       6.1|2024-06-11 19:59:...|                  32|         true|\n",
      "|       10|               29|       274491|                1.2304|       1.26|        1.22|     1.2999|       1.2|2024-06-11 19:59:...|                1627|        false|\n",
      "|       11|               34|       250082|               46.8152|      46.43|       46.83|      47.16|      45.9|2024-06-11 19:59:...|                7232|        false|\n",
      "|       12|               37|      3473023|                3.4251|        3.5|        3.43|     3.5392|     3.345|2024-06-11 19:59:...|               16393|        false|\n",
      "|       13|               47|       584275|                4.5072|       4.45|        4.45|       4.66|       4.4|2024-06-11 19:59:...|                4081|        false|\n",
      "|       14|               53|        13612|                3.2602|        3.2|        3.28|     3.3261|       3.2|2024-06-11 19:59:...|                 166|        false|\n",
      "|       15|               58|        35951|               10.8148|      11.52|       10.49|      11.66|     10.31|2024-06-11 19:59:...|                 447|        false|\n",
      "|       16|               60|         3290|                 1.209|     1.2453|        1.22|       1.25|      1.05|2024-06-11 19:59:...|                  51|        false|\n",
      "|       17|               63|      3235590|              147.7091|     147.97|      147.75|    148.795|    146.48|2024-06-11 19:59:...|               50447|        false|\n",
      "|       18|               66|       336248|                2.6692|       2.58|        2.65|      2.735|      2.57|2024-06-11 19:59:...|                4811|        false|\n",
      "|       19|               71|       831494|                4.4651|        4.5|        4.51|      4.521|      4.37|2024-06-11 19:59:...|                9297|        false|\n",
      "|       20|               76|          977|                0.6484|       0.66|      0.6298|       0.66|    0.6298|2024-06-11 19:59:...|                  19|        false|\n",
      "+---------+-----------------+-------------+----------------------+-----------+------------+-----------+----------+--------------------+--------------------+-------------+\n",
      "only showing top 20 rows\n",
      "\n"
     ]
    },
    {
     "name": "stderr",
     "output_type": "stream",
     "text": [
      "24/06/22 09:37:47 WARN TaskSetManager: Stage 183 contains a task of very large size (1713 KiB). The maximum recommended task size is 1000 KiB.\n"
     ]
    }
   ],
   "source": [
    "# Xác định schema\n",
    "schema = StructType([\n",
    "    StructField(\"candle_id\", IntegerType(), True),\n",
    "    StructField(\"candle_company_id\", IntegerType(), True),\n",
    "    StructField(\"candle_volume\", LongType(), True),\n",
    "    StructField(\"candle_volume_weighted\", DoubleType(), True),\n",
    "    StructField(\"candle_open\", DoubleType(), True),\n",
    "    StructField(\"candle_close\", DoubleType(), True),\n",
    "    StructField(\"candle_high\", DoubleType(), True),\n",
    "    StructField(\"candle_low\", DoubleType(), True),\n",
    "    StructField(\"candle_time_stamp\", TimestampType(), True),\n",
    "    StructField(\"candle_num_of_trades\", IntegerType(), True),\n",
    "    StructField(\"candle_is_otc\", BooleanType(), True)\n",
    "])\n",
    "\n",
    "# Chuyển đổi Pandas DataFrame thành PySpark DataFrame với schema\n",
    "spark_df_candles = spark.createDataFrame(pandas_df, schema=schema)\n",
    "\n",
    "# Hiển thị một vài hàng của DataFrame\n",
    "print(spark_df_candles.count())\n",
    "spark_df_candles.show()"
   ]
  },
  {
   "cell_type": "code",
   "execution_count": 73,
   "metadata": {},
   "outputs": [
    {
     "name": "stdout",
     "output_type": "stream",
     "text": [
      "Thống kê khối lượng cổ phiếu được giao dịch trong ngày:\n"
     ]
    },
    {
     "name": "stderr",
     "output_type": "stream",
     "text": [
      "24/06/22 09:38:13 WARN TaskSetManager: Stage 184 contains a task of very large size (1713 KiB). The maximum recommended task size is 1000 KiB.\n",
      "[Stage 184:>                                                        (0 + 2) / 2]\r"
     ]
    },
    {
     "name": "stdout",
     "output_type": "stream",
     "text": [
      "+--------------+--------------------------------------------------+--------------------------------+---------------+\n",
      "|Ngày giao dịch|Tổng khối lượng cổ phiếu được giao dịch trong ngày|Tổng số giao dịch được thực hiện|Số lượng mã OTC|\n",
      "+--------------+--------------------------------------------------+--------------------------------+---------------+\n",
      "|    2024-06-11|                                        8249417549|                        62443178|            340|\n",
      "|    2024-06-12|                                        9194939538|                        72183673|            366|\n",
      "|    2024-06-13|                                        8152242295|                        62190290|            355|\n",
      "|    2024-06-14|                                        8057326926|                        60749531|            360|\n",
      "|    2024-06-17|                                        9225782095|                        65865260|            370|\n",
      "|    2024-06-18|                                        9301023165|                        64251738|            347|\n",
      "|    2024-06-20|                                        9652112852|                        70725979|            364|\n",
      "|    2024-06-21|                                       15044365515|                        69128639|            334|\n",
      "+--------------+--------------------------------------------------+--------------------------------+---------------+\n",
      "\n"
     ]
    },
    {
     "name": "stderr",
     "output_type": "stream",
     "text": [
      "                                                                                \r"
     ]
    }
   ],
   "source": [
    "# Thống kê khối lượng cổ phiếu được giao dịch trong ngày\n",
    "print(\"Thống kê khối lượng cổ phiếu được giao dịch trong ngày:\")\n",
    "spark_df_candles\\\n",
    "    .withColumn(\"Ngày giao dịch\", F.to_date(F.col(\"candle_time_stamp\")))\\\n",
    "    .groupBy(\"Ngày giao dịch\")\\\n",
    "    .agg(\n",
    "        F.sum(\"candle_volume\").alias(\"Tổng khối lượng cổ phiếu được giao dịch trong ngày\"),\n",
    "        F.sum(\"candle_num_of_trades\").alias(\"Tổng số giao dịch được thực hiện\"),\n",
    "        F.sum(F.when(F.col(\"candle_is_otc\") == True, 1).otherwise(0)).alias(\"Số lượng mã OTC\")\n",
    "    )\\\n",
    "    .orderBy(F.col(\"Ngày giao dịch\"))\\\n",
    "    .show()"
   ]
  },
  {
   "cell_type": "code",
   "execution_count": null,
   "metadata": {},
   "outputs": [],
   "source": [
    "# Thống kê khối lượng cổ phiếu được giao dịch trong ngày\n",
    "print(\"Thống kê khối lượng cổ phiếu được giao dịch trong ngày:\")\n",
    "result_df = spark_df_candles\\\n",
    "    .withColumn(\"Ngày giao dịch\", F.to_date(F.col(\"candle_time_stamp\")))\\\n",
    "    .groupBy(\"Ngày giao dịch\")\\\n",
    "    .agg(\n",
    "        F.sum(\"candle_volume\").alias(\"Tổng khối lượng cổ phiếu được giao dịch trong ngày\"),\n",
    "        F.sum(\"candle_num_of_trades\").alias(\"Tổng số giao dịch được thực hiện\"),\n",
    "        F.sum(F.when(F.col(\"candle_is_otc\") == True, 1).otherwise(0)).alias(\"Số lượng mã OTC\")\n",
    "    )\\\n",
    "    .orderBy(F.col(\"Ngày giao dịch\"))\\\n",
    "    .toPandas()\n",
    "    \n",
    "# Vẽ biểu đồ\n",
    "plt.figure(figsize=(10, 6))\n",
    "plt.bar(result_df[\"Khung giờ\"], result_df[\"Tổng số bài báo được phát hành\"], color='skyblue')\n",
    "plt.xlabel('Khung giờ')\n",
    "plt.ylabel('Tổng số bài báo được phát hành')\n",
    "plt.title('Số lượng bài báo theo các khung giờ')\n",
    "plt.xticks(result_df[\"Khung giờ\"])  # Đảm bảo tất cả các khung giờ được hiển thị\n",
    "plt.grid(axis='y')\n",
    "\n",
    "# Hiển thị biểu đồ\n",
    "plt.show()\n"
   ]
  },
  {
   "cell_type": "code",
   "execution_count": 76,
   "metadata": {},
   "outputs": [
    {
     "name": "stdout",
     "output_type": "stream",
     "text": [
      "Thống kê khối lượng cổ phiếu được giao dịch trong ngày:\n"
     ]
    },
    {
     "name": "stderr",
     "output_type": "stream",
     "text": [
      "24/06/22 09:42:38 WARN TaskSetManager: Stage 203 contains a task of very large size (1713 KiB). The maximum recommended task size is 1000 KiB.\n"
     ]
    },
    {
     "data": {
      "image/png": "[encoded data removed]",
      "text/plain": [
       "<Figure size 1500x600 with 1 Axes>"
      ]
     },
     "metadata": {},
     "output_type": "display_data"
    }
   ],
   "source": [
    "# Thống kê khối lượng cổ phiếu được giao dịch trong ngày\n",
    "print(\"Thống kê khối lượng cổ phiếu được giao dịch trong ngày:\")\n",
    "result_df = spark_df_candles\\\n",
    "    .withColumn(\"Ngày giao dịch\", F.to_date(F.col(\"candle_time_stamp\")))\\\n",
    "    .groupBy(\"Ngày giao dịch\")\\\n",
    "    .agg(F.sum(\"candle_volume\").alias(\"Tổng khối lượng cổ phiếu được giao dịch trong ngày\"))\\\n",
    "    .orderBy(F.col(\"Ngày giao dịch\"))\\\n",
    "    .toPandas()\n",
    "    \n",
    "# Vẽ biểu đồ\n",
    "plt.figure(figsize=(15, 6))\n",
    "plt.bar(result_df[\"Ngày giao dịch\"], result_df[\"Tổng khối lượng cổ phiếu được giao dịch trong ngày\"], color='skyblue')\n",
    "plt.xlabel('Ngày giao dịch')\n",
    "plt.ylabel('Tổng khối lượng cổ phiếu được giao dịch trong ngày')\n",
    "plt.title('Khối lượng cổ phiếu được giao dịch theo ngày')\n",
    "plt.xticks(result_df[\"Ngày giao dịch\"])  # Đảm bảo tất cả các khung giờ được hiển thị\n",
    "plt.grid(axis='y')\n",
    "\n",
    "# Hiển thị biểu đồ\n",
    "plt.show()"
   ]
  },
  {
   "cell_type": "code",
   "execution_count": 78,
   "metadata": {},
   "outputs": [
    {
     "name": "stdout",
     "output_type": "stream",
     "text": [
      "Thống kê khối lượng cổ phiếu được giao dịch trong ngày:\n"
     ]
    },
    {
     "name": "stderr",
     "output_type": "stream",
     "text": [
      "24/06/22 09:44:14 WARN TaskSetManager: Stage 219 contains a task of very large size (1713 KiB). The maximum recommended task size is 1000 KiB.\n"
     ]
    },
    {
     "data": {
      "image/png": "[encoded data removed]",
      "text/plain": [
       "<Figure size 1500x600 with 1 Axes>"
      ]
     },
     "metadata": {},
     "output_type": "display_data"
    }
   ],
   "source": [
    "# Thống kê khối lượng cổ phiếu được giao dịch trong ngày\n",
    "print(\"Thống kê khối lượng cổ phiếu được giao dịch trong ngày:\")\n",
    "result_df = spark_df_candles\\\n",
    "    .withColumn(\"Ngày giao dịch\", F.to_date(F.col(\"candle_time_stamp\")))\\\n",
    "    .groupBy(\"Ngày giao dịch\")\\\n",
    "    .agg(F.sum(\"candle_num_of_trades\").alias(\"Tổng số giao dịch được thực hiện\"))\\\n",
    "    .orderBy(F.col(\"Ngày giao dịch\"))\\\n",
    "    .toPandas()\n",
    "    \n",
    "# Vẽ biểu đồ\n",
    "plt.figure(figsize=(15, 6))\n",
    "plt.bar(result_df[\"Ngày giao dịch\"], result_df[\"Tổng số giao dịch được thực hiện\"], color='skyblue')\n",
    "plt.xlabel('Ngày giao dịch')\n",
    "plt.ylabel('Tổng số giao dịch được thực hiện')\n",
    "plt.title('Tổng số giao dịch được thực hiện theo ngày')\n",
    "plt.xticks(result_df[\"Ngày giao dịch\"])  # Đảm bảo tất cả các khung giờ được hiển thị\n",
    "plt.grid(axis='y')\n",
    "\n",
    "# Hiển thị biểu đồ\n",
    "plt.show()"
   ]
  },
  {
   "cell_type": "markdown",
   "metadata": {},
   "source": [
    "## 3. Phân tích kết hợp Dim Companies và Fact Candles"
   ]
  },
  {
   "cell_type": "code",
   "execution_count": 79,
   "metadata": {},
   "outputs": [
    {
     "name": "stderr",
     "output_type": "stream",
     "text": [
      "24/06/22 09:44:36 WARN TaskSetManager: Stage 227 contains a task of very large size (1713 KiB). The maximum recommended task size is 1000 KiB.\n",
      "24/06/22 09:44:37 WARN TaskSetManager: Stage 228 contains a task of very large size (2180 KiB). The maximum recommended task size is 1000 KiB.\n",
      "                                                                                \r"
     ]
    },
    {
     "name": "stdout",
     "output_type": "stream",
     "text": [
      "+---------+-----------------+-------------+----------------------+-----------+------------+-----------+----------+--------------------+--------------------+-------------+----------+--------------------+--------------------+--------------+-------------------+--------------------+----------------+-------------------+---------------------+-------------------+---------------------+-----------------------+--------------------+--------------------+\n",
      "|candle_id|candle_company_id|candle_volume|candle_volume_weighted|candle_open|candle_close|candle_high|candle_low|   candle_time_stamp|candle_num_of_trades|candle_is_otc|company_id|        company_name|  company_time_stamp|company_ticket|company_is_delisted|    company_category|company_currency|   company_location|company_exchange_name|company_region_name|company_industry_name|company_industry_sector|company_sic_industry|  company_sic_sector|\n",
      "+---------+-----------------+-------------+----------------------+-----------+------------+-----------+----------+--------------------+--------------------+-------------+----------+--------------------+--------------------+--------------+-------------------+--------------------+----------------+-------------------+---------------------+-------------------+---------------------+-----------------------+--------------------+--------------------+\n",
      "|    46646|            13152|      6288983|                40.014|      39.96|        40.4|      40.55|   39.1123|2024-06-21 19:59:...|               50393|        false|     13152|          ALCOA CORP|2024-06-22 07:57:...|            AA|              false|Domestic Common S...|             USD|Pennsylvania; U.S.A|                 NYSE|      United States|             Aluminum|        Basic Materials|Primary Productio...|       Manufacturing|\n",
      "|    40572|            13152|      7049507|               38.7293|       38.1|       38.98|      39.11|      37.9|2024-06-20 19:59:...|               54712|        false|     13152|          ALCOA CORP|2024-06-22 07:57:...|            AA|              false|Domestic Common S...|             USD|Pennsylvania; U.S.A|                 NYSE|      United States|             Aluminum|        Basic Materials|Primary Productio...|       Manufacturing|\n",
      "|    34449|            13152|      3838651|               37.6106|      37.01|       37.49|      38.23|     36.79|2024-06-18 20:00:...|               35876|        false|     13152|          ALCOA CORP|2024-06-22 07:57:...|            AA|              false|Domestic Common S...|             USD|Pennsylvania; U.S.A|                 NYSE|      United States|             Aluminum|        Basic Materials|Primary Productio...|       Manufacturing|\n",
      "|    28370|            13152|      3845652|               37.3382|      37.52|        37.4|      37.73|      36.9|2024-06-17 19:58:...|               36630|        false|     13152|          ALCOA CORP|2024-06-22 07:57:...|            AA|              false|Domestic Common S...|             USD|Pennsylvania; U.S.A|                 NYSE|      United States|             Aluminum|        Basic Materials|Primary Productio...|       Manufacturing|\n",
      "|    22247|            13152|      3156927|               37.7978|      37.86|        37.9|      38.15|     37.21|2024-06-14 20:00:...|               33939|        false|     13152|          ALCOA CORP|2024-06-22 07:57:...|            AA|              false|Domestic Common S...|             USD|Pennsylvania; U.S.A|                 NYSE|      United States|             Aluminum|        Basic Materials|Primary Productio...|       Manufacturing|\n",
      "|    16171|            13152|      4333335|               38.7104|      39.52|       38.54|      39.85|     38.34|2024-06-13 20:00:...|               42136|        false|     13152|          ALCOA CORP|2024-06-22 07:57:...|            AA|              false|Domestic Common S...|             USD|Pennsylvania; U.S.A|                 NYSE|      United States|             Aluminum|        Basic Materials|Primary Productio...|       Manufacturing|\n",
      "|    10067|            13152|      3292646|               40.5445|      41.64|       39.71|      42.25|     39.69|2024-06-12 20:00:...|               40580|        false|     13152|          ALCOA CORP|2024-06-22 07:57:...|            AA|              false|Domestic Common S...|             USD|Pennsylvania; U.S.A|                 NYSE|      United States|             Aluminum|        Basic Materials|Primary Productio...|       Manufacturing|\n",
      "|     3952|            13152|      3440820|               40.1498|      40.25|       40.21|      40.46|     39.56|2024-06-11 19:59:...|               37821|        false|     13152|          ALCOA CORP|2024-06-22 07:57:...|            AA|              false|Domestic Common S...|             USD|Pennsylvania; U.S.A|                 NYSE|      United States|             Aluminum|        Basic Materials|Primary Productio...|       Manufacturing|\n",
      "|    45908|            10451|         4725|                0.8123|        0.8|        0.82|     0.8299|       0.8|2024-06-21 19:59:...|                  54|        false|     10451|ATA CREATIVITY GL...|2024-06-22 07:57:...|          AACG|              false|    ADR Common Stock|             USD|              China|               NASDAQ|      United States| Education & Train...|     Consumer Defensive|Services-Educatio...|            Services|\n",
      "|    39811|            10451|         9987|                0.8266|       0.83|      0.8296|      0.845|    0.7815|2024-06-20 19:59:...|                  94|        false|     10451|ATA CREATIVITY GL...|2024-06-22 07:57:...|          AACG|              false|    ADR Common Stock|             USD|              China|               NASDAQ|      United States| Education & Train...|     Consumer Defensive|Services-Educatio...|            Services|\n",
      "|    33711|            10451|         6853|                0.8332|       0.83|      0.8409|       0.85|      0.81|2024-06-18 20:00:...|                 112|        false|     10451|ATA CREATIVITY GL...|2024-06-22 07:57:...|          AACG|              false|    ADR Common Stock|             USD|              China|               NASDAQ|      United States| Education & Train...|     Consumer Defensive|Services-Educatio...|            Services|\n",
      "|    27607|            10451|        10145|                0.8087|        0.8|        0.81|      0.847|       0.8|2024-06-17 19:58:...|                  80|        false|     10451|ATA CREATIVITY GL...|2024-06-22 07:57:...|          AACG|              false|    ADR Common Stock|             USD|              China|               NASDAQ|      United States| Education & Train...|     Consumer Defensive|Services-Educatio...|            Services|\n",
      "|    21517|            10451|         3420|                0.8253|       0.81|        0.84|   0.865299|      0.81|2024-06-14 20:00:...|                  59|        false|     10451|ATA CREATIVITY GL...|2024-06-22 07:57:...|          AACG|              false|    ADR Common Stock|             USD|              China|               NASDAQ|      United States| Education & Train...|     Consumer Defensive|Services-Educatio...|            Services|\n",
      "|    15420|            10451|         3347|                0.8264|      0.873|        0.81|      0.873|      0.81|2024-06-13 20:00:...|                  80|        false|     10451|ATA CREATIVITY GL...|2024-06-22 07:57:...|          AACG|              false|    ADR Common Stock|             USD|              China|               NASDAQ|      United States| Education & Train...|     Consumer Defensive|Services-Educatio...|            Services|\n",
      "|     9293|            10451|         6908|                 0.836|       0.82|        0.85|   0.879999|   0.80885|2024-06-12 20:00:...|                  86|        false|     10451|ATA CREATIVITY GL...|2024-06-22 07:57:...|          AACG|              false|    ADR Common Stock|             USD|              China|               NASDAQ|      United States| Education & Train...|     Consumer Defensive|Services-Educatio...|            Services|\n",
      "|     3210|            10451|        11808|                0.8254|     0.8211|        0.82|       0.87|       0.8|2024-06-11 19:59:...|                 110|        false|     10451|ATA CREATIVITY GL...|2024-06-22 07:57:...|          AACG|              false|    ADR Common Stock|             USD|              China|               NASDAQ|      United States| Education & Train...|     Consumer Defensive|Services-Educatio...|            Services|\n",
      "|    45909|            10453|          200|                  0.15|       0.15|        0.15|       0.15|      0.15|2024-06-21 19:59:...|                   1|        false|     10453|ARMADA ACQUISITIO...|2024-06-22 07:57:...|         AACIW|              false|Domestic Common S...|             USD|Pennsylvania; U.S.A|               NASDAQ|      United States|      Shell Companies|            Industrials|        Blank Checks|Finance Insurance...|\n",
      "|    39812|            10453|         2400|                0.1171|    0.11601|      0.1205|     0.1248|   0.11601|2024-06-20 19:59:...|                   5|        false|     10453|ARMADA ACQUISITIO...|2024-06-22 07:57:...|         AACIW|              false|Domestic Common S...|             USD|Pennsylvania; U.S.A|               NASDAQ|      United States|      Shell Companies|            Industrials|        Blank Checks|Finance Insurance...|\n",
      "|    21518|            10453|        38484|                0.1296|     0.1284|        0.13|       0.13|    0.1254|2024-06-14 20:00:...|                  22|        false|     10453|ARMADA ACQUISITIO...|2024-06-22 07:57:...|         AACIW|              false|Domestic Common S...|             USD|Pennsylvania; U.S.A|               NASDAQ|      United States|      Shell Companies|            Industrials|        Blank Checks|Finance Insurance...|\n",
      "|    15421|            10453|        46030|                0.1182|      0.115|      0.1217|     0.1252|     0.115|2024-06-13 20:00:...|                  39|        false|     10453|ARMADA ACQUISITIO...|2024-06-22 07:57:...|         AACIW|              false|Domestic Common S...|             USD|Pennsylvania; U.S.A|               NASDAQ|      United States|      Shell Companies|            Industrials|        Blank Checks|Finance Insurance...|\n",
      "+---------+-----------------+-------------+----------------------+-----------+------------+-----------+----------+--------------------+--------------------+-------------+----------+--------------------+--------------------+--------------+-------------------+--------------------+----------------+-------------------+---------------------+-------------------+---------------------+-----------------------+--------------------+--------------------+\n",
      "only showing top 20 rows\n",
      "\n"
     ]
    }
   ],
   "source": [
    "# Kết hợp hai bảng dựa trên company_id và candle_company_id\n",
    "joined_df = spark_df_candles.join(spark_df_companies_filtered, spark_df_candles.candle_company_id == spark_df_companies_filtered.company_id)\n",
    "\n",
    "# Hiển thị một vài hàng của DataFrame kết hợp\n",
    "joined_df.show()"
   ]
  },
  {
   "cell_type": "code",
   "execution_count": 80,
   "metadata": {},
   "outputs": [
    {
     "name": "stdout",
     "output_type": "stream",
     "text": [
      "Thống kê khối lượng giao dịch trung bình theo ngành công nghiệp\n"
     ]
    },
    {
     "name": "stderr",
     "output_type": "stream",
     "text": [
      "24/06/22 09:44:45 WARN TaskSetManager: Stage 233 contains a task of very large size (1713 KiB). The maximum recommended task size is 1000 KiB.\n",
      "24/06/22 09:44:45 WARN TaskSetManager: Stage 234 contains a task of very large size (2180 KiB). The maximum recommended task size is 1000 KiB.\n",
      "                                                                                \r"
     ]
    },
    {
     "name": "stdout",
     "output_type": "stream",
     "text": [
      "+--------------------+---------------------+\n",
      "|               Ngành|Khối lượng trung bình|\n",
      "+--------------------+---------------------+\n",
      "|          Technology|            2357104.0|\n",
      "|   Consumer Cyclical|            2117580.0|\n",
      "|              Energy|            2038546.0|\n",
      "|Communication Ser...|            1994757.0|\n",
      "|     Basic Materials|            1860275.0|\n",
      "|  Consumer Defensive|            1506694.0|\n",
      "|           Utilities|            1444863.0|\n",
      "|  Financial Services|            1293505.0|\n",
      "|          Healthcare|            1224835.0|\n",
      "|         Industrials|            1076719.0|\n",
      "|         Real Estate|            1075370.0|\n",
      "+--------------------+---------------------+\n",
      "\n",
      "Thống kê khối lượng giao dịch trung bình theo ngành công nghiệp SIC\n"
     ]
    },
    {
     "name": "stderr",
     "output_type": "stream",
     "text": [
      "24/06/22 09:44:48 WARN TaskSetManager: Stage 242 contains a task of very large size (1713 KiB). The maximum recommended task size is 1000 KiB.\n",
      "24/06/22 09:44:48 WARN TaskSetManager: Stage 243 contains a task of very large size (2180 KiB). The maximum recommended task size is 1000 KiB.\n",
      "                                                                                \r"
     ]
    },
    {
     "name": "stdout",
     "output_type": "stream",
     "text": [
      "+--------------------+---------------------+\n",
      "|           Ngành SIC|Khối lượng trung bình|\n",
      "+--------------------+---------------------+\n",
      "|              Mining|            2272506.0|\n",
      "|Transportation Co...|            1897383.0|\n",
      "|       Manufacturing|            1892532.0|\n",
      "|        Retail Trade|            1855506.0|\n",
      "|            Services|            1595140.0|\n",
      "|Finance Insurance...|             874855.0|\n",
      "|     Wholesale Trade|             771310.0|\n",
      "|        Construction|             542432.0|\n",
      "|Agriculture Fores...|             376812.0|\n",
      "+--------------------+---------------------+\n",
      "\n"
     ]
    }
   ],
   "source": [
    "# Thống kê khối lượng giao dịch trung bình theo ngành công nghiệp\n",
    "print('Thống kê khối lượng giao dịch trung bình theo ngành công nghiệp')\n",
    "joined_df\\\n",
    "    .groupBy(\"company_industry_sector\")\\\n",
    "    .agg(round(F.avg(\"candle_volume\")).alias(\"Khối lượng trung bình\"))\\\n",
    "    .orderBy(\"Khối lượng trung bình\", ascending=False)\\\n",
    "    .withColumnRenamed(\"company_industry_sector\", \"Ngành\")\\\n",
    "    .show()\n",
    "    \n",
    "# Thống kê khối lượng giao dịch trung bình theo ngành công nghiệp SIC\n",
    "print('Thống kê khối lượng giao dịch trung bình theo ngành công nghiệp SIC')\n",
    "joined_df\\\n",
    "    .groupBy(\"company_sic_sector\")\\\n",
    "    .agg(round(F.avg(\"candle_volume\")).alias(\"Khối lượng trung bình\"))\\\n",
    "    .orderBy(\"Khối lượng trung bình\", ascending=False)\\\n",
    "    .withColumnRenamed(\"company_sic_sector\", \"Ngành SIC\")\\\n",
    "    .show()"
   ]
  },
  {
   "cell_type": "code",
   "execution_count": 81,
   "metadata": {},
   "outputs": [
    {
     "name": "stdout",
     "output_type": "stream",
     "text": [
      "Top 10 công ty có tổng khối lượng giao dịch nhiều nhất hiện tại\n"
     ]
    },
    {
     "name": "stderr",
     "output_type": "stream",
     "text": [
      "24/06/22 09:45:02 WARN TaskSetManager: Stage 251 contains a task of very large size (1713 KiB). The maximum recommended task size is 1000 KiB.\n",
      "24/06/22 09:45:02 WARN TaskSetManager: Stage 252 contains a task of very large size (2180 KiB). The maximum recommended task size is 1000 KiB.\n",
      "                                                                                \r"
     ]
    },
    {
     "name": "stdout",
     "output_type": "stream",
     "text": [
      "+--------------------+---------------------------------------+--------------------------------+\n",
      "|         Tên công ty|Tổng khối lượng cổ phiếu được giao dịch|Tổng số giao dịch được thực hiện|\n",
      "+--------------------+---------------------------------------+--------------------------------+\n",
      "|         NVIDIA CORP|                             2722871456|                        19416525|\n",
      "|     MUSTANG BIO INC|                             1539050511|                         1684866|\n",
      "|           APPLE INC|                              991837432|                         9131056|\n",
      "|CROWN ELECTROKINE...|                              930850458|                          469880|\n",
      "|NAUTICUS ROBOTICS...|                              909287893|                          903853|\n",
      "|         NIKOLA CORP|                              790993184|                          742318|\n",
      "|       GAMESTOP CORP|                              677424745|                         5170282|\n",
      "|           TESLA INC|                              647339149|                         7982697|\n",
      "|SIRIUS XM HOLDING...|                              563832912|                          577370|\n",
      "|RELIANCE GLOBAL G...|                              545513941|                          870855|\n",
      "+--------------------+---------------------------------------+--------------------------------+\n",
      "\n"
     ]
    }
   ],
   "source": [
    "# Top 10 công ty có tổng khối lượng giao dịch nhiều nhất hiện tại\n",
    "print('Top 10 công ty có tổng khối lượng giao dịch nhiều nhất hiện tại')\n",
    "joined_df\\\n",
    "    .groupBy(\"company_name\")\\\n",
    "    .agg(\n",
    "        F.sum(\"candle_volume\").alias(\"Tổng khối lượng cổ phiếu được giao dịch\"),\n",
    "        F.sum(\"candle_num_of_trades\").alias(\"Tổng số giao dịch được thực hiện\")\n",
    "    )\\\n",
    "    .orderBy(\"Tổng khối lượng cổ phiếu được giao dịch\", ascending=False)\\\n",
    "    .withColumnRenamed(\"company_name\", \"Tên công ty\")\\\n",
    "    .limit(10)\\\n",
    "    .show()"
   ]
  },
  {
   "cell_type": "markdown",
   "metadata": {},
   "source": [
    "## 4. Quan sát và phân tích Dim News"
   ]
  },
  {
   "cell_type": "code",
   "execution_count": 82,
   "metadata": {},
   "outputs": [],
   "source": [
    "# Connect to the DuckDB database\n",
    "duck_conn = duckdb.connect('/home/anhcu/Final_ETL_App/etl-app/datawarehouse.duckdb')\n",
    "query = 'SELECT * FROM dim_news'\n",
    "\n",
    "# Fetch data from DuckDB and convert to Pandas DataFrame\n",
    "pandas_df = duck_conn.execute(query).fetchdf()\n",
    "\n",
    "duck_conn.close()"
   ]
  },
  {
   "cell_type": "code",
   "execution_count": 83,
   "metadata": {},
   "outputs": [
    {
     "data": {
      "text/html": [
       "<div>\n",
       "<style scoped>\n",
       "    .dataframe tbody tr th:only-of-type {\n",
       "        vertical-align: middle;\n",
       "    }\n",
       "\n",
       "    .dataframe tbody tr th {\n",
       "        vertical-align: top;\n",
       "    }\n",
       "\n",
       "    .dataframe thead th {\n",
       "        text-align: right;\n",
       "    }\n",
       "</style>\n",
       "<table border=\"1\" class=\"dataframe\">\n",
       "  <thead>\n",
       "    <tr style=\"text-align: right;\">\n",
       "      <th></th>\n",
       "      <th>new_id</th>\n",
       "      <th>new_time_published</th>\n",
       "      <th>new_source</th>\n",
       "      <th>new_overall_sentiment_score</th>\n",
       "      <th>new_overall_sentiment_label</th>\n",
       "    </tr>\n",
       "  </thead>\n",
       "  <tbody>\n",
       "    <tr>\n",
       "      <th>0</th>\n",
       "      <td>1</td>\n",
       "      <td>2024-06-11 23:58:00</td>\n",
       "      <td>CNN</td>\n",
       "      <td>-0.075916</td>\n",
       "      <td>Neutral</td>\n",
       "    </tr>\n",
       "    <tr>\n",
       "      <th>1</th>\n",
       "      <td>2</td>\n",
       "      <td>2024-06-11 23:49:00</td>\n",
       "      <td>GlobeNewswire</td>\n",
       "      <td>0.361400</td>\n",
       "      <td>Bullish</td>\n",
       "    </tr>\n",
       "    <tr>\n",
       "      <th>2</th>\n",
       "      <td>3</td>\n",
       "      <td>2024-06-11 23:45:00</td>\n",
       "      <td>The Financial Express</td>\n",
       "      <td>-0.002397</td>\n",
       "      <td>Neutral</td>\n",
       "    </tr>\n",
       "    <tr>\n",
       "      <th>3</th>\n",
       "      <td>4</td>\n",
       "      <td>2024-06-11 23:41:39</td>\n",
       "      <td>Benzinga</td>\n",
       "      <td>0.061695</td>\n",
       "      <td>Neutral</td>\n",
       "    </tr>\n",
       "    <tr>\n",
       "      <th>4</th>\n",
       "      <td>5</td>\n",
       "      <td>2024-06-11 23:41:00</td>\n",
       "      <td>CNN</td>\n",
       "      <td>-0.007297</td>\n",
       "      <td>Neutral</td>\n",
       "    </tr>\n",
       "    <tr>\n",
       "      <th>...</th>\n",
       "      <td>...</td>\n",
       "      <td>...</td>\n",
       "      <td>...</td>\n",
       "      <td>...</td>\n",
       "      <td>...</td>\n",
       "    </tr>\n",
       "    <tr>\n",
       "      <th>10651</th>\n",
       "      <td>10652</td>\n",
       "      <td>2024-06-21 13:00:11</td>\n",
       "      <td>Zacks Commentary</td>\n",
       "      <td>0.202436</td>\n",
       "      <td>Somewhat-Bullish</td>\n",
       "    </tr>\n",
       "    <tr>\n",
       "      <th>10652</th>\n",
       "      <td>10653</td>\n",
       "      <td>2024-06-21 13:00:11</td>\n",
       "      <td>Zacks Commentary</td>\n",
       "      <td>0.222067</td>\n",
       "      <td>Somewhat-Bullish</td>\n",
       "    </tr>\n",
       "    <tr>\n",
       "      <th>10653</th>\n",
       "      <td>10654</td>\n",
       "      <td>2024-06-21 13:00:10</td>\n",
       "      <td>Zacks Commentary</td>\n",
       "      <td>0.255022</td>\n",
       "      <td>Somewhat-Bullish</td>\n",
       "    </tr>\n",
       "    <tr>\n",
       "      <th>10654</th>\n",
       "      <td>10655</td>\n",
       "      <td>2024-06-21 13:00:10</td>\n",
       "      <td>Zacks Commentary</td>\n",
       "      <td>0.229096</td>\n",
       "      <td>Somewhat-Bullish</td>\n",
       "    </tr>\n",
       "    <tr>\n",
       "      <th>10655</th>\n",
       "      <td>10656</td>\n",
       "      <td>2024-06-21 13:00:10</td>\n",
       "      <td>Zacks Commentary</td>\n",
       "      <td>0.231378</td>\n",
       "      <td>Somewhat-Bullish</td>\n",
       "    </tr>\n",
       "  </tbody>\n",
       "</table>\n",
       "<p>10656 rows × 5 columns</p>\n",
       "</div>"
      ],
      "text/plain": [
       "       new_id  new_time_published             new_source  \\\n",
       "0           1 2024-06-11 23:58:00                    CNN   \n",
       "1           2 2024-06-11 23:49:00          GlobeNewswire   \n",
       "2           3 2024-06-11 23:45:00  The Financial Express   \n",
       "3           4 2024-06-11 23:41:39               Benzinga   \n",
       "4           5 2024-06-11 23:41:00                    CNN   \n",
       "...       ...                 ...                    ...   \n",
       "10651   10652 2024-06-21 13:00:11       Zacks Commentary   \n",
       "10652   10653 2024-06-21 13:00:11       Zacks Commentary   \n",
       "10653   10654 2024-06-21 13:00:10       Zacks Commentary   \n",
       "10654   10655 2024-06-21 13:00:10       Zacks Commentary   \n",
       "10655   10656 2024-06-21 13:00:10       Zacks Commentary   \n",
       "\n",
       "       new_overall_sentiment_score new_overall_sentiment_label  \n",
       "0                        -0.075916                     Neutral  \n",
       "1                         0.361400                     Bullish  \n",
       "2                        -0.002397                     Neutral  \n",
       "3                         0.061695                     Neutral  \n",
       "4                        -0.007297                     Neutral  \n",
       "...                            ...                         ...  \n",
       "10651                     0.202436            Somewhat-Bullish  \n",
       "10652                     0.222067            Somewhat-Bullish  \n",
       "10653                     0.255022            Somewhat-Bullish  \n",
       "10654                     0.229096            Somewhat-Bullish  \n",
       "10655                     0.231378            Somewhat-Bullish  \n",
       "\n",
       "[10656 rows x 5 columns]"
      ]
     },
     "execution_count": 83,
     "metadata": {},
     "output_type": "execute_result"
    }
   ],
   "source": [
    "# Loại bỏ các cột không cần thiết\n",
    "pandas_df.drop(columns=['new_title', 'new_url', 'new_authors', 'new_summary', 'news_time_id'], inplace=True)\n",
    "\n",
    "# Chuyển đổi kiểu dữ liệu\n",
    "pandas_df['new_time_published'] = pd.to_datetime(pandas_df['new_time_published'], format='%Y%m%dT%H%M%S')\n",
    "\n",
    "pandas_df"
   ]
  },
  {
   "cell_type": "code",
   "execution_count": 84,
   "metadata": {},
   "outputs": [
    {
     "name": "stdout",
     "output_type": "stream",
     "text": [
      "10656\n",
      "+------+-------------------+--------------------+---------------------------+---------------------------+\n",
      "|new_id| new_time_published|          new_source|new_overall_sentiment_score|new_overall_sentiment_label|\n",
      "+------+-------------------+--------------------+---------------------------+---------------------------+\n",
      "|     1|2024-06-11 23:58:00|                 CNN|                  -0.075916|                    Neutral|\n",
      "|     2|2024-06-11 23:49:00|       GlobeNewswire|                     0.3614|                    Bullish|\n",
      "|     3|2024-06-11 23:45:00|The Financial Exp...|                  -0.002397|                    Neutral|\n",
      "|     4|2024-06-11 23:41:39|            Benzinga|                   0.061695|                    Neutral|\n",
      "|     5|2024-06-11 23:41:00|                 CNN|                  -0.007297|                    Neutral|\n",
      "|     6|2024-06-11 23:41:00|       GlobeNewswire|                    0.02849|                    Neutral|\n",
      "|     7|2024-06-11 23:39:00|    Associated Press|                  -0.145877|                    Neutral|\n",
      "|     8|2024-06-11 23:38:57|              Forbes|                   0.213242|           Somewhat-Bullish|\n",
      "|     9|2024-06-11 23:30:02|    Zacks Commentary|                   0.222791|           Somewhat-Bullish|\n",
      "|    10|2024-06-11 23:30:00|              Forbes|                   0.067529|                    Neutral|\n",
      "|    11|2024-06-11 23:29:08|       Cointelegraph|                  -0.099858|                    Neutral|\n",
      "|    12|2024-06-11 23:20:12|            Benzinga|                   0.132421|                    Neutral|\n",
      "|    13|2024-06-11 23:20:00|       GlobeNewswire|                   0.132826|                    Neutral|\n",
      "|    14|2024-06-11 23:17:01|              Forbes|                   0.291114|           Somewhat-Bullish|\n",
      "|    15|2024-06-11 23:15:42|          Decrypt.co|                   0.129975|                    Neutral|\n",
      "|    16|2024-06-11 23:11:00|    Associated Press|                   0.114409|                    Neutral|\n",
      "|    17|2024-06-11 23:09:24|                CNBC|                   0.176911|           Somewhat-Bullish|\n",
      "|    18|2024-06-11 23:05:41|        UPI Business|                  -0.092572|                    Neutral|\n",
      "|    19|2024-06-11 23:05:00|                 CNN|                  -0.116767|                    Neutral|\n",
      "|    20|2024-06-11 23:04:22|              Forbes|                   -0.08391|                    Neutral|\n",
      "+------+-------------------+--------------------+---------------------------+---------------------------+\n",
      "only showing top 20 rows\n",
      "\n"
     ]
    }
   ],
   "source": [
    "# Chuyển đổi Pandas DataFrame thành PySpark DataFrame với schema\n",
    "spark_df_news = spark.createDataFrame(pandas_df)\n",
    "\n",
    "# Hiển thị một vài hàng của DataFrame\n",
    "print(spark_df_news.count())\n",
    "spark_df_news.show()"
   ]
  },
  {
   "cell_type": "code",
   "execution_count": 85,
   "metadata": {},
   "outputs": [
    {
     "name": "stdout",
     "output_type": "stream",
     "text": [
      "Số lượng bài báo từ các nguồn\n"
     ]
    },
    {
     "name": "stdout",
     "output_type": "stream",
     "text": [
      "+--------------------+------------------------------+\n",
      "|               Nguồn|Tổng số bài báo được phát hành|\n",
      "+--------------------+------------------------------+\n",
      "|            Benzinga|                          3130|\n",
      "|    Zacks Commentary|                          1672|\n",
      "|       GlobeNewswire|                           672|\n",
      "|              Forbes|                           661|\n",
      "|    Business Insider|                           633|\n",
      "|   Business Standard|                           540|\n",
      "|                 CNN|                           480|\n",
      "|         PR Newswire|                           377|\n",
      "|         Motley Fool|                           360|\n",
      "|    Associated Press|                           320|\n",
      "|       Stocknews.com|                           300|\n",
      "|     Canada Newswire|                           258|\n",
      "|       Cointelegraph|                           185|\n",
      "|                CNBC|                           161|\n",
      "|The Financial Exp...|                           133|\n",
      "|          Decrypt.co|                           126|\n",
      "|Investors Busines...|                            89|\n",
      "|   Fox Business News|                            83|\n",
      "|       The Week News|                            74|\n",
      "|          Al Jareeza|                            68|\n",
      "+--------------------+------------------------------+\n",
      "only showing top 20 rows\n",
      "\n"
     ]
    }
   ],
   "source": [
    "# Số lượng bài báo từ các nguồn\n",
    "print('Số lượng bài báo từ các nguồn')\n",
    "spark_df_news\\\n",
    "    .groupBy(\"new_source\")\\\n",
    "    .agg(F.count(\"new_id\").alias(\"Tổng số bài báo được phát hành\"))\\\n",
    "    .orderBy(\"Tổng số bài báo được phát hành\", ascending=False)\\\n",
    "    .withColumnRenamed(\"new_source\", \"Nguồn\")\\\n",
    "    .show()"
   ]
  },
  {
   "cell_type": "code",
   "execution_count": 87,
   "metadata": {},
   "outputs": [
    {
     "name": "stdout",
     "output_type": "stream",
     "text": [
      "Số lượng bài báo thoe các khung giờ\n"
     ]
    },
    {
     "data": {
      "image/png": "[encoded data removed]",
      "text/plain": [
       "<Figure size 1000x600 with 1 Axes>"
      ]
     },
     "metadata": {},
     "output_type": "display_data"
    }
   ],
   "source": [
    "# Số lượng bài báo thoe các khung giờ\n",
    "print('Số lượng bài báo thoe các khung giờ')\n",
    "result_df = spark_df_news\\\n",
    "    .withColumn(\"hour\", F.hour(\"new_time_published\"))\\\n",
    "    .groupBy(\"hour\")\\\n",
    "    .agg(F.count(\"new_id\").alias(\"Tổng số bài báo được phát hành\"))\\\n",
    "    .withColumnRenamed(\"hour\", \"Khung giờ\")\\\n",
    "    .orderBy(\"Khung giờ\")\\\n",
    "    .toPandas()\n",
    "    \n",
    "# Vẽ biểu đồ\n",
    "plt.figure(figsize=(10, 6))\n",
    "plt.bar(result_df[\"Khung giờ\"], result_df[\"Tổng số bài báo được phát hành\"], color='skyblue')\n",
    "plt.xlabel('Khung giờ')\n",
    "plt.ylabel('Tổng số bài báo được phát hành')\n",
    "plt.title('Số lượng bài báo theo các khung giờ')\n",
    "plt.xticks(result_df[\"Khung giờ\"])  # Đảm bảo tất cả các khung giờ được hiển thị\n",
    "plt.grid(axis='y')\n",
    "\n",
    "# Hiển thị biểu đồ\n",
    "plt.show()"
   ]
  }
 ],
 "metadata": {
  "kernelspec": {
   "display_name": "api_venv",
   "language": "python",
   "name": "python3"
  },
  "language_info": {
   "codemirror_mode": {
    "name": "ipython",
    "version": 3
   },
   "file_extension": ".py",
   "mimetype": "text/x-python",
   "name": "python",
   "nbconvert_exporter": "python",
   "pygments_lexer": "ipython3",
   "version": "3.8.10"
  }
 },
 "nbformat": 4,
 "nbformat_minor": 2
}
