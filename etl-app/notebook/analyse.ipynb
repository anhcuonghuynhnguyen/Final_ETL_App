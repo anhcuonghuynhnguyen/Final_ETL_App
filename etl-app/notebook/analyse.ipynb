{
 "cells": [
  {
   "cell_type": "code",
   "execution_count": 1,
   "metadata": {},
   "outputs": [],
   "source": [
    "import duckdb\n",
    "import findspark\n",
    "findspark.init()\n",
    "from pyspark.sql import SparkSession"
   ]
  },
  {
   "cell_type": "code",
   "execution_count": 2,
   "metadata": {},
   "outputs": [
    {
     "name": "stderr",
     "output_type": "stream",
     "text": [
      "Setting default log level to \"WARN\".\n",
      "To adjust logging level use sc.setLogLevel(newLevel). For SparkR, use setLogLevel(newLevel).\n",
      "24/06/16 05:33:38 WARN NativeCodeLoader: Unable to load native-hadoop library for your platform... using builtin-java classes where applicable\n"
     ]
    }
   ],
   "source": [
    "spark = SparkSession.builder.appName(\"Companies\").getOrCreate()"
   ]
  },
  {
   "cell_type": "markdown",
   "metadata": {},
   "source": [
    "## Dim Companies"
   ]
  },
  {
   "cell_type": "code",
   "execution_count": 35,
   "metadata": {},
   "outputs": [],
   "source": [
    "# Connect to the DuckDB database\n",
    "duck_conn = duckdb.connect('/home/anhcu/Final_ETL_App/etl-app/datawarehouse.duckdb')\n",
    "query = 'SELECT * FROM dim_companies'\n",
    "\n",
    "# Fetch data from DuckDB and convert to Pandas DataFrame\n",
    "pandas_df = duck_conn.execute(query).fetchdf()\n",
    "\n",
    "duck_conn.close()"
   ]
  },
  {
   "cell_type": "code",
   "execution_count": 36,
   "metadata": {},
   "outputs": [
    {
     "name": "stderr",
     "output_type": "stream",
     "text": [
      "24/06/15 15:56:10 WARN TaskSetManager: Stage 29 contains a task of very large size (12663 KiB). The maximum recommended task size is 1000 KiB.\n"
     ]
    },
    {
     "name": "stdout",
     "output_type": "stream",
     "text": [
      "+----------+--------------------+--------------------+--------------+-------------------+--------------------+----------------+--------------------+---------------------+-------------------+---------------------+-----------------------+--------------------+--------------------+\n",
      "|company_id|        company_name|  company_time_stamp|company_ticket|company_is_delisted|    company_category|company_currency|    company_location|company_exchange_name|company_region_name|company_industry_name|company_industry_sector|company_sic_industry|  company_sic_sector|\n",
      "+----------+--------------------+--------------------+--------------+-------------------+--------------------+----------------+--------------------+---------------------+-------------------+---------------------+-----------------------+--------------------+--------------------+\n",
      "|         1|ADMIRALTY BANCORP...|2024-06-12 13:09:...|          AAAB|               true|Domestic Common S...|             USD|      Florida; U.S.A|               NASDAQ|      United States|     Banks - Regional|     Financial Services|State Commercial ...|Finance Insurance...|\n",
      "|         2|ACCESS ANYTIME BA...|2024-06-12 13:09:...|          AABC|               true|Domestic Common S...|             USD|   New Mexico; U.S.A|               NASDAQ|      United States|     Banks - Regional|     Financial Services|Savings Instituti...|Finance Insurance...|\n",
      "|         3|ASSET ACCEPTANCE ...|2024-06-12 13:09:...|          AACC|               true|Domestic Common S...|             USD|     Michigan; U.S.A|               NASDAQ|      United States|     Asset Management|     Financial Services|Short-Term Busine...|Finance Insurance...|\n",
      "|         4|ACE CASH EXPRESS INC|2024-06-12 13:09:...|          AACE|               true|Domestic Common S...|             USD|        Texas; U.S.A|               NASDAQ|      United States|      Credit Services|     Financial Services|Functions Related...|Finance Insurance...|\n",
      "|         5|ARMADA ACQUISITIO...|2024-06-12 13:09:...|          AACI|              false|Domestic Common S...|             USD| Pennsylvania; U.S.A|               NASDAQ|      United States|      Shell Companies|            Industrials|        Blank Checks|Finance Insurance...|\n",
      "|         6|AUSTRALIA ACQUISI...|2024-06-12 13:09:...|         AACPF|               true|    ADR Common Stock|             USD|           Australia|               NASDAQ|      United States|      Shell Companies|            Industrials|        Blank Checks|Finance Insurance...|\n",
      "|         7| AADI BIOSCIENCE INC|2024-06-12 13:09:...|          AADI|              false|Domestic Common S...|             USD|   California; U.S.A|               NASDAQ|      United States|        Biotechnology|             Healthcare|Pharmaceutical Pr...|       Manufacturing|\n",
      "|         8|ADVANTAGE BANCORP...|2024-06-12 13:09:...|          AADV|               true|Domestic Common S...|             USD|    Wisconsin; U.S.A|               NASDAQ|      United States|     Banks - Regional|     Financial Services|Savings Instituti...|Finance Insurance...|\n",
      "|         9|AFRICAN AGRICULTU...|2024-06-12 13:09:...|          AAGR|              false|Domestic Common S...|             USD|     New York; U.S.A|               NASDAQ|      United States|        Farm Products|     Consumer Defensive|Agricultural Prod...|Agriculture Fores...|\n",
      "|        10|AIRTRAN HOLDINGS INC|2024-06-12 13:09:...|           AAI|               true|Domestic Common S...|             USD|      Florida; U.S.A|               NASDAQ|      United States|             Airlines|            Industrials|Air Transportatio...|Transportation Co...|\n",
      "|        11|ALABAMA AIRCRAFT ...|2024-06-12 13:09:...|         AAIIQ|               true|Domestic Common S...|             USD|      Alabama; U.S.A|               NASDAQ|      United States|  Aerospace & Defense|            Industrials|            Aircraft|       Manufacturing|\n",
      "|        12|       AAIPHARMA INC|2024-06-12 13:09:...|        AAIIQ1|               true|Domestic Common S...|             USD|North Carolina; U...|               NASDAQ|      United States| Diagnostics & Res...|             Healthcare|Services-Testing ...|            Services|\n",
      "|        13|AMERICAN AIRLINES...|2024-06-12 13:09:...|           AAL|              false|Domestic Common S...|             USD|        Texas; U.S.A|               NASDAQ|      United States|             Airlines|            Industrials|Air Transportatio...|Transportation Co...|\n",
      "|        14|ATLANTIC AMERICAN...|2024-06-12 13:09:...|          AAME|              false|Domestic Common S...|             USD|      Georgia; U.S.A|               NASDAQ|      United States|     Insurance - Life|     Financial Services|      Life Insurance|Finance Insurance...|\n",
      "|        15|ABIGAIL ADAMS NAT...|2024-06-12 13:09:...|          AANB|               true|Domestic Common S...|             USD|District Of Colum...|               NASDAQ|      United States|     Banks - Regional|     Financial Services|National Commerci...|Finance Insurance...|\n",
      "|        16|APPLIED OPTOELECT...|2024-06-12 13:09:...|          AAOI|              false|Domestic Common S...|             USD|        Texas; U.S.A|               NASDAQ|      United States| Communication Equ...|             Technology|Semiconductors & ...|       Manufacturing|\n",
      "|        17|            AAON INC|2024-06-12 13:09:...|          AAON|              false|Domestic Common S...|             USD|     Oklahoma; U.S.A|               NASDAQ|      United States| Building Products...|        Basic Materials|Air-Cond & Warm A...|       Manufacturing|\n",
      "|        18|ATLANTIC ALLIANCE...|2024-06-12 13:09:...|          AAPC|               true|Domestic Common S...|             USD|     New York; U.S.A|               NASDAQ|      United States|             Gambling|      Consumer Cyclical|Services-Miscella...|            Services|\n",
      "|        19|           APPLE INC|2024-06-12 13:09:...|          AAPL|              false|Domestic Common S...|             USD|   California; U.S.A|               NASDAQ|      United States| Consumer Electronics|             Technology|Electronic Computers|       Manufacturing|\n",
      "|        20|         ALCIDE CORP|2024-06-12 13:09:...|          ALCD|               true|Domestic Common S...|             USD|   Washington; U.S.A|               NASDAQ|      United States|  Agricultural Inputs|        Basic Materials|Agricultural Chem...|       Manufacturing|\n",
      "+----------+--------------------+--------------------+--------------+-------------------+--------------------+----------------+--------------------+---------------------+-------------------+---------------------+-----------------------+--------------------+--------------------+\n",
      "only showing top 20 rows\n",
      "\n"
     ]
    }
   ],
   "source": [
    "# Convert Pandas DataFrame to PySpark DataFrame\n",
    "spark_df_companies = spark.createDataFrame(pandas_df)\n",
    "\n",
    "# Show the Spark DataFrame\n",
    "spark_df_companies.show()"
   ]
  },
  {
   "cell_type": "code",
   "execution_count": 37,
   "metadata": {},
   "outputs": [],
   "source": [
    "from pyspark.sql.functions import col, count"
   ]
  },
  {
   "cell_type": "code",
   "execution_count": 38,
   "metadata": {},
   "outputs": [
    {
     "name": "stdout",
     "output_type": "stream",
     "text": [
      "Thống kê số lượng công ty ở từng sàn giao dịch:\n"
     ]
    },
    {
     "name": "stderr",
     "output_type": "stream",
     "text": [
      "24/06/15 15:56:14 WARN TaskSetManager: Stage 30 contains a task of very large size (12663 KiB). The maximum recommended task size is 1000 KiB.\n",
      "[Stage 30:>                                                         (0 + 2) / 2]\r"
     ]
    },
    {
     "name": "stdout",
     "output_type": "stream",
     "text": [
      "+---------------------+-----+\n",
      "|company_exchange_name|count|\n",
      "+---------------------+-----+\n",
      "|                 NYSE|39297|\n",
      "|               NASDAQ|78894|\n",
      "+---------------------+-----+\n",
      "\n"
     ]
    },
    {
     "name": "stderr",
     "output_type": "stream",
     "text": [
      "                                                                                \r"
     ]
    }
   ],
   "source": [
    "# Thống kê số lượng công ty ở từng sàn giao dịch\n",
    "print(\"Thống kê số lượng công ty ở từng sàn giao dịch:\")\n",
    "spark_df_companies.groupBy(\"company_exchange_name\").agg(count(\"*\").alias(\"count\")).show()"
   ]
  },
  {
   "cell_type": "code",
   "execution_count": 39,
   "metadata": {},
   "outputs": [
    {
     "name": "stdout",
     "output_type": "stream",
     "text": [
      "Thống kê số lượng công ty đã và chưa bị delisted:\n"
     ]
    },
    {
     "name": "stderr",
     "output_type": "stream",
     "text": [
      "24/06/15 15:56:16 WARN TaskSetManager: Stage 33 contains a task of very large size (12663 KiB). The maximum recommended task size is 1000 KiB.\n",
      "[Stage 33:>                                                         (0 + 2) / 2]\r"
     ]
    },
    {
     "name": "stdout",
     "output_type": "stream",
     "text": [
      "+-------------------+-----+\n",
      "|company_is_delisted|count|\n",
      "+-------------------+-----+\n",
      "|               true|79107|\n",
      "|              false|39084|\n",
      "+-------------------+-----+\n",
      "\n"
     ]
    },
    {
     "name": "stderr",
     "output_type": "stream",
     "text": [
      "                                                                                \r"
     ]
    }
   ],
   "source": [
    "# Thống kê số lượng công ty đã và chưa bị delisted\n",
    "print(\"Thống kê số lượng công ty đã và chưa bị delisted:\")\n",
    "spark_df_companies.groupBy(\"company_is_delisted\").agg(count(\"*\").alias(\"count\")).show()"
   ]
  },
  {
   "cell_type": "code",
   "execution_count": 40,
   "metadata": {},
   "outputs": [
    {
     "name": "stdout",
     "output_type": "stream",
     "text": [
      "Thống kê số lượng công ty theo khu vực:\n"
     ]
    },
    {
     "name": "stderr",
     "output_type": "stream",
     "text": [
      "24/06/15 15:56:19 WARN TaskSetManager: Stage 36 contains a task of very large size (12663 KiB). The maximum recommended task size is 1000 KiB.\n",
      "[Stage 36:>                                                         (0 + 2) / 2]\r"
     ]
    },
    {
     "name": "stdout",
     "output_type": "stream",
     "text": [
      "+--------------------+-----+\n",
      "|    company_location|count|\n",
      "+--------------------+-----+\n",
      "|   California; U.S.A|18708|\n",
      "|     New York; U.S.A|13425|\n",
      "|        Texas; U.S.A| 8883|\n",
      "|Massachusetts; U.S.A| 5664|\n",
      "|      Florida; U.S.A| 5130|\n",
      "| Pennsylvania; U.S.A| 3912|\n",
      "|     Illinois; U.S.A| 3750|\n",
      "|   New Jersey; U.S.A| 3690|\n",
      "|               China| 3150|\n",
      "|      Georgia; U.S.A| 2625|\n",
      "|     Virginia; U.S.A| 2592|\n",
      "|     Colorado; U.S.A| 2580|\n",
      "|         Ohio; U.S.A| 2340|\n",
      "|  Connecticut; U.S.A| 2208|\n",
      "|    Minnesota; U.S.A| 1992|\n",
      "|North Carolina; U...| 1902|\n",
      "|     Maryland; U.S.A| 1884|\n",
      "|      United Kingdom| 1638|\n",
      "|   Washington; U.S.A| 1620|\n",
      "|     Ontario; Canada| 1422|\n",
      "+--------------------+-----+\n",
      "only showing top 20 rows\n",
      "\n"
     ]
    },
    {
     "name": "stderr",
     "output_type": "stream",
     "text": [
      "                                                                                \r"
     ]
    }
   ],
   "source": [
    "# Thống kê số lượng công ty theo khu vực\n",
    "print(\"Thống kê số lượng công ty theo khu vực:\")\n",
    "spark_df_companies.groupBy(\"company_location\").agg(count(\"*\").alias(\"count\")).orderBy(col(\"count\").desc()).show()"
   ]
  },
  {
   "cell_type": "code",
   "execution_count": 41,
   "metadata": {},
   "outputs": [
    {
     "name": "stdout",
     "output_type": "stream",
     "text": [
      "Thống kê số lượng công ty theo ngành công nghiệp:\n"
     ]
    },
    {
     "name": "stderr",
     "output_type": "stream",
     "text": [
      "24/06/15 15:56:22 WARN TaskSetManager: Stage 39 contains a task of very large size (12663 KiB). The maximum recommended task size is 1000 KiB.\n",
      "[Stage 39:>                                                         (0 + 2) / 2]\r"
     ]
    },
    {
     "name": "stdout",
     "output_type": "stream",
     "text": [
      "+---------------------+-----+\n",
      "|company_industry_name|count|\n",
      "+---------------------+-----+\n",
      "|      Shell Companies|10797|\n",
      "| Software - Applic...| 9774|\n",
      "|        Biotechnology| 9282|\n",
      "|     Banks - Regional| 9270|\n",
      "|      Medical Devices| 3000|\n",
      "|     Telecom Services| 2973|\n",
      "| Communication Equ...| 2394|\n",
      "|        Oil & Gas E&P| 2196|\n",
      "|      REIT - Mortgage| 1932|\n",
      "|       Semiconductors| 1698|\n",
      "|     Asset Management| 1650|\n",
      "| Software - Infras...| 1596|\n",
      "|     Specialty Retail| 1404|\n",
      "| Medical Care Faci...| 1368|\n",
      "| Specialty Industr...| 1302|\n",
      "|    Computer Hardware| 1260|\n",
      "|  Oil & Gas Midstream| 1218|\n",
      "|        Entertainment| 1200|\n",
      "| Internet Content ...| 1194|\n",
      "|       Packaged Foods| 1194|\n",
      "+---------------------+-----+\n",
      "only showing top 20 rows\n",
      "\n"
     ]
    },
    {
     "name": "stderr",
     "output_type": "stream",
     "text": [
      "                                                                                \r"
     ]
    }
   ],
   "source": [
    "# Thống kê số lượng công ty theo ngành công nghiệp\n",
    "print(\"Thống kê số lượng công ty theo ngành công nghiệp:\")\n",
    "spark_df_companies.groupBy(\"company_industry_name\").agg(count(\"*\").alias(\"count\")).orderBy(col(\"count\").desc()).show()"
   ]
  },
  {
   "cell_type": "code",
   "execution_count": 42,
   "metadata": {},
   "outputs": [
    {
     "name": "stderr",
     "output_type": "stream",
     "text": [
      "24/06/15 15:56:24 WARN TaskSetManager: Stage 42 contains a task of very large size (12663 KiB). The maximum recommended task size is 1000 KiB.\n",
      "[Stage 42:>                                                         (0 + 2) / 2]\r"
     ]
    },
    {
     "name": "stdout",
     "output_type": "stream",
     "text": [
      "+-----------------------+-----+\n",
      "|company_industry_sector|count|\n",
      "+-----------------------+-----+\n",
      "|            Industrials|22113|\n",
      "|             Technology|20346|\n",
      "|             Healthcare|17934|\n",
      "|     Financial Services|17322|\n",
      "|      Consumer Cyclical|11412|\n",
      "|   Communication Ser...| 6699|\n",
      "|            Real Estate| 5910|\n",
      "|                 Energy| 5067|\n",
      "|        Basic Materials| 4902|\n",
      "|     Consumer Defensive| 4284|\n",
      "|              Utilities| 2202|\n",
      "+-----------------------+-----+\n",
      "\n"
     ]
    },
    {
     "name": "stderr",
     "output_type": "stream",
     "text": [
      "                                                                                \r"
     ]
    }
   ],
   "source": [
    "# Thống kê số lượng công ty theo ngành công nghiệp sector\n",
    "sector_stats = spark_df_companies.groupBy(\"company_industry_sector\").agg(count(\"*\").alias(\"count\")).orderBy(col(\"count\").desc())\n",
    "sector_stats.show()"
   ]
  },
  {
   "cell_type": "code",
   "execution_count": 43,
   "metadata": {},
   "outputs": [
    {
     "name": "stderr",
     "output_type": "stream",
     "text": [
      "24/06/15 15:56:27 WARN TaskSetManager: Stage 45 contains a task of very large size (12663 KiB). The maximum recommended task size is 1000 KiB.\n",
      "[Stage 45:>                                                         (0 + 2) / 2]\r"
     ]
    },
    {
     "name": "stdout",
     "output_type": "stream",
     "text": [
      "+--------------------+-----+\n",
      "|    company_category|count|\n",
      "+--------------------+-----+\n",
      "|Domestic Common S...|73089|\n",
      "|Domestic Common S...|10854|\n",
      "|    ADR Common Stock| 8892|\n",
      "|Domestic Common S...| 7776|\n",
      "|Domestic Common S...| 6168|\n",
      "|Domestic Preferre...| 6150|\n",
      "|Canadian Common S...| 1482|\n",
      "|ADR Common Stock ...| 1326|\n",
      "|ADR Common Stock ...| 1074|\n",
      "|ADR Common Stock ...|  732|\n",
      "| ADR Preferred Stock|  534|\n",
      "|Canadian Common S...|   60|\n",
      "|Canadian Common S...|   24|\n",
      "|Canadian Preferre...|   18|\n",
      "|Canadian Common S...|   12|\n",
      "+--------------------+-----+\n",
      "\n"
     ]
    },
    {
     "name": "stderr",
     "output_type": "stream",
     "text": [
      "                                                                                \r"
     ]
    }
   ],
   "source": [
    "# Thống kê số lượng công ty theo loại hình công ty\n",
    "category_stats = spark_df_companies.groupBy(\"company_category\").agg(count(\"*\").alias(\"count\")).orderBy(col(\"count\").desc())\n",
    "category_stats.show()"
   ]
  },
  {
   "cell_type": "markdown",
   "metadata": {},
   "source": [
    "## Fact Candles"
   ]
  },
  {
   "cell_type": "code",
   "execution_count": 3,
   "metadata": {},
   "outputs": [],
   "source": [
    "import pandas as pd\n",
    "from datetime import datetime\n",
    "from pyspark.sql.types import StructType, StructField, IntegerType, LongType, DoubleType, BooleanType, TimestampType\n",
    "from pyspark.sql.functions import count\n",
    "from pyspark.sql.functions import avg\n",
    "from pyspark.sql.functions import col, expr"
   ]
  },
  {
   "cell_type": "code",
   "execution_count": 8,
   "metadata": {},
   "outputs": [],
   "source": [
    "# Connect to the DuckDB database\n",
    "duck_conn = duckdb.connect('/home/anhcu/Final_ETL_App/etl-app/datawarehouse.duckdb')\n",
    "query = 'SELECT * FROM fact_candles'\n",
    "\n",
    "# Fetch data from DuckDB and convert to Pandas DataFrame\n",
    "pandas_df = duck_conn.execute(query).fetchdf()\n",
    "\n",
    "duck_conn.close()"
   ]
  },
  {
   "cell_type": "code",
   "execution_count": 9,
   "metadata": {},
   "outputs": [
    {
     "data": {
      "text/html": [
       "<div>\n",
       "<style scoped>\n",
       "    .dataframe tbody tr th:only-of-type {\n",
       "        vertical-align: middle;\n",
       "    }\n",
       "\n",
       "    .dataframe tbody tr th {\n",
       "        vertical-align: top;\n",
       "    }\n",
       "\n",
       "    .dataframe thead th {\n",
       "        text-align: right;\n",
       "    }\n",
       "</style>\n",
       "<table border=\"1\" class=\"dataframe\">\n",
       "  <thead>\n",
       "    <tr style=\"text-align: right;\">\n",
       "      <th></th>\n",
       "      <th>candle_id</th>\n",
       "      <th>candle_company_id</th>\n",
       "      <th>candle_volume</th>\n",
       "      <th>candle_volume_weighted</th>\n",
       "      <th>candle_open</th>\n",
       "      <th>candle_close</th>\n",
       "      <th>candle_high</th>\n",
       "      <th>candle_low</th>\n",
       "      <th>candle_time_stamp</th>\n",
       "      <th>candle_num_of_trades</th>\n",
       "      <th>candle_is_otc</th>\n",
       "      <th>candles_time_id</th>\n",
       "    </tr>\n",
       "  </thead>\n",
       "  <tbody>\n",
       "    <tr>\n",
       "      <th>0</th>\n",
       "      <td>48735</td>\n",
       "      <td>22127</td>\n",
       "      <td>29174</td>\n",
       "      <td>48.1472</td>\n",
       "      <td>48.270</td>\n",
       "      <td>48.300</td>\n",
       "      <td>48.300</td>\n",
       "      <td>47.7500</td>\n",
       "      <td>1718136000000</td>\n",
       "      <td>1819</td>\n",
       "      <td>NaN</td>\n",
       "      <td>1</td>\n",
       "    </tr>\n",
       "    <tr>\n",
       "      <th>1</th>\n",
       "      <td>48736</td>\n",
       "      <td>26716</td>\n",
       "      <td>1288577</td>\n",
       "      <td>37.9410</td>\n",
       "      <td>37.880</td>\n",
       "      <td>38.090</td>\n",
       "      <td>38.170</td>\n",
       "      <td>37.5000</td>\n",
       "      <td>1718136000000</td>\n",
       "      <td>18317</td>\n",
       "      <td>NaN</td>\n",
       "      <td>1</td>\n",
       "    </tr>\n",
       "    <tr>\n",
       "      <th>2</th>\n",
       "      <td>48737</td>\n",
       "      <td>36670</td>\n",
       "      <td>706413</td>\n",
       "      <td>44.6400</td>\n",
       "      <td>45.550</td>\n",
       "      <td>44.730</td>\n",
       "      <td>45.555</td>\n",
       "      <td>44.2700</td>\n",
       "      <td>1718136000000</td>\n",
       "      <td>11110</td>\n",
       "      <td>NaN</td>\n",
       "      <td>1</td>\n",
       "    </tr>\n",
       "    <tr>\n",
       "      <th>3</th>\n",
       "      <td>48738</td>\n",
       "      <td>30065</td>\n",
       "      <td>84449</td>\n",
       "      <td>0.7683</td>\n",
       "      <td>0.800</td>\n",
       "      <td>0.751</td>\n",
       "      <td>0.810</td>\n",
       "      <td>0.7401</td>\n",
       "      <td>1718136000000</td>\n",
       "      <td>290</td>\n",
       "      <td>NaN</td>\n",
       "      <td>1</td>\n",
       "    </tr>\n",
       "    <tr>\n",
       "      <th>4</th>\n",
       "      <td>48739</td>\n",
       "      <td>33016</td>\n",
       "      <td>8024</td>\n",
       "      <td>209.2152</td>\n",
       "      <td>210.270</td>\n",
       "      <td>208.950</td>\n",
       "      <td>210.270</td>\n",
       "      <td>208.9500</td>\n",
       "      <td>1718136000000</td>\n",
       "      <td>1330</td>\n",
       "      <td>NaN</td>\n",
       "      <td>1</td>\n",
       "    </tr>\n",
       "    <tr>\n",
       "      <th>...</th>\n",
       "      <td>...</td>\n",
       "      <td>...</td>\n",
       "      <td>...</td>\n",
       "      <td>...</td>\n",
       "      <td>...</td>\n",
       "      <td>...</td>\n",
       "      <td>...</td>\n",
       "      <td>...</td>\n",
       "      <td>...</td>\n",
       "      <td>...</td>\n",
       "      <td>...</td>\n",
       "      <td>...</td>\n",
       "    </tr>\n",
       "    <tr>\n",
       "      <th>24362</th>\n",
       "      <td>73097</td>\n",
       "      <td>104194</td>\n",
       "      <td>102</td>\n",
       "      <td>10.7613</td>\n",
       "      <td>10.760</td>\n",
       "      <td>10.760</td>\n",
       "      <td>10.760</td>\n",
       "      <td>10.7600</td>\n",
       "      <td>1718395200000</td>\n",
       "      <td>3</td>\n",
       "      <td>NaN</td>\n",
       "      <td>4</td>\n",
       "    </tr>\n",
       "    <tr>\n",
       "      <th>24363</th>\n",
       "      <td>73098</td>\n",
       "      <td>102886</td>\n",
       "      <td>561</td>\n",
       "      <td>16.4572</td>\n",
       "      <td>16.490</td>\n",
       "      <td>16.490</td>\n",
       "      <td>16.490</td>\n",
       "      <td>16.4900</td>\n",
       "      <td>1718395200000</td>\n",
       "      <td>12</td>\n",
       "      <td>NaN</td>\n",
       "      <td>4</td>\n",
       "    </tr>\n",
       "    <tr>\n",
       "      <th>24364</th>\n",
       "      <td>73099</td>\n",
       "      <td>102735</td>\n",
       "      <td>2100</td>\n",
       "      <td>29.9410</td>\n",
       "      <td>30.000</td>\n",
       "      <td>30.000</td>\n",
       "      <td>30.000</td>\n",
       "      <td>30.0000</td>\n",
       "      <td>1718395200000</td>\n",
       "      <td>2</td>\n",
       "      <td>True</td>\n",
       "      <td>4</td>\n",
       "    </tr>\n",
       "    <tr>\n",
       "      <th>24365</th>\n",
       "      <td>73100</td>\n",
       "      <td>110274</td>\n",
       "      <td>100</td>\n",
       "      <td>10.5700</td>\n",
       "      <td>10.570</td>\n",
       "      <td>10.570</td>\n",
       "      <td>10.570</td>\n",
       "      <td>10.5700</td>\n",
       "      <td>1718395200000</td>\n",
       "      <td>1</td>\n",
       "      <td>NaN</td>\n",
       "      <td>4</td>\n",
       "    </tr>\n",
       "    <tr>\n",
       "      <th>24366</th>\n",
       "      <td>73101</td>\n",
       "      <td>115007</td>\n",
       "      <td>1525</td>\n",
       "      <td>11.3004</td>\n",
       "      <td>11.305</td>\n",
       "      <td>11.305</td>\n",
       "      <td>11.305</td>\n",
       "      <td>11.3050</td>\n",
       "      <td>1718395200000</td>\n",
       "      <td>3</td>\n",
       "      <td>NaN</td>\n",
       "      <td>4</td>\n",
       "    </tr>\n",
       "  </tbody>\n",
       "</table>\n",
       "<p>24367 rows × 12 columns</p>\n",
       "</div>"
      ],
      "text/plain": [
       "       candle_id  candle_company_id  candle_volume  candle_volume_weighted  \\\n",
       "0          48735              22127          29174                 48.1472   \n",
       "1          48736              26716        1288577                 37.9410   \n",
       "2          48737              36670         706413                 44.6400   \n",
       "3          48738              30065          84449                  0.7683   \n",
       "4          48739              33016           8024                209.2152   \n",
       "...          ...                ...            ...                     ...   \n",
       "24362      73097             104194            102                 10.7613   \n",
       "24363      73098             102886            561                 16.4572   \n",
       "24364      73099             102735           2100                 29.9410   \n",
       "24365      73100             110274            100                 10.5700   \n",
       "24366      73101             115007           1525                 11.3004   \n",
       "\n",
       "       candle_open  candle_close  candle_high  candle_low candle_time_stamp  \\\n",
       "0           48.270        48.300       48.300     47.7500     1718136000000   \n",
       "1           37.880        38.090       38.170     37.5000     1718136000000   \n",
       "2           45.550        44.730       45.555     44.2700     1718136000000   \n",
       "3            0.800         0.751        0.810      0.7401     1718136000000   \n",
       "4          210.270       208.950      210.270    208.9500     1718136000000   \n",
       "...            ...           ...          ...         ...               ...   \n",
       "24362       10.760        10.760       10.760     10.7600     1718395200000   \n",
       "24363       16.490        16.490       16.490     16.4900     1718395200000   \n",
       "24364       30.000        30.000       30.000     30.0000     1718395200000   \n",
       "24365       10.570        10.570       10.570     10.5700     1718395200000   \n",
       "24366       11.305        11.305       11.305     11.3050     1718395200000   \n",
       "\n",
       "       candle_num_of_trades candle_is_otc  candles_time_id  \n",
       "0                      1819           NaN                1  \n",
       "1                     18317           NaN                1  \n",
       "2                     11110           NaN                1  \n",
       "3                       290           NaN                1  \n",
       "4                      1330           NaN                1  \n",
       "...                     ...           ...              ...  \n",
       "24362                     3           NaN                4  \n",
       "24363                    12           NaN                4  \n",
       "24364                     2          True                4  \n",
       "24365                     1           NaN                4  \n",
       "24366                     3           NaN                4  \n",
       "\n",
       "[24367 rows x 12 columns]"
      ]
     },
     "execution_count": 9,
     "metadata": {},
     "output_type": "execute_result"
    }
   ],
   "source": [
    "pandas_df"
   ]
  },
  {
   "cell_type": "code",
   "execution_count": 25,
   "metadata": {},
   "outputs": [
    {
     "name": "stderr",
     "output_type": "stream",
     "text": [
      "/tmp/ipykernel_49482/1880719106.py:6: FutureWarning: The behavior of 'to_datetime' with 'unit' when parsing strings is deprecated. In a future version, strings will be parsed as datetime strings, matching the behavior without a 'unit'. To retain the old behavior, explicitly cast ints or floats to numeric type before calling to_datetime.\n",
      "  pandas_df['candle_time_stamp'] = pd.to_datetime(pandas_df['candle_time_stamp'], unit='ms')\n"
     ]
    },
    {
     "data": {
      "text/html": [
       "<div>\n",
       "<style scoped>\n",
       "    .dataframe tbody tr th:only-of-type {\n",
       "        vertical-align: middle;\n",
       "    }\n",
       "\n",
       "    .dataframe tbody tr th {\n",
       "        vertical-align: top;\n",
       "    }\n",
       "\n",
       "    .dataframe thead th {\n",
       "        text-align: right;\n",
       "    }\n",
       "</style>\n",
       "<table border=\"1\" class=\"dataframe\">\n",
       "  <thead>\n",
       "    <tr style=\"text-align: right;\">\n",
       "      <th></th>\n",
       "      <th>candle_id</th>\n",
       "      <th>candle_company_id</th>\n",
       "      <th>candle_volume</th>\n",
       "      <th>candle_volume_weighted</th>\n",
       "      <th>candle_open</th>\n",
       "      <th>candle_close</th>\n",
       "      <th>candle_high</th>\n",
       "      <th>candle_low</th>\n",
       "      <th>candle_time_stamp</th>\n",
       "      <th>candle_num_of_trades</th>\n",
       "      <th>candle_is_otc</th>\n",
       "      <th>candle_percent_change_open_close</th>\n",
       "      <th>candle_percent_change_high_low</th>\n",
       "    </tr>\n",
       "  </thead>\n",
       "  <tbody>\n",
       "    <tr>\n",
       "      <th>0</th>\n",
       "      <td>24368</td>\n",
       "      <td>22127</td>\n",
       "      <td>29174</td>\n",
       "      <td>48.1472</td>\n",
       "      <td>48.270</td>\n",
       "      <td>48.300</td>\n",
       "      <td>48.300</td>\n",
       "      <td>47.7500</td>\n",
       "      <td>2024-06-11 19:59:07.264</td>\n",
       "      <td>1819</td>\n",
       "      <td>False</td>\n",
       "      <td>0.062150</td>\n",
       "      <td>1.151832</td>\n",
       "    </tr>\n",
       "    <tr>\n",
       "      <th>1</th>\n",
       "      <td>24369</td>\n",
       "      <td>26716</td>\n",
       "      <td>1288577</td>\n",
       "      <td>37.9410</td>\n",
       "      <td>37.880</td>\n",
       "      <td>38.090</td>\n",
       "      <td>38.170</td>\n",
       "      <td>37.5000</td>\n",
       "      <td>2024-06-11 19:59:07.264</td>\n",
       "      <td>18317</td>\n",
       "      <td>False</td>\n",
       "      <td>0.554382</td>\n",
       "      <td>1.786667</td>\n",
       "    </tr>\n",
       "    <tr>\n",
       "      <th>2</th>\n",
       "      <td>24370</td>\n",
       "      <td>36670</td>\n",
       "      <td>706413</td>\n",
       "      <td>44.6400</td>\n",
       "      <td>45.550</td>\n",
       "      <td>44.730</td>\n",
       "      <td>45.555</td>\n",
       "      <td>44.2700</td>\n",
       "      <td>2024-06-11 19:59:07.264</td>\n",
       "      <td>11110</td>\n",
       "      <td>False</td>\n",
       "      <td>-1.800220</td>\n",
       "      <td>2.902643</td>\n",
       "    </tr>\n",
       "    <tr>\n",
       "      <th>3</th>\n",
       "      <td>24371</td>\n",
       "      <td>30065</td>\n",
       "      <td>84449</td>\n",
       "      <td>0.7683</td>\n",
       "      <td>0.800</td>\n",
       "      <td>0.751</td>\n",
       "      <td>0.810</td>\n",
       "      <td>0.7401</td>\n",
       "      <td>2024-06-11 19:59:07.264</td>\n",
       "      <td>290</td>\n",
       "      <td>False</td>\n",
       "      <td>-6.125000</td>\n",
       "      <td>9.444670</td>\n",
       "    </tr>\n",
       "    <tr>\n",
       "      <th>4</th>\n",
       "      <td>24372</td>\n",
       "      <td>33016</td>\n",
       "      <td>8024</td>\n",
       "      <td>209.2152</td>\n",
       "      <td>210.270</td>\n",
       "      <td>208.950</td>\n",
       "      <td>210.270</td>\n",
       "      <td>208.9500</td>\n",
       "      <td>2024-06-11 19:59:07.264</td>\n",
       "      <td>1330</td>\n",
       "      <td>False</td>\n",
       "      <td>-0.627764</td>\n",
       "      <td>0.631730</td>\n",
       "    </tr>\n",
       "    <tr>\n",
       "      <th>...</th>\n",
       "      <td>...</td>\n",
       "      <td>...</td>\n",
       "      <td>...</td>\n",
       "      <td>...</td>\n",
       "      <td>...</td>\n",
       "      <td>...</td>\n",
       "      <td>...</td>\n",
       "      <td>...</td>\n",
       "      <td>...</td>\n",
       "      <td>...</td>\n",
       "      <td>...</td>\n",
       "      <td>...</td>\n",
       "      <td>...</td>\n",
       "    </tr>\n",
       "    <tr>\n",
       "      <th>24362</th>\n",
       "      <td>48730</td>\n",
       "      <td>104194</td>\n",
       "      <td>102</td>\n",
       "      <td>10.7613</td>\n",
       "      <td>10.760</td>\n",
       "      <td>10.760</td>\n",
       "      <td>10.760</td>\n",
       "      <td>10.7600</td>\n",
       "      <td>2024-06-14 20:00:07.680</td>\n",
       "      <td>3</td>\n",
       "      <td>False</td>\n",
       "      <td>0.000000</td>\n",
       "      <td>0.000000</td>\n",
       "    </tr>\n",
       "    <tr>\n",
       "      <th>24363</th>\n",
       "      <td>48731</td>\n",
       "      <td>102886</td>\n",
       "      <td>561</td>\n",
       "      <td>16.4572</td>\n",
       "      <td>16.490</td>\n",
       "      <td>16.490</td>\n",
       "      <td>16.490</td>\n",
       "      <td>16.4900</td>\n",
       "      <td>2024-06-14 20:00:07.680</td>\n",
       "      <td>12</td>\n",
       "      <td>False</td>\n",
       "      <td>0.000000</td>\n",
       "      <td>0.000000</td>\n",
       "    </tr>\n",
       "    <tr>\n",
       "      <th>24364</th>\n",
       "      <td>48732</td>\n",
       "      <td>102735</td>\n",
       "      <td>2100</td>\n",
       "      <td>29.9410</td>\n",
       "      <td>30.000</td>\n",
       "      <td>30.000</td>\n",
       "      <td>30.000</td>\n",
       "      <td>30.0000</td>\n",
       "      <td>2024-06-14 20:00:07.680</td>\n",
       "      <td>2</td>\n",
       "      <td>True</td>\n",
       "      <td>0.000000</td>\n",
       "      <td>0.000000</td>\n",
       "    </tr>\n",
       "    <tr>\n",
       "      <th>24365</th>\n",
       "      <td>48733</td>\n",
       "      <td>110274</td>\n",
       "      <td>100</td>\n",
       "      <td>10.5700</td>\n",
       "      <td>10.570</td>\n",
       "      <td>10.570</td>\n",
       "      <td>10.570</td>\n",
       "      <td>10.5700</td>\n",
       "      <td>2024-06-14 20:00:07.680</td>\n",
       "      <td>1</td>\n",
       "      <td>False</td>\n",
       "      <td>0.000000</td>\n",
       "      <td>0.000000</td>\n",
       "    </tr>\n",
       "    <tr>\n",
       "      <th>24366</th>\n",
       "      <td>48734</td>\n",
       "      <td>115007</td>\n",
       "      <td>1525</td>\n",
       "      <td>11.3004</td>\n",
       "      <td>11.305</td>\n",
       "      <td>11.305</td>\n",
       "      <td>11.305</td>\n",
       "      <td>11.3050</td>\n",
       "      <td>2024-06-14 20:00:07.680</td>\n",
       "      <td>3</td>\n",
       "      <td>False</td>\n",
       "      <td>0.000000</td>\n",
       "      <td>0.000000</td>\n",
       "    </tr>\n",
       "  </tbody>\n",
       "</table>\n",
       "<p>24367 rows × 13 columns</p>\n",
       "</div>"
      ],
      "text/plain": [
       "       candle_id  candle_company_id  candle_volume  candle_volume_weighted  \\\n",
       "0          24368              22127          29174                 48.1472   \n",
       "1          24369              26716        1288577                 37.9410   \n",
       "2          24370              36670         706413                 44.6400   \n",
       "3          24371              30065          84449                  0.7683   \n",
       "4          24372              33016           8024                209.2152   \n",
       "...          ...                ...            ...                     ...   \n",
       "24362      48730             104194            102                 10.7613   \n",
       "24363      48731             102886            561                 16.4572   \n",
       "24364      48732             102735           2100                 29.9410   \n",
       "24365      48733             110274            100                 10.5700   \n",
       "24366      48734             115007           1525                 11.3004   \n",
       "\n",
       "       candle_open  candle_close  candle_high  candle_low  \\\n",
       "0           48.270        48.300       48.300     47.7500   \n",
       "1           37.880        38.090       38.170     37.5000   \n",
       "2           45.550        44.730       45.555     44.2700   \n",
       "3            0.800         0.751        0.810      0.7401   \n",
       "4          210.270       208.950      210.270    208.9500   \n",
       "...            ...           ...          ...         ...   \n",
       "24362       10.760        10.760       10.760     10.7600   \n",
       "24363       16.490        16.490       16.490     16.4900   \n",
       "24364       30.000        30.000       30.000     30.0000   \n",
       "24365       10.570        10.570       10.570     10.5700   \n",
       "24366       11.305        11.305       11.305     11.3050   \n",
       "\n",
       "            candle_time_stamp  candle_num_of_trades  candle_is_otc  \\\n",
       "0     2024-06-11 19:59:07.264                  1819          False   \n",
       "1     2024-06-11 19:59:07.264                 18317          False   \n",
       "2     2024-06-11 19:59:07.264                 11110          False   \n",
       "3     2024-06-11 19:59:07.264                   290          False   \n",
       "4     2024-06-11 19:59:07.264                  1330          False   \n",
       "...                       ...                   ...            ...   \n",
       "24362 2024-06-14 20:00:07.680                     3          False   \n",
       "24363 2024-06-14 20:00:07.680                    12          False   \n",
       "24364 2024-06-14 20:00:07.680                     2           True   \n",
       "24365 2024-06-14 20:00:07.680                     1          False   \n",
       "24366 2024-06-14 20:00:07.680                     3          False   \n",
       "\n",
       "       candle_percent_change_open_close  candle_percent_change_high_low  \n",
       "0                              0.062150                        1.151832  \n",
       "1                              0.554382                        1.786667  \n",
       "2                             -1.800220                        2.902643  \n",
       "3                             -6.125000                        9.444670  \n",
       "4                             -0.627764                        0.631730  \n",
       "...                                 ...                             ...  \n",
       "24362                          0.000000                        0.000000  \n",
       "24363                          0.000000                        0.000000  \n",
       "24364                          0.000000                        0.000000  \n",
       "24365                          0.000000                        0.000000  \n",
       "24366                          0.000000                        0.000000  \n",
       "\n",
       "[24367 rows x 13 columns]"
      ]
     },
     "execution_count": 25,
     "metadata": {},
     "output_type": "execute_result"
    }
   ],
   "source": [
    "# Loại bỏ các cột không cần thiết\n",
    "pandas_df.drop(columns=['candles_time_id'], inplace=True)\n",
    "\n",
    "# Chuyển đổi kiểu dữ liệu\n",
    "pandas_df['candle_is_otc'] = pandas_df['candle_is_otc'].fillna(False).astype(bool)\n",
    "pandas_df['candle_time_stamp'] = pd.to_datetime(pandas_df['candle_time_stamp'], unit='ms')\n",
    "\n",
    "pandas_df"
   ]
  },
  {
   "cell_type": "code",
   "execution_count": 26,
   "metadata": {},
   "outputs": [
    {
     "name": "stdout",
     "output_type": "stream",
     "text": [
      "+---------+-----------------+-------------+----------------------+-----------+------------+-----------+----------+--------------------+--------------------+-------------+--------------------------------+------------------------------+\n",
      "|candle_id|candle_company_id|candle_volume|candle_volume_weighted|candle_open|candle_close|candle_high|candle_low|   candle_time_stamp|candle_num_of_trades|candle_is_otc|candle_percent_change_open_close|candle_percent_change_high_low|\n",
      "+---------+-----------------+-------------+----------------------+-----------+------------+-----------+----------+--------------------+--------------------+-------------+--------------------------------+------------------------------+\n",
      "|    24368|            22127|        29174|               48.1472|      48.27|        48.3|       48.3|     47.75|2024-06-11 19:59:...|                1819|        false|             0.06215040397761349|            1.1518324607329784|\n",
      "|    24369|            26716|      1288577|                37.941|      37.88|       38.09|      38.17|      37.5|2024-06-11 19:59:...|               18317|        false|              0.5543822597676896|             1.786666666666671|\n",
      "|    24370|            36670|       706413|                 44.64|      45.55|       44.73|     45.555|     44.27|2024-06-11 19:59:...|               11110|        false|             -1.8002195389681674|             2.902642873277607|\n",
      "|    24371|            30065|        84449|                0.7683|        0.8|       0.751|       0.81|    0.7401|2024-06-11 19:59:...|                 290|        false|              -6.125000000000005|              9.44466963923795|\n",
      "|    24372|            33016|         8024|              209.2152|     210.27|      208.95|     210.27|    208.95|2024-06-11 19:59:...|                1330|        false|             -0.6277643030389601|            0.6317300789662702|\n",
      "|    24373|            20081|        14640|               25.8061|       26.2|       25.77|       26.2|     25.68|2024-06-11 19:59:...|                 447|        false|             -1.6412213740458006|             2.024922118380061|\n",
      "|    24374|            32184|      1103423|               20.1832|      20.41|       20.12|      20.49|     20.08|2024-06-11 19:59:...|                9095|        false|               -1.42087212150906|              2.04183266932271|\n",
      "|    24375|            24951|       778282|                0.3015|        0.3|      0.3047|     0.3091|    0.2916|2024-06-11 19:59:...|                2042|        false|              1.5666666666666793|             6.001371742112468|\n",
      "|    24376|            29366|        10097|               12.1454|      12.07|       12.07|       12.2|     12.07|2024-06-11 19:59:...|                 277|        false|                             0.0|            1.0770505385252611|\n",
      "|    24377|            25811|       488329|                 4.709|       5.27|        4.75|        5.5|      4.36|2024-06-11 19:59:...|                3490|        false|              -9.867172675521815|             26.14678899082568|\n",
      "|    24378|            31699|      1034155|               20.8825|      20.72|       20.85|      21.06|     20.68|2024-06-11 19:59:...|               11343|        false|              0.6274131274131398|            1.8375241779497051|\n",
      "|    24379|            32872|      2032195|               13.4241|       13.4|       13.42|      13.53|      13.3|2024-06-11 19:59:...|               15514|        false|              0.1492537313432804|            1.7293233082706667|\n",
      "|    24380|            29556|        88488|                7.4035|       7.55|        7.16|       7.85|      7.11|2024-06-11 19:59:...|                9082|        false|               -5.16556291390728|            10.407876230661032|\n",
      "|    24381|            34720|       350180|              127.7951|     129.53|      127.29|     129.82|    127.22|2024-06-11 19:59:...|                9624|        false|             -1.7293291129468036|            2.0437038201540596|\n",
      "|    24382|            34199|       238289|               58.0929|      58.71|        57.7|      58.86|     57.67|2024-06-11 19:59:...|                5611|        false|             -1.7203202180207766|            2.0634645396219833|\n",
      "|    24383|            37645|      4417439|               51.0832|      52.95|       50.81|      52.98|     50.16|2024-06-11 19:59:...|               46233|        false|              -4.041548630783759|             5.622009569377991|\n",
      "|    24384|            27292|      6841341|                3.5575|       3.57|        3.58|       3.63|      3.51|2024-06-11 19:59:...|               28980|        false|              0.2801120448179336|            3.4188034188034218|\n",
      "|    24385|            37814|        23092|                8.7411|       8.55|         8.8|       8.86|      8.55|2024-06-11 19:59:...|                 214|        false|               2.923976608187134|            3.6257309941520313|\n",
      "|    24386|            33256|      2170218|               67.7659|       68.3|       67.86|       68.3|      67.5|2024-06-11 19:59:...|               30342|        false|             -0.6442166910688107|             1.185185185185181|\n",
      "|    24387|            29122|      1109082|              277.1059|      273.0|       278.3|     279.05|     271.4|2024-06-11 19:59:...|               21673|        false|              1.9413919413919456|            2.8187177597641986|\n",
      "+---------+-----------------+-------------+----------------------+-----------+------------+-----------+----------+--------------------+--------------------+-------------+--------------------------------+------------------------------+\n",
      "only showing top 20 rows\n",
      "\n"
     ]
    },
    {
     "name": "stderr",
     "output_type": "stream",
     "text": [
      "24/06/16 03:27:25 WARN TaskSetManager: Stage 1 contains a task of very large size (1077 KiB). The maximum recommended task size is 1000 KiB.\n"
     ]
    }
   ],
   "source": [
    "# Xác định schema\n",
    "schema = StructType([\n",
    "    StructField(\"candle_id\", IntegerType(), True),\n",
    "    StructField(\"candle_company_id\", IntegerType(), True),\n",
    "    StructField(\"candle_volume\", LongType(), True),\n",
    "    StructField(\"candle_volume_weighted\", DoubleType(), True),\n",
    "    StructField(\"candle_open\", DoubleType(), True),\n",
    "    StructField(\"candle_close\", DoubleType(), True),\n",
    "    StructField(\"candle_high\", DoubleType(), True),\n",
    "    StructField(\"candle_low\", DoubleType(), True),\n",
    "    StructField(\"candle_time_stamp\", TimestampType(), True),\n",
    "    StructField(\"candle_num_of_trades\", IntegerType(), True),\n",
    "    StructField(\"candle_is_otc\", BooleanType(), True),\n",
    "    StructField(\"candle_percent_change_open_close\", DoubleType(), True),\n",
    "    StructField(\"candle_percent_change_high_low\", DoubleType(), True)\n",
    "])\n",
    "\n",
    "# Chuyển đổi Pandas DataFrame thành PySpark DataFrame với schema\n",
    "spark_df_candles = spark.createDataFrame(pandas_df, schema=schema)\n",
    "\n",
    "# Hiển thị một vài hàng của DataFrame\n",
    "spark_df_candles.show()"
   ]
  },
  {
   "cell_type": "code",
   "execution_count": 52,
   "metadata": {},
   "outputs": [
    {
     "name": "stdout",
     "output_type": "stream",
     "text": [
      "+-------------+-----+\n",
      "|candle_is_otc|count|\n",
      "+-------------+-----+\n",
      "|         true| 1423|\n",
      "|        false|22944|\n",
      "+-------------+-----+\n",
      "\n"
     ]
    }
   ],
   "source": [
    "# Thống kê số lượng giao dịch\n",
    "trade_stats = spark_df_candles.groupBy(\"candle_is_otc\").agg(count(\"*\").alias(\"count\"))\n",
    "trade_stats.show()"
   ]
  },
  {
   "cell_type": "code",
   "execution_count": 54,
   "metadata": {},
   "outputs": [
    {
     "name": "stdout",
     "output_type": "stream",
     "text": [
      "+-----------------+----------+\n",
      "|candle_company_id|avg_volume|\n",
      "+-----------------+----------+\n",
      "|            26087|  342077.0|\n",
      "|            37111|  423012.0|\n",
      "|            20497|  544030.0|\n",
      "|            31236|   24725.0|\n",
      "|            35820|  497481.0|\n",
      "|            36131| 1347812.0|\n",
      "|            29993|   10163.0|\n",
      "|            29719|   93199.0|\n",
      "|            29601|  709573.0|\n",
      "|            38422|   30176.0|\n",
      "|            35689|  273380.0|\n",
      "|            19984|  389931.0|\n",
      "|            20135|   79299.0|\n",
      "|            38311|  457856.0|\n",
      "|            35071|  360757.0|\n",
      "|            35947|  713053.0|\n",
      "|            36538| 1359825.0|\n",
      "|            20382|  552118.0|\n",
      "|            29228|  535699.0|\n",
      "|            29894| 2045242.0|\n",
      "+-----------------+----------+\n",
      "only showing top 20 rows\n",
      "\n"
     ]
    }
   ],
   "source": [
    "# Thống kê khối lượng giao dịch trung bình theo công ty\n",
    "volume_avg_stats = spark_df_candles.groupBy(\"candle_company_id\").agg(avg(\"candle_volume\").alias(\"avg_volume\"))\n",
    "volume_avg_stats.show()"
   ]
  },
  {
   "cell_type": "code",
   "execution_count": 55,
   "metadata": {},
   "outputs": [
    {
     "name": "stdout",
     "output_type": "stream",
     "text": [
      "+-----------------+--------+\n",
      "|candle_company_id|avg_open|\n",
      "+-----------------+--------+\n",
      "|            26087|    2.47|\n",
      "|            37111|  161.78|\n",
      "|            20497|     1.1|\n",
      "|            31236|   0.065|\n",
      "|            35820|   45.08|\n",
      "|            36131|    44.0|\n",
      "|            29993|     7.3|\n",
      "|            29719|   25.11|\n",
      "|            29601|    7.87|\n",
      "|            38422|    4.66|\n",
      "|            35689|    8.02|\n",
      "|            19984|   17.16|\n",
      "|            20135|    3.24|\n",
      "|            38311|   25.11|\n",
      "|            35071|   58.52|\n",
      "|            35947|   78.32|\n",
      "|            36538|   77.52|\n",
      "|            20382|   31.95|\n",
      "|            29228|  169.61|\n",
      "|            29894|   92.79|\n",
      "+-----------------+--------+\n",
      "only showing top 20 rows\n",
      "\n"
     ]
    }
   ],
   "source": [
    "# Thống kê giá mở cửa trung bình theo công ty\n",
    "open_avg_stats = spark_df_candles.groupBy(\"candle_company_id\").agg(avg(\"candle_open\").alias(\"avg_open\"))\n",
    "open_avg_stats.show()"
   ]
  },
  {
   "cell_type": "markdown",
   "metadata": {},
   "source": [
    "## Mix"
   ]
  },
  {
   "cell_type": "code",
   "execution_count": 56,
   "metadata": {},
   "outputs": [
    {
     "name": "stderr",
     "output_type": "stream",
     "text": [
      "24/06/15 16:04:39 WARN TaskSetManager: Stage 59 contains a task of very large size (12663 KiB). The maximum recommended task size is 1000 KiB.\n",
      "                                                                                \r"
     ]
    },
    {
     "name": "stdout",
     "output_type": "stream",
     "text": [
      "+---------+-----------------+-------------+----------------------+-----------+------------+-----------+----------+--------------------+--------------------+-------------+----------+--------------------+--------------------+--------------+-------------------+--------------------+----------------+--------------------+---------------------+-------------------+---------------------+-----------------------+--------------------+--------------------+\n",
      "|candle_id|candle_company_id|candle_volume|candle_volume_weighted|candle_open|candle_close|candle_high|candle_low|   candle_time_stamp|candle_num_of_trades|candle_is_otc|company_id|        company_name|  company_time_stamp|company_ticket|company_is_delisted|    company_category|company_currency|    company_location|company_exchange_name|company_region_name|company_industry_name|company_industry_sector|company_sic_industry|  company_sic_sector|\n",
      "+---------+-----------------+-------------+----------------------+-----------+------------+-----------+----------+--------------------+--------------------+-------------+----------+--------------------+--------------------+--------------+-------------------+--------------------+----------------+--------------------+---------------------+-------------------+---------------------+-----------------------+--------------------+--------------------+\n",
      "|     4559|            19907|      1626983|                5.0057|        5.0|        5.12|       5.12|     4.905|2024-06-11 19:59:...|               13322|        false|     19907| ADTRAN HOLDINGS INC|2024-06-12 13:11:...|          ADTN|              false|Domestic Common S...|             USD|      Alabama; U.S.A|               NASDAQ|      United States| Communication Equ...|             Technology|Telephone & Teleg...|       Manufacturing|\n",
      "|     2942|            19979|       611719|                3.2926|        3.4|         3.3|     3.4231|      3.17|2024-06-11 19:59:...|                3330|        false|     19979|AGBA GROUP HOLDIN...|2024-06-12 13:11:...|          AGBA|              false|Domestic Common S...|             USD|           Hong Kong|               NASDAQ|      United States|      Capital Markets|     Financial Services|   Investment Advice|Finance Insurance...|\n",
      "|     4433|            21965|       170108|                2.5351|       2.52|        2.52|       2.57|      2.51|2024-06-11 19:59:...|                1190|        false|     21965|CERAGON NETWORKS LTD|2024-06-12 13:11:...|          CRNT|              false|    ADR Common Stock|             USD|              Israel|               NASDAQ|      United States| Communication Equ...|             Technology|Radio & Tv Broadc...|       Manufacturing|\n",
      "|     1392|            22129|       293109|              113.2049|     114.26|      113.03|     114.82|    112.58|2024-06-11 19:59:...|                9216|        false|     22129|COMMVAULT SYSTEMS...|2024-06-12 13:11:...|          CVLT|              false|Domestic Common S...|             USD|   New Jersey; U.S.A|               NASDAQ|      United States| Software - Applic...|             Technology|Services-Prepacka...|            Services|\n",
      "|     4574|            22165|       461453|              247.8502|      251.0|      247.25|   252.1209|  245.0137|2024-06-11 19:59:...|               11941|        false|     22165|CYBERARK SOFTWARE...|2024-06-12 13:11:...|          CYBR|              false|    ADR Common Stock|             USD|              Israel|               NASDAQ|      United States| Software - Infras...|             Technology|Services-Prepacka...|            Services|\n",
      "|     4186|            22429|       160346|               90.1179|       89.2|       90.69|      90.86|     89.17|2024-06-11 19:59:...|                4679|        false|     22429| DORMAN PRODUCTS INC|2024-06-12 13:11:...|          DORM|              false|Domestic Common S...|             USD| Pennsylvania; U.S.A|               NASDAQ|      United States|           Auto Parts|      Consumer Cyclical|Motor Vehicle Par...|       Manufacturing|\n",
      "|     3916|            23116|       374536|               20.7936|      20.81|       20.81|      20.91|     20.59|2024-06-11 19:59:...|                7520|        false|     23116|FIRST FINANCIAL B...|2024-06-12 13:11:...|          FFBC|              false|Domestic Common S...|             USD|         Ohio; U.S.A|               NASDAQ|      United States|     Banks - Regional|     Financial Services|National Commerci...|Finance Insurance...|\n",
      "|     4734|            25207|       689066|               80.5955|       79.3|       81.07|      81.43|     79.27|2024-06-11 19:59:...|               12897|        false|     25207|LANTHEUS HOLDINGS...|2024-06-12 13:11:...|          LNTH|              false|Domestic Common S...|             USD|Massachusetts; U.S.A|               NASDAQ|      United States| Drug Manufacturer...|             Healthcare|In Vitro & In Viv...|       Manufacturing|\n",
      "|     1173|            27255|       110126|               81.3314|      81.61|       81.69|      81.71|     80.41|2024-06-11 19:59:...|                5027|        false|     27255|      PRICESMART INC|2024-06-12 13:11:...|          PSMT|              false|Domestic Common S...|             USD|   California; U.S.A|               NASDAQ|      United States|      Discount Stores|     Consumer Defensive|Retail-Variety St...|        Retail Trade|\n",
      "|     2418|            27563|        58148|               25.6529|      25.81|       25.95|      26.19|     25.05|2024-06-11 19:59:...|                1919|        false|     27563| RENT THE RUNWAY INC|2024-06-12 13:11:...|          RENT|              false|Domestic Common S...|             USD|     New York; U.S.A|               NASDAQ|      United States|       Apparel Retail|      Consumer Cyclical|Retail-Retail Sto...|        Retail Trade|\n",
      "|     3003|            28078|       277759|               11.5987|      12.05|       11.47|    12.0877|      11.4|2024-06-11 19:59:...|                3091|        false|     28078|SEANERGY MARITIME...|2024-06-12 13:11:...|          SHIP|              false|ADR Common Stock ...|             USD|              Greece|               NASDAQ|      United States|      Marine Shipping|            Industrials|Deep Sea Foreign ...|Transportation Co...|\n",
      "|     2199|            29841|       164329|                0.6169|      0.618|      0.6114|     0.6383|     0.595|2024-06-11 19:59:...|                 504|        false|     29841|       WORKSPORT LTD|2024-06-12 13:11:...|          WKSP|              false|Domestic Common S...|             USD|     Ontario; Canada|               NASDAQ|      United States|           Auto Parts|      Consumer Cyclical|Motor Vehicle Par...|       Manufacturing|\n",
      "|     1613|            30421|        75691|               39.8543|      39.79|        39.8|       40.1|     39.69|2024-06-11 19:59:...|                3263|        false|     30421|ATLANTA BRAVES HO...|2024-06-12 13:11:...|         BATRK|              false|Domestic Common S...|             USD|     Colorado; U.S.A|               NASDAQ|      United States|        Entertainment|   Communication Ser...|Services-Amusemen...|            Services|\n",
      "|     5292|            30562|          903|               0.01993|     0.0203|    0.020301|   0.020301|    0.0203|2024-06-11 19:59:...|                   7|        false|     30562|     BTC DIGITAL LTD|2024-06-12 13:11:...|         BTCTW|              false|ADR Common Stock ...|             USD|               China|               NASDAQ|      United States| Education & Train...|     Consumer Defensive|Services-Educatio...|            Services|\n",
      "|     1524|            30928|        41198|              0.009745|     0.0095|     0.00875|      0.011|   0.00875|2024-06-11 19:59:...|                  19|         true|     30928|          NEXTEGO NV|2024-06-12 13:11:...|         EGOXF|               true|    ADR Common Stock|             USD|             Germany|               NASDAQ|      United States|   Auto Manufacturers|      Consumer Cyclical|Motor Vehicles & ...|       Manufacturing|\n",
      "|     5238|            31156|        13681|                1.9913|     1.9924|        2.06|       2.08|      1.95|2024-06-11 19:59:...|                  80|        false|     31156|CYTOMED THERAPEUT...|2024-06-12 13:11:...|          GDTC|              false|    ADR Common Stock|             USD|           Singapore|               NASDAQ|      United States|        Biotechnology|             Healthcare|Pharmaceutical Pr...|       Manufacturing|\n",
      "|     5089|            31762|        30299|                0.1014|     0.1181|         0.1|     0.1216|       0.1|2024-06-11 19:59:...|                  75|        false|     31762|MOUNTAIN CREST AC...|2024-06-12 13:11:...|         MCAGR|              false|Domestic Common S...|             USD|     New York; U.S.A|               NASDAQ|      United States|      Shell Companies|            Industrials|        Blank Checks|Finance Insurance...|\n",
      "|     3050|            32954|       475070|               11.5696|      11.66|       11.55|      11.68|     11.45|2024-06-11 19:59:...|                4576|        false|     32954|         PLAYAGS INC|2024-06-12 13:11:...|           AGS|              false|Domestic Common S...|             USD|       Nevada; U.S.A|                 NYSE|      United States|             Gambling|      Consumer Cyclical|Miscellaneous Man...|       Manufacturing|\n",
      "|     3980|            33013|      7756353|                3.9082|       3.95|        3.89|       3.98|      3.83|2024-06-11 19:59:...|               25902|        false|     33013|ARCADIUM LITHIUM PLC|2024-06-12 13:11:...|          ALTM|              false|Domestic Common S...|             USD| Pennsylvania; U.S.A|                 NYSE|      United States|  Specialty Chemicals|        Basic Materials|Chemicals & Allie...|       Manufacturing|\n",
      "|     2101|            33760|      1285372|               26.1043|      26.09|       26.06|      26.26|     25.77|2024-06-11 19:59:...|               16970|        false|     33760|  CNX RESOURCES CORP|2024-06-12 13:11:...|           CNX|              false|Domestic Common S...|             USD| Pennsylvania; U.S.A|                 NYSE|      United States|        Oil & Gas E&P|                 Energy|Crude Petroleum &...|              Mining|\n",
      "+---------+-----------------+-------------+----------------------+-----------+------------+-----------+----------+--------------------+--------------------+-------------+----------+--------------------+--------------------+--------------+-------------------+--------------------+----------------+--------------------+---------------------+-------------------+---------------------+-----------------------+--------------------+--------------------+\n",
      "only showing top 20 rows\n",
      "\n"
     ]
    }
   ],
   "source": [
    "# Kết hợp hai bảng dựa trên company_id và candle_company_id\n",
    "joined_df = spark_df_candles.join(spark_df_companies, spark_df_candles.candle_company_id == spark_df_companies.company_id)\n",
    "\n",
    "# Hiển thị một vài hàng của DataFrame kết hợp\n",
    "joined_df.show()"
   ]
  },
  {
   "cell_type": "code",
   "execution_count": 57,
   "metadata": {},
   "outputs": [
    {
     "name": "stderr",
     "output_type": "stream",
     "text": [
      "24/06/15 16:05:02 WARN TaskSetManager: Stage 65 contains a task of very large size (12663 KiB). The maximum recommended task size is 1000 KiB.\n",
      "                                                                                \r"
     ]
    },
    {
     "name": "stdout",
     "output_type": "stream",
     "text": [
      "+---------------------+------------------+\n",
      "|company_industry_name|        avg_volume|\n",
      "+---------------------+------------------+\n",
      "|   Auto Manufacturers|  9333003.97044335|\n",
      "| Consumer Electronics| 7793233.613333333|\n",
      "|       Semiconductors| 6382139.212624584|\n",
      "|               Silver|         5820558.5|\n",
      "|  Banks - Diversified|         5676967.6|\n",
      "| Drug Manufacturer...|  4567538.97368421|\n",
      "|  Beverages - Brewers| 4463199.230769231|\n",
      "| Oil & Gas Integrated| 4434751.106666666|\n",
      "|  Aerospace & Defense| 4215876.419161676|\n",
      "|             Airlines|4039972.3863636362|\n",
      "|      Capital Markets| 3946098.194174757|\n",
      "|     Specialty Retail| 3552747.336492891|\n",
      "|    Resorts & Casinos|3384854.0632911394|\n",
      "|        Entertainment|3353888.1428571427|\n",
      "|                 Gold| 3314450.192982456|\n",
      "|              Tobacco| 3297863.076923077|\n",
      "|      Travel Services| 3284076.289473684|\n",
      "|           Publishing|3082967.1578947366|\n",
      "|               Copper|         2860272.2|\n",
      "|      Internet Retail| 2783201.552631579|\n",
      "+---------------------+------------------+\n",
      "only showing top 20 rows\n",
      "\n"
     ]
    }
   ],
   "source": [
    "from pyspark.sql.functions import avg\n",
    "\n",
    "# Thống kê khối lượng giao dịch trung bình theo ngành công nghiệp\n",
    "volume_avg_industry_stats = joined_df.groupBy(\"company_industry_name\").agg(avg(\"candle_volume\").alias(\"avg_volume\")).orderBy(\"avg_volume\", ascending=False)\n",
    "volume_avg_industry_stats.show()"
   ]
  },
  {
   "cell_type": "code",
   "execution_count": 58,
   "metadata": {},
   "outputs": [
    {
     "name": "stderr",
     "output_type": "stream",
     "text": [
      "24/06/15 16:06:06 WARN TaskSetManager: Stage 74 contains a task of very large size (12663 KiB). The maximum recommended task size is 1000 KiB.\n",
      "                                                                                \r"
     ]
    },
    {
     "name": "stdout",
     "output_type": "stream",
     "text": [
      "+--------------------+------------------+\n",
      "|   candle_time_stamp|         avg_close|\n",
      "+--------------------+------------------+\n",
      "|2024-06-12 20:00:...|146.70842157243322|\n",
      "|2024-06-11 19:59:...| 144.6122471598025|\n",
      "|2024-06-14 20:00:...|143.70532500131725|\n",
      "|2024-06-13 20:00:...|143.40294943669167|\n",
      "+--------------------+------------------+\n",
      "\n"
     ]
    }
   ],
   "source": [
    "# Thống kê giá đóng cửa trung bình theo thời gian\n",
    "close_avg_region_stats = joined_df.groupBy(\"candle_time_stamp\").agg(avg(\"candle_close\").alias(\"avg_close\")).orderBy(\"avg_close\", ascending=False)\n",
    "close_avg_region_stats.show()"
   ]
  },
  {
   "cell_type": "code",
   "execution_count": 59,
   "metadata": {},
   "outputs": [
    {
     "name": "stderr",
     "output_type": "stream",
     "text": [
      "24/06/15 16:06:34 WARN TaskSetManager: Stage 83 contains a task of very large size (12663 KiB). The maximum recommended task size is 1000 KiB.\n",
      "                                                                                \r"
     ]
    },
    {
     "name": "stdout",
     "output_type": "stream",
     "text": [
      "+---------------------+---------------------+-------------+\n",
      "|company_industry_name|company_exchange_name|num_companies|\n",
      "+---------------------+---------------------+-------------+\n",
      "|        Biotechnology|               NASDAQ|         2865|\n",
      "|     Banks - Regional|               NASDAQ|         1303|\n",
      "| Software - Applic...|               NASDAQ|          842|\n",
      "|      Shell Companies|               NASDAQ|          835|\n",
      "|      Medical Devices|               NASDAQ|          558|\n",
      "| Software - Infras...|               NASDAQ|          514|\n",
      "|     Banks - Regional|                 NYSE|          331|\n",
      "| Drug Manufacturer...|               NASDAQ|          326|\n",
      "| Software - Applic...|                 NYSE|          320|\n",
      "| Health Informatio...|               NASDAQ|          265|\n",
      "|       Semiconductors|               NASDAQ|          249|\n",
      "| Communication Equ...|               NASDAQ|          245|\n",
      "|     Asset Management|               NASDAQ|          244|\n",
      "|      Capital Markets|               NASDAQ|          241|\n",
      "| Internet Content ...|               NASDAQ|          231|\n",
      "| Diagnostics & Res...|               NASDAQ|          224|\n",
      "|        Oil & Gas E&P|                 NYSE|          218|\n",
      "| Specialty Industr...|                 NYSE|          208|\n",
      "|       Packaged Foods|               NASDAQ|          203|\n",
      "|     Asset Management|                 NYSE|          194|\n",
      "+---------------------+---------------------+-------------+\n",
      "only showing top 20 rows\n",
      "\n"
     ]
    }
   ],
   "source": [
    "# Thống kê số lượng công ty theo ngành công nghiệp và sàn giao dịch\n",
    "company_count_industry_exchange_stats = joined_df.groupBy(\"company_industry_name\", \"company_exchange_name\").agg(count(\"company_id\").alias(\"num_companies\")).orderBy(\"num_companies\", ascending=False)\n",
    "company_count_industry_exchange_stats.show()"
   ]
  }
 ],
 "metadata": {
  "kernelspec": {
   "display_name": "api_venv",
   "language": "python",
   "name": "python3"
  },
  "language_info": {
   "codemirror_mode": {
    "name": "ipython",
    "version": 3
   },
   "file_extension": ".py",
   "mimetype": "text/x-python",
   "name": "python",
   "nbconvert_exporter": "python",
   "pygments_lexer": "ipython3",
   "version": "3.8.10"
  }
 },
 "nbformat": 4,
 "nbformat_minor": 2
}
