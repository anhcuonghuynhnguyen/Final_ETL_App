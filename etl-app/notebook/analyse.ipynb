{
 "cells": [
  {
   "cell_type": "code",
   "execution_count": 1,
   "metadata": {},
   "outputs": [
    {
     "name": "stdout",
     "output_type": "stream",
     "text": [
      "Hello World\n"
     ]
    }
   ],
   "source": [
    "print(\"Hello World\")"
   ]
  },
  {
   "cell_type": "code",
   "execution_count": 1,
   "metadata": {},
   "outputs": [],
   "source": [
    "import duckdb\n",
    "import findspark\n",
    "findspark.init()\n",
    "from pyspark.sql import SparkSession"
   ]
  },
  {
   "cell_type": "markdown",
   "metadata": {},
   "source": [
    "## Dim Companies"
   ]
  },
  {
   "cell_type": "code",
   "execution_count": 32,
   "metadata": {},
   "outputs": [],
   "source": [
    "from pyspark.sql.functions import col, count\n",
    "from pyspark.sql.window import Window\n",
    "from pyspark.sql.functions import row_number\n",
    "from pyspark.sql.functions import split, element_at"
   ]
  },
  {
   "cell_type": "code",
   "execution_count": 2,
   "metadata": {},
   "outputs": [
    {
     "name": "stderr",
     "output_type": "stream",
     "text": [
      "Setting default log level to \"WARN\".\n",
      "To adjust logging level use sc.setLogLevel(newLevel). For SparkR, use setLogLevel(newLevel).\n",
      "24/06/20 03:36:15 WARN NativeCodeLoader: Unable to load native-hadoop library for your platform... using builtin-java classes where applicable\n"
     ]
    }
   ],
   "source": [
    "spark = SparkSession.builder.appName(\"Companies\").getOrCreate()"
   ]
  },
  {
   "cell_type": "code",
   "execution_count": 14,
   "metadata": {},
   "outputs": [],
   "source": [
    "# Connect to the DuckDB database\n",
    "duck_conn = duckdb.connect('/home/anhcu/Final_ETL_App/etl-app/datawarehouse.duckdb')\n",
    "query = 'SELECT * FROM dim_companies'\n",
    "\n",
    "# Fetch data from DuckDB and convert to Pandas DataFrame\n",
    "pandas_df = duck_conn.execute(query).fetchdf()\n",
    "\n",
    "duck_conn.close()"
   ]
  },
  {
   "cell_type": "code",
   "execution_count": 15,
   "metadata": {},
   "outputs": [
    {
     "name": "stderr",
     "output_type": "stream",
     "text": [
      "24/06/20 03:55:47 WARN TaskSetManager: Stage 16 contains a task of very large size (27397 KiB). The maximum recommended task size is 1000 KiB.\n",
      "                                                                                \r"
     ]
    },
    {
     "name": "stdout",
     "output_type": "stream",
     "text": [
      "256115\n"
     ]
    },
    {
     "name": "stderr",
     "output_type": "stream",
     "text": [
      "24/06/20 03:55:49 WARN TaskSetManager: Stage 19 contains a task of very large size (27397 KiB). The maximum recommended task size is 1000 KiB.\n",
      "[Stage 19:>                                                         (0 + 1) / 1]\r"
     ]
    },
    {
     "name": "stdout",
     "output_type": "stream",
     "text": [
      "+----------+--------------------+--------------------+--------------+-------------------+--------------------+----------------+--------------------+---------------------+-------------------+---------------------+-----------------------+--------------------+--------------------+\n",
      "|company_id|        company_name|  company_time_stamp|company_ticket|company_is_delisted|    company_category|company_currency|    company_location|company_exchange_name|company_region_name|company_industry_name|company_industry_sector|company_sic_industry|  company_sic_sector|\n",
      "+----------+--------------------+--------------------+--------------+-------------------+--------------------+----------------+--------------------+---------------------+-------------------+---------------------+-----------------------+--------------------+--------------------+\n",
      "|         1|ADMIRALTY BANCORP...|2024-06-12 13:09:...|          AAAB|               true|Domestic Common S...|             USD|      Florida; U.S.A|               NASDAQ|      United States|     Banks - Regional|     Financial Services|State Commercial ...|Finance Insurance...|\n",
      "|         2|ACCESS ANYTIME BA...|2024-06-12 13:09:...|          AABC|               true|Domestic Common S...|             USD|   New Mexico; U.S.A|               NASDAQ|      United States|     Banks - Regional|     Financial Services|Savings Instituti...|Finance Insurance...|\n",
      "|         3|ASSET ACCEPTANCE ...|2024-06-12 13:09:...|          AACC|               true|Domestic Common S...|             USD|     Michigan; U.S.A|               NASDAQ|      United States|     Asset Management|     Financial Services|Short-Term Busine...|Finance Insurance...|\n",
      "|         4|ACE CASH EXPRESS INC|2024-06-12 13:09:...|          AACE|               true|Domestic Common S...|             USD|        Texas; U.S.A|               NASDAQ|      United States|      Credit Services|     Financial Services|Functions Related...|Finance Insurance...|\n",
      "|         5|ARMADA ACQUISITIO...|2024-06-12 13:09:...|          AACI|              false|Domestic Common S...|             USD| Pennsylvania; U.S.A|               NASDAQ|      United States|      Shell Companies|            Industrials|        Blank Checks|Finance Insurance...|\n",
      "|         6|AUSTRALIA ACQUISI...|2024-06-12 13:09:...|         AACPF|               true|    ADR Common Stock|             USD|           Australia|               NASDAQ|      United States|      Shell Companies|            Industrials|        Blank Checks|Finance Insurance...|\n",
      "|         7| AADI BIOSCIENCE INC|2024-06-12 13:09:...|          AADI|              false|Domestic Common S...|             USD|   California; U.S.A|               NASDAQ|      United States|        Biotechnology|             Healthcare|Pharmaceutical Pr...|       Manufacturing|\n",
      "|         8|ADVANTAGE BANCORP...|2024-06-12 13:09:...|          AADV|               true|Domestic Common S...|             USD|    Wisconsin; U.S.A|               NASDAQ|      United States|     Banks - Regional|     Financial Services|Savings Instituti...|Finance Insurance...|\n",
      "|         9|AFRICAN AGRICULTU...|2024-06-12 13:09:...|          AAGR|              false|Domestic Common S...|             USD|     New York; U.S.A|               NASDAQ|      United States|        Farm Products|     Consumer Defensive|Agricultural Prod...|Agriculture Fores...|\n",
      "|        10|AIRTRAN HOLDINGS INC|2024-06-12 13:09:...|           AAI|               true|Domestic Common S...|             USD|      Florida; U.S.A|               NASDAQ|      United States|             Airlines|            Industrials|Air Transportatio...|Transportation Co...|\n",
      "|        11|ALABAMA AIRCRAFT ...|2024-06-12 13:09:...|         AAIIQ|               true|Domestic Common S...|             USD|      Alabama; U.S.A|               NASDAQ|      United States|  Aerospace & Defense|            Industrials|            Aircraft|       Manufacturing|\n",
      "|        12|       AAIPHARMA INC|2024-06-12 13:09:...|        AAIIQ1|               true|Domestic Common S...|             USD|North Carolina; U...|               NASDAQ|      United States| Diagnostics & Res...|             Healthcare|Services-Testing ...|            Services|\n",
      "|        13|AMERICAN AIRLINES...|2024-06-12 13:09:...|           AAL|              false|Domestic Common S...|             USD|        Texas; U.S.A|               NASDAQ|      United States|             Airlines|            Industrials|Air Transportatio...|Transportation Co...|\n",
      "|        14|ATLANTIC AMERICAN...|2024-06-12 13:09:...|          AAME|              false|Domestic Common S...|             USD|      Georgia; U.S.A|               NASDAQ|      United States|     Insurance - Life|     Financial Services|      Life Insurance|Finance Insurance...|\n",
      "|        15|ABIGAIL ADAMS NAT...|2024-06-12 13:09:...|          AANB|               true|Domestic Common S...|             USD|District Of Colum...|               NASDAQ|      United States|     Banks - Regional|     Financial Services|National Commerci...|Finance Insurance...|\n",
      "|        16|APPLIED OPTOELECT...|2024-06-12 13:09:...|          AAOI|              false|Domestic Common S...|             USD|        Texas; U.S.A|               NASDAQ|      United States| Communication Equ...|             Technology|Semiconductors & ...|       Manufacturing|\n",
      "|        17|            AAON INC|2024-06-12 13:09:...|          AAON|              false|Domestic Common S...|             USD|     Oklahoma; U.S.A|               NASDAQ|      United States| Building Products...|        Basic Materials|Air-Cond & Warm A...|       Manufacturing|\n",
      "|        18|ATLANTIC ALLIANCE...|2024-06-12 13:09:...|          AAPC|               true|Domestic Common S...|             USD|     New York; U.S.A|               NASDAQ|      United States|             Gambling|      Consumer Cyclical|Services-Miscella...|            Services|\n",
      "|        19|           APPLE INC|2024-06-12 13:09:...|          AAPL|              false|Domestic Common S...|             USD|   California; U.S.A|               NASDAQ|      United States| Consumer Electronics|             Technology|Electronic Computers|       Manufacturing|\n",
      "|        20|         ALCIDE CORP|2024-06-12 13:09:...|          ALCD|               true|Domestic Common S...|             USD|   Washington; U.S.A|               NASDAQ|      United States|  Agricultural Inputs|        Basic Materials|Agricultural Chem...|       Manufacturing|\n",
      "+----------+--------------------+--------------------+--------------+-------------------+--------------------+----------------+--------------------+---------------------+-------------------+---------------------+-----------------------+--------------------+--------------------+\n",
      "only showing top 20 rows\n",
      "\n"
     ]
    },
    {
     "name": "stderr",
     "output_type": "stream",
     "text": [
      "24/06/20 03:55:53 WARN PythonRunner: Detected deadlock while completing task 0.0 in stage 19 (TID 19): Attempting to kill Python Worker\n",
      "                                                                                \r"
     ]
    }
   ],
   "source": [
    "# Convert Pandas DataFrame to PySpark DataFrame\n",
    "spark_df_companies = spark.createDataFrame(pandas_df)\n",
    "\n",
    "print(spark_df_companies.count())\n",
    "\n",
    "# Show the Spark DataFrame\n",
    "spark_df_companies.show()"
   ]
  },
  {
   "cell_type": "code",
   "execution_count": 16,
   "metadata": {},
   "outputs": [
    {
     "name": "stderr",
     "output_type": "stream",
     "text": [
      "24/06/20 03:56:22 WARN TaskSetManager: Stage 20 contains a task of very large size (27397 KiB). The maximum recommended task size is 1000 KiB.\n",
      "24/06/20 03:56:25 WARN TaskSetManager: Stage 26 contains a task of very large size (27397 KiB). The maximum recommended task size is 1000 KiB.\n"
     ]
    },
    {
     "name": "stdout",
     "output_type": "stream",
     "text": [
      "19716\n"
     ]
    },
    {
     "name": "stderr",
     "output_type": "stream",
     "text": [
      "[Stage 26:=============================>                            (1 + 1) / 2]\r"
     ]
    },
    {
     "name": "stdout",
     "output_type": "stream",
     "text": [
      "+----------+--------------------+--------------------+--------------+-------------------+--------------------+----------------+--------------------+---------------------+-------------------+---------------------+-----------------------+--------------------+--------------------+\n",
      "|company_id|        company_name|  company_time_stamp|company_ticket|company_is_delisted|    company_category|company_currency|    company_location|company_exchange_name|company_region_name|company_industry_name|company_industry_sector|company_sic_industry|  company_sic_sector|\n",
      "+----------+--------------------+--------------------+--------------+-------------------+--------------------+----------------+--------------------+---------------------+-------------------+---------------------+-----------------------+--------------------+--------------------+\n",
      "|    249567|          ALCOA CORP|2024-06-17 06:01:...|            AA|              false|Domestic Common S...|             USD| Pennsylvania; U.S.A|                 NYSE|      United States|             Aluminum|        Basic Materials|Primary Productio...|       Manufacturing|\n",
      "|    236404|ADMIRALTY BANCORP...|2024-06-17 06:01:...|          AAAB|               true|Domestic Common S...|             USD|      Florida; U.S.A|               NASDAQ|      United States|     Banks - Regional|     Financial Services|State Commercial ...|Finance Insurance...|\n",
      "|    253951|ALTANA AKTIENGESE...|2024-06-17 06:01:...|         AAAGY|               true|    ADR Common Stock|             USD|              Jordan|                 NYSE|      United States|        Biotechnology|             Healthcare|Pharmaceutical Pr...|       Manufacturing|\n",
      "|    236405|ACCESS ANYTIME BA...|2024-06-17 06:01:...|          AABC|               true|Domestic Common S...|             USD|   New Mexico; U.S.A|               NASDAQ|      United States|     Banks - Regional|     Financial Services|Savings Instituti...|Finance Insurance...|\n",
      "|    246859|ALLIANCE ATLANTIS...|2024-06-17 06:01:...|          AACB|               true|Canadian Common S...|             USD|     Ontario; Canada|               NASDAQ|      United States|        Entertainment|   Communication Ser...|Services-Motion P...|            Services|\n",
      "|    236406|ASSET ACCEPTANCE ...|2024-06-17 06:01:...|          AACC|               true|Domestic Common S...|             USD|     Michigan; U.S.A|               NASDAQ|      United States|     Asset Management|     Financial Services|Short-Term Busine...|Finance Insurance...|\n",
      "|    246860|ATA CREATIVITY GL...|2024-06-17 06:01:...|          AACG|              false|    ADR Common Stock|             USD|               China|               NASDAQ|      United States| Education & Train...|     Consumer Defensive|Services-Educatio...|            Services|\n",
      "|    249570|    AAC HOLDINGS INC|2024-06-17 06:01:...|          AACH|               true|Domestic Common S...|             USD|    Tennessee; U.S.A|                 NYSE|      United States| Medical Care Faci...|             Healthcare|Services-Specialt...|            Services|\n",
      "|    246861|ARMADA ACQUISITIO...|2024-06-17 06:01:...|         AACIU|              false|Domestic Common S...|             USD| Pennsylvania; U.S.A|               NASDAQ|      United States|      Shell Companies|            Industrials|        Blank Checks|Finance Insurance...|\n",
      "|    246862|ARMADA ACQUISITIO...|2024-06-17 06:01:...|         AACIW|              false|Domestic Common S...|             USD| Pennsylvania; U.S.A|               NASDAQ|      United States|      Shell Companies|            Industrials|        Blank Checks|Finance Insurance...|\n",
      "|    236412|AFRICAN AGRICULTU...|2024-06-17 06:01:...|          AAGR|              false|Domestic Common S...|             USD|     New York; U.S.A|               NASDAQ|      United States|        Farm Products|     Consumer Defensive|Agricultural Prod...|Agriculture Fores...|\n",
      "|    246865|AFRICAN AGRICULTU...|2024-06-17 06:01:...|         AAGRW|              false|Domestic Common S...|             USD|     New York; U.S.A|               NASDAQ|      United States|        Farm Products|     Consumer Defensive|Agricultural Prod...|Agriculture Fores...|\n",
      "|    249572|AMBASSADOR APARTM...|2024-06-17 06:01:...|           AAH|               true|Domestic Common S...|             USD|     Illinois; U.S.A|                 NYSE|      United States|      REIT - Mortgage|            Real Estate|Real Estate Inves...|Finance Insurance...|\n",
      "|    253956|ARLINGTON ASSET I...|2024-06-17 06:01:...|       AAIC-PB|               true|Domestic Preferre...|             USD|     Virginia; U.S.A|                 NYSE|      United States|      REIT - Mortgage|            Real Estate|Real Estate Inves...|Finance Insurance...|\n",
      "|    253957|ARLINGTON ASSET I...|2024-06-17 06:01:...|       AAIC-PC|               true|Domestic Preferre...|             USD|     Virginia; U.S.A|                 NYSE|      United States|      REIT - Mortgage|            Real Estate|Real Estate Inves...|Finance Insurance...|\n",
      "|    236414|ALABAMA AIRCRAFT ...|2024-06-17 06:01:...|         AAIIQ|               true|Domestic Common S...|             USD|      Alabama; U.S.A|               NASDAQ|      United States|  Aerospace & Defense|            Industrials|            Aircraft|       Manufacturing|\n",
      "|    236415|       AAIPHARMA INC|2024-06-17 06:01:...|        AAIIQ1|               true|Domestic Common S...|             USD|North Carolina; U...|               NASDAQ|      United States| Diagnostics & Res...|             Healthcare|Services-Testing ...|            Services|\n",
      "|    253958|APOLLO GLOBAL MAN...|2024-06-17 06:01:...|        AAM-PA|               true|Domestic Preferre...|             USD|     New York; U.S.A|                 NYSE|      United States|     Asset Management|     Financial Services|   Investment Advice|Finance Insurance...|\n",
      "|    253959|APOLLO GLOBAL MAN...|2024-06-17 06:01:...|        AAM-PB|               true|Domestic Preferre...|             USD|     New York; U.S.A|                 NYSE|      United States|     Asset Management|     Financial Services|   Investment Advice|Finance Insurance...|\n",
      "|    253960|   PROG HOLDINGS INC|2024-06-17 06:01:...|          AAN1|               true|Domestic Common S...|             USD|      Georgia; U.S.A|                 NYSE|      United States| Rental & Leasing ...|            Industrials|Services-Equipmen...|            Services|\n",
      "+----------+--------------------+--------------------+--------------+-------------------+--------------------+----------------+--------------------+---------------------+-------------------+---------------------+-----------------------+--------------------+--------------------+\n",
      "only showing top 20 rows\n",
      "\n"
     ]
    },
    {
     "name": "stderr",
     "output_type": "stream",
     "text": [
      "                                                                                \r"
     ]
    }
   ],
   "source": [
    "# Tạo Window specification\n",
    "windowSpec = Window.partitionBy(\"company_ticket\").orderBy(spark_df_companies[\"company_time_stamp\"].desc())\n",
    "\n",
    "# Sử dụng row_number để đánh số thứ tự và giữ lại hàng cuối cùng\n",
    "df_with_row_num = spark_df_companies.withColumn(\"row_num\", row_number().over(windowSpec))\n",
    "\n",
    "# Lọc để giữ lại hàng cuối cùng trong mỗi nhóm\n",
    "spark_df_companies_filtered = df_with_row_num.filter(df_with_row_num.row_num == 1).drop(\"row_num\")\n",
    "\n",
    "# Hiển thị DataFrame kết quả\n",
    "print(spark_df_companies_filtered.count())\n",
    "spark_df_companies_filtered.show()"
   ]
  },
  {
   "cell_type": "code",
   "execution_count": 30,
   "metadata": {},
   "outputs": [
    {
     "name": "stdout",
     "output_type": "stream",
     "text": [
      "Thống kê số lượng công ty ở từng sàn giao dịch:\n"
     ]
    },
    {
     "name": "stderr",
     "output_type": "stream",
     "text": [
      "24/06/20 04:12:48 WARN TaskSetManager: Stage 74 contains a task of very large size (27397 KiB). The maximum recommended task size is 1000 KiB.\n",
      "[Stage 74:>                                                         (0 + 2) / 2]\r"
     ]
    },
    {
     "name": "stdout",
     "output_type": "stream",
     "text": [
      "+-------------+--------------------+\n",
      "|Sàn giao dịch|Số lượng mã niêm yết|\n",
      "+-------------+--------------------+\n",
      "|         NYSE|                6552|\n",
      "|       NASDAQ|               13164|\n",
      "+-------------+--------------------+\n",
      "\n"
     ]
    },
    {
     "name": "stderr",
     "output_type": "stream",
     "text": [
      "                                                                                \r"
     ]
    }
   ],
   "source": [
    "# Thống kê số lượng công ty ở từng sàn giao dịch\n",
    "print(\"Thống kê số lượng công ty ở từng sàn giao dịch:\")\n",
    "spark_df_companies_filtered\\\n",
    "    .groupBy(\"company_exchange_name\")\\\n",
    "    .agg(count(\"*\").alias(\"count\"))\\\n",
    "    .withColumnRenamed(\"company_exchange_name\", \"Sàn giao dịch\")\\\n",
    "    .withColumnRenamed(\"count\", \"Số lượng mã niêm yết\")\\\n",
    "    .show()"
   ]
  },
  {
   "cell_type": "code",
   "execution_count": 37,
   "metadata": {},
   "outputs": [
    {
     "name": "stdout",
     "output_type": "stream",
     "text": [
      "Thống kê số lượng công ty bị hủy niêm yết:\n"
     ]
    },
    {
     "name": "stderr",
     "output_type": "stream",
     "text": [
      "24/06/20 04:20:26 WARN TaskSetManager: Stage 95 contains a task of very large size (27397 KiB). The maximum recommended task size is 1000 KiB.\n",
      "[Stage 95:>                                                         (0 + 2) / 2]\r"
     ]
    },
    {
     "name": "stdout",
     "output_type": "stream",
     "text": [
      "+------------------+--------+\n",
      "|Đã bị hủy niêm yết|Số lượng|\n",
      "+------------------+--------+\n",
      "|              true|   13200|\n",
      "|             false|    6516|\n",
      "+------------------+--------+\n",
      "\n"
     ]
    },
    {
     "name": "stderr",
     "output_type": "stream",
     "text": [
      "                                                                                \r"
     ]
    }
   ],
   "source": [
    "# Thống kê số lượng công ty đã và chưa bị delisted\n",
    "print(\"Thống kê số lượng công ty bị hủy niêm yết:\")\n",
    "spark_df_companies_filtered\\\n",
    "    .groupBy(\"company_is_delisted\")\\\n",
    "    .agg(count(\"*\").alias(\"count\"))\\\n",
    "    .withColumnRenamed(\"company_is_delisted\", \"Đã bị hủy niêm yết\")\\\n",
    "    .withColumnRenamed(\"count\", \"Số lượng\")\\\n",
    "    .show()"
   ]
  },
  {
   "cell_type": "code",
   "execution_count": 46,
   "metadata": {},
   "outputs": [
    {
     "name": "stdout",
     "output_type": "stream",
     "text": [
      "Thống kê số lượng công ty theo quốc gia:\n"
     ]
    },
    {
     "name": "stderr",
     "output_type": "stream",
     "text": [
      "24/06/20 04:27:33 WARN TaskSetManager: Stage 133 contains a task of very large size (27397 KiB). The maximum recommended task size is 1000 KiB.\n",
      "[Stage 133:============================>                            (1 + 1) / 2]\r"
     ]
    },
    {
     "name": "stdout",
     "output_type": "stream",
     "text": [
      "+--------------+----------------+\n",
      "|      Quóc gia|Số lượng công ty|\n",
      "+--------------+----------------+\n",
      "|         U.S.A|           16554|\n",
      "|        Canada|             532|\n",
      "|         China|             527|\n",
      "|United Kingdom|             273|\n",
      "|        Israel|             226|\n",
      "|       Bermuda|             180|\n",
      "|Cayman Islands|             179|\n",
      "|     Hong Kong|              97|\n",
      "|     Singapore|              90|\n",
      "|       Ireland|              79|\n",
      "|        Brazil|              75|\n",
      "|   Netherlands|              60|\n",
      "|     Australia|              57|\n",
      "|       Germany|              56|\n",
      "|    Luxembourg|              51|\n",
      "|   Switzerland|              45|\n",
      "|        Mexico|              44|\n",
      "|         Japan|              44|\n",
      "|        Greece|              43|\n",
      "|        France|              41|\n",
      "+--------------+----------------+\n",
      "only showing top 20 rows\n",
      "\n"
     ]
    },
    {
     "name": "stderr",
     "output_type": "stream",
     "text": [
      "                                                                                \r"
     ]
    }
   ],
   "source": [
    "# Thống kê số lượng công ty theo khu vực\n",
    "print(\"Thống kê số lượng công ty theo quốc gia:\")\n",
    "spark_df_companies_filtered\\\n",
    "    .withColumn(\"Quóc gia\", element_at(split(spark_df_companies_filtered[\"company_location\"], \"; \"), -1))\\\n",
    "    .drop(\"company_location\")\\\n",
    "    .groupBy(\"Quóc gia\")\\\n",
    "    .agg(count(\"*\").alias(\"count\"))\\\n",
    "    .orderBy(col(\"count\").desc())\\\n",
    "    .withColumnRenamed(\"count\", \"Số lượng công ty\")\\\n",
    "    .show()"
   ]
  },
  {
   "cell_type": "code",
   "execution_count": 47,
   "metadata": {},
   "outputs": [
    {
     "name": "stdout",
     "output_type": "stream",
     "text": [
      "Thống kê số lượng công ty theo ngành công nghiệp:\n"
     ]
    },
    {
     "name": "stderr",
     "output_type": "stream",
     "text": [
      "24/06/20 04:27:38 WARN TaskSetManager: Stage 139 contains a task of very large size (27397 KiB). The maximum recommended task size is 1000 KiB.\n",
      "[Stage 139:>                                                        (0 + 2) / 2]\r"
     ]
    },
    {
     "name": "stdout",
     "output_type": "stream",
     "text": [
      "+--------------------+----------------+\n",
      "|            Industry|Số lượng công ty|\n",
      "+--------------------+----------------+\n",
      "|         Industrials|            3688|\n",
      "|          Technology|            3394|\n",
      "|          Healthcare|            2990|\n",
      "|  Financial Services|            2888|\n",
      "|   Consumer Cyclical|            1907|\n",
      "|Communication Ser...|            1119|\n",
      "|         Real Estate|             986|\n",
      "|              Energy|             845|\n",
      "|     Basic Materials|             817|\n",
      "|  Consumer Defensive|             715|\n",
      "|           Utilities|             367|\n",
      "+--------------------+----------------+\n",
      "\n"
     ]
    },
    {
     "name": "stderr",
     "output_type": "stream",
     "text": [
      "                                                                                \r"
     ]
    }
   ],
   "source": [
    "# Thống kê số lượng công ty theo ngành công nghiệp\n",
    "print(\"Thống kê số lượng công ty theo ngành công nghiệp:\")\n",
    "spark_df_companies_filtered\\\n",
    "    .groupBy(\"company_industry_sector\")\\\n",
    "    .agg(count(\"*\").alias(\"count\"))\\\n",
    "    .orderBy(col(\"count\").desc())\\\n",
    "    .withColumnRenamed(\"company_industry_sector\", \"Industry\")\\\n",
    "    .withColumnRenamed(\"count\", \"Số lượng công ty\")\\\n",
    "    .show()"
   ]
  },
  {
   "cell_type": "code",
   "execution_count": 48,
   "metadata": {},
   "outputs": [
    {
     "name": "stdout",
     "output_type": "stream",
     "text": [
      "Thống kê số lượng công ty theo ngành công nghiệp theo SIC:\n"
     ]
    },
    {
     "name": "stderr",
     "output_type": "stream",
     "text": [
      "24/06/20 04:27:43 WARN TaskSetManager: Stage 145 contains a task of very large size (27397 KiB). The maximum recommended task size is 1000 KiB.\n",
      "[Stage 145:>                                                        (0 + 2) / 2]\r"
     ]
    },
    {
     "name": "stdout",
     "output_type": "stream",
     "text": [
      "+--------------------+----------------+\n",
      "|        SIC Industry|Số lượng công ty|\n",
      "+--------------------+----------------+\n",
      "|       Manufacturing|            6407|\n",
      "|Finance Insurance...|            5724|\n",
      "|            Services|            3764|\n",
      "|Transportation Co...|            1599|\n",
      "|        Retail Trade|             869|\n",
      "|              Mining|             705|\n",
      "|     Wholesale Trade|             418|\n",
      "|        Construction|             160|\n",
      "|Agriculture Fores...|              70|\n",
      "+--------------------+----------------+\n",
      "\n"
     ]
    },
    {
     "name": "stderr",
     "output_type": "stream",
     "text": [
      "                                                                                \r"
     ]
    }
   ],
   "source": [
    "# Thống kê số lượng công ty theo ngành công nghiệp theo SIC\n",
    "print(\"Thống kê số lượng công ty theo ngành công nghiệp theo SIC:\")\n",
    "spark_df_companies_filtered\\\n",
    "    .groupBy(\"company_sic_sector\")\\\n",
    "    .agg(count(\"*\").alias(\"count\"))\\\n",
    "    .orderBy(col(\"count\").desc())\\\n",
    "    .withColumnRenamed(\"company_sic_sector\", \"SIC Industry\")\\\n",
    "    .withColumnRenamed(\"count\", \"Số lượng công ty\")\\\n",
    "    .show()"
   ]
  },
  {
   "cell_type": "code",
   "execution_count": 59,
   "metadata": {},
   "outputs": [
    {
     "name": "stderr",
     "output_type": "stream",
     "text": [
      "24/06/20 06:27:04 WARN TaskSetManager: Stage 181 contains a task of very large size (27397 KiB). The maximum recommended task size is 1000 KiB.\n",
      "[Stage 181:>                                                        (0 + 2) / 2]\r"
     ]
    },
    {
     "name": "stdout",
     "output_type": "stream",
     "text": [
      "+--------------------+----------------+\n",
      "|            Category|Số lượng công ty|\n",
      "+--------------------+----------------+\n",
      "|Domestic Common S...|           12196|\n",
      "|Domestic Common S...|            1810|\n",
      "|    ADR Common Stock|            1483|\n",
      "|Domestic Common S...|            1296|\n",
      "|Domestic Common S...|            1028|\n",
      "|Domestic Preferre...|            1025|\n",
      "|Canadian Common S...|             247|\n",
      "|ADR Common Stock ...|             222|\n",
      "|ADR Common Stock ...|             179|\n",
      "|ADR Common Stock ...|             122|\n",
      "| ADR Preferred Stock|              89|\n",
      "|Canadian Common S...|              10|\n",
      "|Canadian Common S...|               4|\n",
      "|Canadian Preferre...|               3|\n",
      "|Canadian Common S...|               2|\n",
      "+--------------------+----------------+\n",
      "\n"
     ]
    },
    {
     "name": "stderr",
     "output_type": "stream",
     "text": [
      "                                                                                \r"
     ]
    }
   ],
   "source": [
    "# Thống kê số lượng công ty theo loại hình công ty\n",
    "spark_df_companies_filtered\\\n",
    "    .groupBy(\"company_category\")\\\n",
    "    .agg(count(\"*\").alias(\"count\"))\\\n",
    "    .orderBy(col(\"count\").desc())\\\n",
    "    .withColumnRenamed(\"company_category\", \"Category\")\\\n",
    "    .withColumnRenamed(\"count\", \"Số lượng công ty\")\\\n",
    "    .show()"
   ]
  },
  {
   "cell_type": "markdown",
   "metadata": {},
   "source": [
    "## Fact Candles"
   ]
  },
  {
   "cell_type": "code",
   "execution_count": 128,
   "metadata": {},
   "outputs": [],
   "source": [
    "import pandas as pd\n",
    "from datetime import datetime\n",
    "from pyspark.sql.types import StructType, StructField, IntegerType, LongType, DoubleType, BooleanType, TimestampType\n",
    "from pyspark.sql.functions import col, count, avg, to_date, when, round\n",
    "from pyspark.sql.functions import sum as _sum"
   ]
  },
  {
   "cell_type": "code",
   "execution_count": 111,
   "metadata": {},
   "outputs": [],
   "source": [
    "# Connect to the DuckDB database\n",
    "duck_conn = duckdb.connect('/home/anhcu/Final_ETL_App/etl-app/datawarehouse.duckdb')\n",
    "query = 'SELECT * FROM fact_candles'\n",
    "\n",
    "# Fetch data from DuckDB and convert to Pandas DataFrame\n",
    "pandas_df = duck_conn.execute(query).fetchdf()\n",
    "\n",
    "duck_conn.close()"
   ]
  },
  {
   "cell_type": "code",
   "execution_count": 112,
   "metadata": {},
   "outputs": [
    {
     "data": {
      "text/html": [
       "<div>\n",
       "<style scoped>\n",
       "    .dataframe tbody tr th:only-of-type {\n",
       "        vertical-align: middle;\n",
       "    }\n",
       "\n",
       "    .dataframe tbody tr th {\n",
       "        vertical-align: top;\n",
       "    }\n",
       "\n",
       "    .dataframe thead th {\n",
       "        text-align: right;\n",
       "    }\n",
       "</style>\n",
       "<table border=\"1\" class=\"dataframe\">\n",
       "  <thead>\n",
       "    <tr style=\"text-align: right;\">\n",
       "      <th></th>\n",
       "      <th>candle_id</th>\n",
       "      <th>candle_company_id</th>\n",
       "      <th>candle_volume</th>\n",
       "      <th>candle_volume_weighted</th>\n",
       "      <th>candle_open</th>\n",
       "      <th>candle_close</th>\n",
       "      <th>candle_high</th>\n",
       "      <th>candle_low</th>\n",
       "      <th>candle_time_stamp</th>\n",
       "      <th>candle_num_of_trades</th>\n",
       "      <th>candle_is_otc</th>\n",
       "      <th>candles_time_id</th>\n",
       "    </tr>\n",
       "  </thead>\n",
       "  <tbody>\n",
       "    <tr>\n",
       "      <th>0</th>\n",
       "      <td>91400</td>\n",
       "      <td>40924</td>\n",
       "      <td>925828</td>\n",
       "      <td>0.4527</td>\n",
       "      <td>0.5500</td>\n",
       "      <td>0.4000</td>\n",
       "      <td>0.560</td>\n",
       "      <td>0.3901</td>\n",
       "      <td>1718136000000</td>\n",
       "      <td>2943</td>\n",
       "      <td>NaN</td>\n",
       "      <td>1</td>\n",
       "    </tr>\n",
       "    <tr>\n",
       "      <th>1</th>\n",
       "      <td>91401</td>\n",
       "      <td>41378</td>\n",
       "      <td>5991</td>\n",
       "      <td>11.0456</td>\n",
       "      <td>11.0200</td>\n",
       "      <td>11.0500</td>\n",
       "      <td>11.070</td>\n",
       "      <td>11.0200</td>\n",
       "      <td>1718136000000</td>\n",
       "      <td>47</td>\n",
       "      <td>NaN</td>\n",
       "      <td>1</td>\n",
       "    </tr>\n",
       "    <tr>\n",
       "      <th>2</th>\n",
       "      <td>91402</td>\n",
       "      <td>236408</td>\n",
       "      <td>2720</td>\n",
       "      <td>11.4063</td>\n",
       "      <td>11.3700</td>\n",
       "      <td>11.4000</td>\n",
       "      <td>11.450</td>\n",
       "      <td>11.3700</td>\n",
       "      <td>1718136000000</td>\n",
       "      <td>33</td>\n",
       "      <td>NaN</td>\n",
       "      <td>1</td>\n",
       "    </tr>\n",
       "    <tr>\n",
       "      <th>3</th>\n",
       "      <td>91403</td>\n",
       "      <td>236410</td>\n",
       "      <td>129357</td>\n",
       "      <td>1.7232</td>\n",
       "      <td>1.7200</td>\n",
       "      <td>1.7300</td>\n",
       "      <td>1.740</td>\n",
       "      <td>1.7000</td>\n",
       "      <td>1718136000000</td>\n",
       "      <td>806</td>\n",
       "      <td>NaN</td>\n",
       "      <td>1</td>\n",
       "    </tr>\n",
       "    <tr>\n",
       "      <th>4</th>\n",
       "      <td>91404</td>\n",
       "      <td>236412</td>\n",
       "      <td>33671</td>\n",
       "      <td>0.3436</td>\n",
       "      <td>0.3525</td>\n",
       "      <td>0.3524</td>\n",
       "      <td>0.358</td>\n",
       "      <td>0.3200</td>\n",
       "      <td>1718136000000</td>\n",
       "      <td>180</td>\n",
       "      <td>NaN</td>\n",
       "      <td>1</td>\n",
       "    </tr>\n",
       "    <tr>\n",
       "      <th>...</th>\n",
       "      <td>...</td>\n",
       "      <td>...</td>\n",
       "      <td>...</td>\n",
       "      <td>...</td>\n",
       "      <td>...</td>\n",
       "      <td>...</td>\n",
       "      <td>...</td>\n",
       "      <td>...</td>\n",
       "      <td>...</td>\n",
       "      <td>...</td>\n",
       "      <td>...</td>\n",
       "      <td>...</td>\n",
       "    </tr>\n",
       "    <tr>\n",
       "      <th>36590</th>\n",
       "      <td>127990</td>\n",
       "      <td>256106</td>\n",
       "      <td>159175</td>\n",
       "      <td>11.6804</td>\n",
       "      <td>11.7300</td>\n",
       "      <td>11.6800</td>\n",
       "      <td>11.740</td>\n",
       "      <td>11.6400</td>\n",
       "      <td>1718740800000</td>\n",
       "      <td>2169</td>\n",
       "      <td>NaN</td>\n",
       "      <td>8</td>\n",
       "    </tr>\n",
       "    <tr>\n",
       "      <th>36591</th>\n",
       "      <td>127991</td>\n",
       "      <td>256108</td>\n",
       "      <td>847031</td>\n",
       "      <td>2.8864</td>\n",
       "      <td>2.9300</td>\n",
       "      <td>2.9200</td>\n",
       "      <td>2.980</td>\n",
       "      <td>2.7900</td>\n",
       "      <td>1718740800000</td>\n",
       "      <td>4180</td>\n",
       "      <td>NaN</td>\n",
       "      <td>8</td>\n",
       "    </tr>\n",
       "    <tr>\n",
       "      <th>36592</th>\n",
       "      <td>127992</td>\n",
       "      <td>256109</td>\n",
       "      <td>196054</td>\n",
       "      <td>21.1173</td>\n",
       "      <td>20.3800</td>\n",
       "      <td>21.3800</td>\n",
       "      <td>21.660</td>\n",
       "      <td>20.3700</td>\n",
       "      <td>1718740800000</td>\n",
       "      <td>2286</td>\n",
       "      <td>NaN</td>\n",
       "      <td>8</td>\n",
       "    </tr>\n",
       "    <tr>\n",
       "      <th>36593</th>\n",
       "      <td>127993</td>\n",
       "      <td>256110</td>\n",
       "      <td>446893</td>\n",
       "      <td>3.4015</td>\n",
       "      <td>3.4100</td>\n",
       "      <td>3.5200</td>\n",
       "      <td>3.600</td>\n",
       "      <td>3.3000</td>\n",
       "      <td>1718740800000</td>\n",
       "      <td>1456</td>\n",
       "      <td>NaN</td>\n",
       "      <td>8</td>\n",
       "    </tr>\n",
       "    <tr>\n",
       "      <th>36594</th>\n",
       "      <td>127994</td>\n",
       "      <td>256114</td>\n",
       "      <td>1933818</td>\n",
       "      <td>22.1057</td>\n",
       "      <td>22.2800</td>\n",
       "      <td>22.0600</td>\n",
       "      <td>22.420</td>\n",
       "      <td>21.9600</td>\n",
       "      <td>1718740800000</td>\n",
       "      <td>16386</td>\n",
       "      <td>NaN</td>\n",
       "      <td>8</td>\n",
       "    </tr>\n",
       "  </tbody>\n",
       "</table>\n",
       "<p>36595 rows × 12 columns</p>\n",
       "</div>"
      ],
      "text/plain": [
       "       candle_id  candle_company_id  candle_volume  candle_volume_weighted  \\\n",
       "0          91400              40924         925828                  0.4527   \n",
       "1          91401              41378           5991                 11.0456   \n",
       "2          91402             236408           2720                 11.4063   \n",
       "3          91403             236410         129357                  1.7232   \n",
       "4          91404             236412          33671                  0.3436   \n",
       "...          ...                ...            ...                     ...   \n",
       "36590     127990             256106         159175                 11.6804   \n",
       "36591     127991             256108         847031                  2.8864   \n",
       "36592     127992             256109         196054                 21.1173   \n",
       "36593     127993             256110         446893                  3.4015   \n",
       "36594     127994             256114        1933818                 22.1057   \n",
       "\n",
       "       candle_open  candle_close  candle_high  candle_low candle_time_stamp  \\\n",
       "0           0.5500        0.4000        0.560      0.3901     1718136000000   \n",
       "1          11.0200       11.0500       11.070     11.0200     1718136000000   \n",
       "2          11.3700       11.4000       11.450     11.3700     1718136000000   \n",
       "3           1.7200        1.7300        1.740      1.7000     1718136000000   \n",
       "4           0.3525        0.3524        0.358      0.3200     1718136000000   \n",
       "...            ...           ...          ...         ...               ...   \n",
       "36590      11.7300       11.6800       11.740     11.6400     1718740800000   \n",
       "36591       2.9300        2.9200        2.980      2.7900     1718740800000   \n",
       "36592      20.3800       21.3800       21.660     20.3700     1718740800000   \n",
       "36593       3.4100        3.5200        3.600      3.3000     1718740800000   \n",
       "36594      22.2800       22.0600       22.420     21.9600     1718740800000   \n",
       "\n",
       "       candle_num_of_trades candle_is_otc  candles_time_id  \n",
       "0                      2943           NaN                1  \n",
       "1                        47           NaN                1  \n",
       "2                        33           NaN                1  \n",
       "3                       806           NaN                1  \n",
       "4                       180           NaN                1  \n",
       "...                     ...           ...              ...  \n",
       "36590                  2169           NaN                8  \n",
       "36591                  4180           NaN                8  \n",
       "36592                  2286           NaN                8  \n",
       "36593                  1456           NaN                8  \n",
       "36594                 16386           NaN                8  \n",
       "\n",
       "[36595 rows x 12 columns]"
      ]
     },
     "execution_count": 112,
     "metadata": {},
     "output_type": "execute_result"
    }
   ],
   "source": [
    "pandas_df"
   ]
  },
  {
   "cell_type": "code",
   "execution_count": 113,
   "metadata": {},
   "outputs": [
    {
     "name": "stderr",
     "output_type": "stream",
     "text": [
      "/tmp/ipykernel_96936/1880719106.py:6: FutureWarning: The behavior of 'to_datetime' with 'unit' when parsing strings is deprecated. In a future version, strings will be parsed as datetime strings, matching the behavior without a 'unit'. To retain the old behavior, explicitly cast ints or floats to numeric type before calling to_datetime.\n",
      "  pandas_df['candle_time_stamp'] = pd.to_datetime(pandas_df['candle_time_stamp'], unit='ms')\n"
     ]
    },
    {
     "data": {
      "text/html": [
       "<div>\n",
       "<style scoped>\n",
       "    .dataframe tbody tr th:only-of-type {\n",
       "        vertical-align: middle;\n",
       "    }\n",
       "\n",
       "    .dataframe tbody tr th {\n",
       "        vertical-align: top;\n",
       "    }\n",
       "\n",
       "    .dataframe thead th {\n",
       "        text-align: right;\n",
       "    }\n",
       "</style>\n",
       "<table border=\"1\" class=\"dataframe\">\n",
       "  <thead>\n",
       "    <tr style=\"text-align: right;\">\n",
       "      <th></th>\n",
       "      <th>candle_id</th>\n",
       "      <th>candle_company_id</th>\n",
       "      <th>candle_volume</th>\n",
       "      <th>candle_volume_weighted</th>\n",
       "      <th>candle_open</th>\n",
       "      <th>candle_close</th>\n",
       "      <th>candle_high</th>\n",
       "      <th>candle_low</th>\n",
       "      <th>candle_time_stamp</th>\n",
       "      <th>candle_num_of_trades</th>\n",
       "      <th>candle_is_otc</th>\n",
       "    </tr>\n",
       "  </thead>\n",
       "  <tbody>\n",
       "    <tr>\n",
       "      <th>0</th>\n",
       "      <td>91400</td>\n",
       "      <td>40924</td>\n",
       "      <td>925828</td>\n",
       "      <td>0.4527</td>\n",
       "      <td>0.5500</td>\n",
       "      <td>0.4000</td>\n",
       "      <td>0.560</td>\n",
       "      <td>0.3901</td>\n",
       "      <td>2024-06-11 19:59:07.264</td>\n",
       "      <td>2943</td>\n",
       "      <td>False</td>\n",
       "    </tr>\n",
       "    <tr>\n",
       "      <th>1</th>\n",
       "      <td>91401</td>\n",
       "      <td>41378</td>\n",
       "      <td>5991</td>\n",
       "      <td>11.0456</td>\n",
       "      <td>11.0200</td>\n",
       "      <td>11.0500</td>\n",
       "      <td>11.070</td>\n",
       "      <td>11.0200</td>\n",
       "      <td>2024-06-11 19:59:07.264</td>\n",
       "      <td>47</td>\n",
       "      <td>False</td>\n",
       "    </tr>\n",
       "    <tr>\n",
       "      <th>2</th>\n",
       "      <td>91402</td>\n",
       "      <td>236408</td>\n",
       "      <td>2720</td>\n",
       "      <td>11.4063</td>\n",
       "      <td>11.3700</td>\n",
       "      <td>11.4000</td>\n",
       "      <td>11.450</td>\n",
       "      <td>11.3700</td>\n",
       "      <td>2024-06-11 19:59:07.264</td>\n",
       "      <td>33</td>\n",
       "      <td>False</td>\n",
       "    </tr>\n",
       "    <tr>\n",
       "      <th>3</th>\n",
       "      <td>91403</td>\n",
       "      <td>236410</td>\n",
       "      <td>129357</td>\n",
       "      <td>1.7232</td>\n",
       "      <td>1.7200</td>\n",
       "      <td>1.7300</td>\n",
       "      <td>1.740</td>\n",
       "      <td>1.7000</td>\n",
       "      <td>2024-06-11 19:59:07.264</td>\n",
       "      <td>806</td>\n",
       "      <td>False</td>\n",
       "    </tr>\n",
       "    <tr>\n",
       "      <th>4</th>\n",
       "      <td>91404</td>\n",
       "      <td>236412</td>\n",
       "      <td>33671</td>\n",
       "      <td>0.3436</td>\n",
       "      <td>0.3525</td>\n",
       "      <td>0.3524</td>\n",
       "      <td>0.358</td>\n",
       "      <td>0.3200</td>\n",
       "      <td>2024-06-11 19:59:07.264</td>\n",
       "      <td>180</td>\n",
       "      <td>False</td>\n",
       "    </tr>\n",
       "    <tr>\n",
       "      <th>...</th>\n",
       "      <td>...</td>\n",
       "      <td>...</td>\n",
       "      <td>...</td>\n",
       "      <td>...</td>\n",
       "      <td>...</td>\n",
       "      <td>...</td>\n",
       "      <td>...</td>\n",
       "      <td>...</td>\n",
       "      <td>...</td>\n",
       "      <td>...</td>\n",
       "      <td>...</td>\n",
       "    </tr>\n",
       "    <tr>\n",
       "      <th>36590</th>\n",
       "      <td>127990</td>\n",
       "      <td>256106</td>\n",
       "      <td>159175</td>\n",
       "      <td>11.6804</td>\n",
       "      <td>11.7300</td>\n",
       "      <td>11.6800</td>\n",
       "      <td>11.740</td>\n",
       "      <td>11.6400</td>\n",
       "      <td>2024-06-18 20:00:44.544</td>\n",
       "      <td>2169</td>\n",
       "      <td>False</td>\n",
       "    </tr>\n",
       "    <tr>\n",
       "      <th>36591</th>\n",
       "      <td>127991</td>\n",
       "      <td>256108</td>\n",
       "      <td>847031</td>\n",
       "      <td>2.8864</td>\n",
       "      <td>2.9300</td>\n",
       "      <td>2.9200</td>\n",
       "      <td>2.980</td>\n",
       "      <td>2.7900</td>\n",
       "      <td>2024-06-18 20:00:44.544</td>\n",
       "      <td>4180</td>\n",
       "      <td>False</td>\n",
       "    </tr>\n",
       "    <tr>\n",
       "      <th>36592</th>\n",
       "      <td>127992</td>\n",
       "      <td>256109</td>\n",
       "      <td>196054</td>\n",
       "      <td>21.1173</td>\n",
       "      <td>20.3800</td>\n",
       "      <td>21.3800</td>\n",
       "      <td>21.660</td>\n",
       "      <td>20.3700</td>\n",
       "      <td>2024-06-18 20:00:44.544</td>\n",
       "      <td>2286</td>\n",
       "      <td>False</td>\n",
       "    </tr>\n",
       "    <tr>\n",
       "      <th>36593</th>\n",
       "      <td>127993</td>\n",
       "      <td>256110</td>\n",
       "      <td>446893</td>\n",
       "      <td>3.4015</td>\n",
       "      <td>3.4100</td>\n",
       "      <td>3.5200</td>\n",
       "      <td>3.600</td>\n",
       "      <td>3.3000</td>\n",
       "      <td>2024-06-18 20:00:44.544</td>\n",
       "      <td>1456</td>\n",
       "      <td>False</td>\n",
       "    </tr>\n",
       "    <tr>\n",
       "      <th>36594</th>\n",
       "      <td>127994</td>\n",
       "      <td>256114</td>\n",
       "      <td>1933818</td>\n",
       "      <td>22.1057</td>\n",
       "      <td>22.2800</td>\n",
       "      <td>22.0600</td>\n",
       "      <td>22.420</td>\n",
       "      <td>21.9600</td>\n",
       "      <td>2024-06-18 20:00:44.544</td>\n",
       "      <td>16386</td>\n",
       "      <td>False</td>\n",
       "    </tr>\n",
       "  </tbody>\n",
       "</table>\n",
       "<p>36595 rows × 11 columns</p>\n",
       "</div>"
      ],
      "text/plain": [
       "       candle_id  candle_company_id  candle_volume  candle_volume_weighted  \\\n",
       "0          91400              40924         925828                  0.4527   \n",
       "1          91401              41378           5991                 11.0456   \n",
       "2          91402             236408           2720                 11.4063   \n",
       "3          91403             236410         129357                  1.7232   \n",
       "4          91404             236412          33671                  0.3436   \n",
       "...          ...                ...            ...                     ...   \n",
       "36590     127990             256106         159175                 11.6804   \n",
       "36591     127991             256108         847031                  2.8864   \n",
       "36592     127992             256109         196054                 21.1173   \n",
       "36593     127993             256110         446893                  3.4015   \n",
       "36594     127994             256114        1933818                 22.1057   \n",
       "\n",
       "       candle_open  candle_close  candle_high  candle_low  \\\n",
       "0           0.5500        0.4000        0.560      0.3901   \n",
       "1          11.0200       11.0500       11.070     11.0200   \n",
       "2          11.3700       11.4000       11.450     11.3700   \n",
       "3           1.7200        1.7300        1.740      1.7000   \n",
       "4           0.3525        0.3524        0.358      0.3200   \n",
       "...            ...           ...          ...         ...   \n",
       "36590      11.7300       11.6800       11.740     11.6400   \n",
       "36591       2.9300        2.9200        2.980      2.7900   \n",
       "36592      20.3800       21.3800       21.660     20.3700   \n",
       "36593       3.4100        3.5200        3.600      3.3000   \n",
       "36594      22.2800       22.0600       22.420     21.9600   \n",
       "\n",
       "            candle_time_stamp  candle_num_of_trades  candle_is_otc  \n",
       "0     2024-06-11 19:59:07.264                  2943          False  \n",
       "1     2024-06-11 19:59:07.264                    47          False  \n",
       "2     2024-06-11 19:59:07.264                    33          False  \n",
       "3     2024-06-11 19:59:07.264                   806          False  \n",
       "4     2024-06-11 19:59:07.264                   180          False  \n",
       "...                       ...                   ...            ...  \n",
       "36590 2024-06-18 20:00:44.544                  2169          False  \n",
       "36591 2024-06-18 20:00:44.544                  4180          False  \n",
       "36592 2024-06-18 20:00:44.544                  2286          False  \n",
       "36593 2024-06-18 20:00:44.544                  1456          False  \n",
       "36594 2024-06-18 20:00:44.544                 16386          False  \n",
       "\n",
       "[36595 rows x 11 columns]"
      ]
     },
     "execution_count": 113,
     "metadata": {},
     "output_type": "execute_result"
    }
   ],
   "source": [
    "# Loại bỏ các cột không cần thiết\n",
    "pandas_df.drop(columns=['candles_time_id'], inplace=True)\n",
    "\n",
    "# Chuyển đổi kiểu dữ liệu\n",
    "pandas_df['candle_is_otc'] = pandas_df['candle_is_otc'].fillna(False).astype(bool)\n",
    "pandas_df['candle_time_stamp'] = pd.to_datetime(pandas_df['candle_time_stamp'], unit='ms')\n",
    "\n",
    "pandas_df"
   ]
  },
  {
   "cell_type": "code",
   "execution_count": 114,
   "metadata": {},
   "outputs": [
    {
     "name": "stderr",
     "output_type": "stream",
     "text": [
      "24/06/20 07:37:18 WARN TaskSetManager: Stage 227 contains a task of very large size (1359 KiB). The maximum recommended task size is 1000 KiB.\n"
     ]
    },
    {
     "name": "stdout",
     "output_type": "stream",
     "text": [
      "36595\n",
      "+---------+-----------------+-------------+----------------------+-----------+------------+-----------+----------+--------------------+--------------------+-------------+\n",
      "|candle_id|candle_company_id|candle_volume|candle_volume_weighted|candle_open|candle_close|candle_high|candle_low|   candle_time_stamp|candle_num_of_trades|candle_is_otc|\n",
      "+---------+-----------------+-------------+----------------------+-----------+------------+-----------+----------+--------------------+--------------------+-------------+\n",
      "|    91400|            40924|       925828|                0.4527|       0.55|         0.4|       0.56|    0.3901|2024-06-11 19:59:...|                2943|        false|\n",
      "|    91401|            41378|         5991|               11.0456|      11.02|       11.05|      11.07|     11.02|2024-06-11 19:59:...|                  47|        false|\n",
      "|    91402|           236408|         2720|               11.4063|      11.37|        11.4|      11.45|     11.37|2024-06-11 19:59:...|                  33|        false|\n",
      "|    91403|           236410|       129357|                1.7232|       1.72|        1.73|       1.74|       1.7|2024-06-11 19:59:...|                 806|        false|\n",
      "|    91404|           236412|        33671|                0.3436|     0.3525|      0.3524|      0.358|      0.32|2024-06-11 19:59:...|                 180|        false|\n",
      "|    91405|           236416|     25343916|               11.3268|      11.41|       11.28|      11.45|     11.26|2024-06-11 19:59:...|               72704|        false|\n",
      "|    91406|           236417|         1531|                1.8192|       1.82|       1.834|      1.834|    1.8001|2024-06-11 19:59:...|                  46|        false|\n",
      "|    91407|           236419|      1957031|               10.0585|      10.23|       10.17|      10.32|      9.86|2024-06-11 19:59:...|               19258|        false|\n",
      "|    91408|           236420|       501889|               72.2497|      72.16|       72.73|      72.79|     70.92|2024-06-11 19:59:...|               11197|        false|\n",
      "|    91409|           236422|    169677009|              203.1517|     193.65|      207.15|     207.16|    193.63|2024-06-11 19:59:...|             1601717|        false|\n",
      "|    91410|           236424|         6271|                6.1175|        6.1|       6.155|       6.19|       6.1|2024-06-11 19:59:...|                  32|         true|\n",
      "|    91411|           236432|       274491|                1.2304|       1.26|        1.22|     1.2999|       1.2|2024-06-11 19:59:...|                1627|        false|\n",
      "|    91412|           236437|       250082|               46.8152|      46.43|       46.83|      47.16|      45.9|2024-06-11 19:59:...|                7232|        false|\n",
      "|    91413|           236440|      3473023|                3.4251|        3.5|        3.43|     3.5392|     3.345|2024-06-11 19:59:...|               16393|        false|\n",
      "|    91414|           236450|       584275|                4.5072|       4.45|        4.45|       4.66|       4.4|2024-06-11 19:59:...|                4081|        false|\n",
      "|    91415|           236456|        13612|                3.2602|        3.2|        3.28|     3.3261|       3.2|2024-06-11 19:59:...|                 166|        false|\n",
      "|    91416|           236461|        35951|               10.8148|      11.52|       10.49|      11.66|     10.31|2024-06-11 19:59:...|                 447|        false|\n",
      "|    91417|           236463|         3290|                 1.209|     1.2453|        1.22|       1.25|      1.05|2024-06-11 19:59:...|                  51|        false|\n",
      "|    91418|           236466|      3235590|              147.7091|     147.97|      147.75|    148.795|    146.48|2024-06-11 19:59:...|               50447|        false|\n",
      "|    91419|           236469|       336248|                2.6692|       2.58|        2.65|      2.735|      2.57|2024-06-11 19:59:...|                4811|        false|\n",
      "+---------+-----------------+-------------+----------------------+-----------+------------+-----------+----------+--------------------+--------------------+-------------+\n",
      "only showing top 20 rows\n",
      "\n"
     ]
    },
    {
     "name": "stderr",
     "output_type": "stream",
     "text": [
      "24/06/20 07:37:18 WARN TaskSetManager: Stage 230 contains a task of very large size (1359 KiB). The maximum recommended task size is 1000 KiB.\n"
     ]
    }
   ],
   "source": [
    "# Xác định schema\n",
    "schema = StructType([\n",
    "    StructField(\"candle_id\", IntegerType(), True),\n",
    "    StructField(\"candle_company_id\", IntegerType(), True),\n",
    "    StructField(\"candle_volume\", LongType(), True),\n",
    "    StructField(\"candle_volume_weighted\", DoubleType(), True),\n",
    "    StructField(\"candle_open\", DoubleType(), True),\n",
    "    StructField(\"candle_close\", DoubleType(), True),\n",
    "    StructField(\"candle_high\", DoubleType(), True),\n",
    "    StructField(\"candle_low\", DoubleType(), True),\n",
    "    StructField(\"candle_time_stamp\", TimestampType(), True),\n",
    "    StructField(\"candle_num_of_trades\", IntegerType(), True),\n",
    "    StructField(\"candle_is_otc\", BooleanType(), True)\n",
    "])\n",
    "\n",
    "# Chuyển đổi Pandas DataFrame thành PySpark DataFrame với schema\n",
    "spark_df_candles = spark.createDataFrame(pandas_df, schema=schema)\n",
    "\n",
    "# Hiển thị một vài hàng của DataFrame\n",
    "print(spark_df_candles.count())\n",
    "spark_df_candles.show()"
   ]
  },
  {
   "cell_type": "code",
   "execution_count": 131,
   "metadata": {},
   "outputs": [
    {
     "name": "stderr",
     "output_type": "stream",
     "text": [
      "24/06/20 08:54:02 WARN TaskSetManager: Stage 321 contains a task of very large size (1359 KiB). The maximum recommended task size is 1000 KiB.\n"
     ]
    },
    {
     "name": "stdout",
     "output_type": "stream",
     "text": [
      "+--------------+--------------------------------------------------+--------------------------------+---------------+\n",
      "|Ngày giao dịch|Tổng khối lượng cổ phiếu được giao dịch trong ngày|Tổng số giao dịch được thực hiện|Số lượng mã OTC|\n",
      "+--------------+--------------------------------------------------+--------------------------------+---------------+\n",
      "|    2024-06-11|                                        8250981825|                        62453553|            340|\n",
      "|    2024-06-12|                                        9199918379|                        72206567|            367|\n",
      "|    2024-06-13|                                        8155066574|                        62207544|            356|\n",
      "|    2024-06-14|                                        8066775751|                        60812069|            361|\n",
      "|    2024-06-17|                                        9231613973|                        65909662|            371|\n",
      "|    2024-06-18|                                        9307293230|                        64293027|            348|\n",
      "+--------------+--------------------------------------------------+--------------------------------+---------------+\n",
      "\n"
     ]
    }
   ],
   "source": [
    "# Thống kê số lượng công ty theo loại hình công ty\n",
    "spark_df_candles\\\n",
    "    .withColumn(\"Ngày giao dịch\", to_date(col(\"candle_time_stamp\")))\\\n",
    "    .groupBy(\"Ngày giao dịch\")\\\n",
    "    .agg(\n",
    "        _sum(\"candle_volume\").alias(\"Tổng khối lượng cổ phiếu được giao dịch trong ngày\"),\n",
    "        _sum(\"candle_num_of_trades\").alias(\"Tổng số giao dịch được thực hiện\"),\n",
    "        _sum(when(col(\"candle_is_otc\") == True, 1).otherwise(0)).alias(\"Số lượng mã OTC\")\n",
    "    )\\\n",
    "    .orderBy(col(\"Ngày giao dịch\"))\\\n",
    "    .show()"
   ]
  },
  {
   "cell_type": "markdown",
   "metadata": {},
   "source": [
    "## Mix"
   ]
  },
  {
   "cell_type": "code",
   "execution_count": 124,
   "metadata": {},
   "outputs": [
    {
     "name": "stderr",
     "output_type": "stream",
     "text": [
      "24/06/20 08:46:40 WARN TaskSetManager: Stage 252 contains a task of very large size (1359 KiB). The maximum recommended task size is 1000 KiB.\n",
      "24/06/20 08:46:40 WARN TaskSetManager: Stage 253 contains a task of very large size (27397 KiB). The maximum recommended task size is 1000 KiB.\n",
      "                                                                                \r"
     ]
    },
    {
     "name": "stdout",
     "output_type": "stream",
     "text": [
      "+---------+-----------------+-------------+----------------------+-----------+------------+-----------+----------+--------------------+--------------------+-------------+----------+--------------------+--------------------+--------------+-------------------+--------------------+----------------+-------------------+---------------------+-------------------+---------------------+-----------------------+--------------------+--------------------+\n",
      "|candle_id|candle_company_id|candle_volume|candle_volume_weighted|candle_open|candle_close|candle_high|candle_low|   candle_time_stamp|candle_num_of_trades|candle_is_otc|company_id|        company_name|  company_time_stamp|company_ticket|company_is_delisted|    company_category|company_currency|   company_location|company_exchange_name|company_region_name|company_industry_name|company_industry_sector|company_sic_industry|  company_sic_sector|\n",
      "+---------+-----------------+-------------+----------------------+-----------+------------+-----------+----------+--------------------+--------------------+-------------+----------+--------------------+--------------------+--------------+-------------------+--------------------+----------------+-------------------+---------------------+-------------------+---------------------+-----------------------+--------------------+--------------------+\n",
      "|   125877|           249567|      3838651|               37.6106|      37.01|       37.49|      38.23|     36.79|2024-06-18 20:00:...|               35876|        false|    249567|          ALCOA CORP|2024-06-17 06:01:...|            AA|              false|Domestic Common S...|             USD|Pennsylvania; U.S.A|                 NYSE|      United States|             Aluminum|        Basic Materials|Primary Productio...|       Manufacturing|\n",
      "|   119792|           249567|      3845652|               37.3382|      37.52|        37.4|      37.73|      36.9|2024-06-17 19:58:...|               36630|        false|    249567|          ALCOA CORP|2024-06-17 06:01:...|            AA|              false|Domestic Common S...|             USD|Pennsylvania; U.S.A|                 NYSE|      United States|             Aluminum|        Basic Materials|Primary Productio...|       Manufacturing|\n",
      "|   113663|           249567|      3156927|               37.7978|      37.86|        37.9|      38.15|     37.21|2024-06-14 20:00:...|               33939|        false|    249567|          ALCOA CORP|2024-06-17 06:01:...|            AA|              false|Domestic Common S...|             USD|Pennsylvania; U.S.A|                 NYSE|      United States|             Aluminum|        Basic Materials|Primary Productio...|       Manufacturing|\n",
      "|   107581|           249567|      4333335|               38.7104|      39.52|       38.54|      39.85|     38.34|2024-06-13 20:00:...|               42136|        false|    249567|          ALCOA CORP|2024-06-17 06:01:...|            AA|              false|Domestic Common S...|             USD|Pennsylvania; U.S.A|                 NYSE|      United States|             Aluminum|        Basic Materials|Primary Productio...|       Manufacturing|\n",
      "|   101473|           249567|      3292646|               40.5445|      41.64|       39.71|      42.25|     39.69|2024-06-12 20:00:...|               40580|        false|    249567|          ALCOA CORP|2024-06-17 06:01:...|            AA|              false|Domestic Common S...|             USD|Pennsylvania; U.S.A|                 NYSE|      United States|             Aluminum|        Basic Materials|Primary Productio...|       Manufacturing|\n",
      "|    95354|           249567|      3440820|               40.1498|      40.25|       40.21|      40.46|     39.56|2024-06-11 19:59:...|               37821|        false|    249567|          ALCOA CORP|2024-06-17 06:01:...|            AA|              false|Domestic Common S...|             USD|Pennsylvania; U.S.A|                 NYSE|      United States|             Aluminum|        Basic Materials|Primary Productio...|       Manufacturing|\n",
      "|   125140|           246860|         6853|                0.8332|       0.83|      0.8409|       0.85|      0.81|2024-06-18 20:00:...|                 112|        false|    246860|ATA CREATIVITY GL...|2024-06-17 06:01:...|          AACG|              false|    ADR Common Stock|             USD|              China|               NASDAQ|      United States| Education & Train...|     Consumer Defensive|Services-Educatio...|            Services|\n",
      "|   119030|           246860|        10145|                0.8087|        0.8|        0.81|      0.847|       0.8|2024-06-17 19:58:...|                  80|        false|    246860|ATA CREATIVITY GL...|2024-06-17 06:01:...|          AACG|              false|    ADR Common Stock|             USD|              China|               NASDAQ|      United States| Education & Train...|     Consumer Defensive|Services-Educatio...|            Services|\n",
      "|   112933|           246860|         3420|                0.8253|       0.81|        0.84|   0.865299|      0.81|2024-06-14 20:00:...|                  59|        false|    246860|ATA CREATIVITY GL...|2024-06-17 06:01:...|          AACG|              false|    ADR Common Stock|             USD|              China|               NASDAQ|      United States| Education & Train...|     Consumer Defensive|Services-Educatio...|            Services|\n",
      "|   106831|           246860|         3347|                0.8264|      0.873|        0.81|      0.873|      0.81|2024-06-13 20:00:...|                  80|        false|    246860|ATA CREATIVITY GL...|2024-06-17 06:01:...|          AACG|              false|    ADR Common Stock|             USD|              China|               NASDAQ|      United States| Education & Train...|     Consumer Defensive|Services-Educatio...|            Services|\n",
      "|   100702|           246860|         6908|                 0.836|       0.82|        0.85|   0.879999|   0.80885|2024-06-12 20:00:...|                  86|        false|    246860|ATA CREATIVITY GL...|2024-06-17 06:01:...|          AACG|              false|    ADR Common Stock|             USD|              China|               NASDAQ|      United States| Education & Train...|     Consumer Defensive|Services-Educatio...|            Services|\n",
      "|    94613|           246860|        11808|                0.8254|     0.8211|        0.82|       0.87|       0.8|2024-06-11 19:59:...|                 110|        false|    246860|ATA CREATIVITY GL...|2024-06-17 06:01:...|          AACG|              false|    ADR Common Stock|             USD|              China|               NASDAQ|      United States| Education & Train...|     Consumer Defensive|Services-Educatio...|            Services|\n",
      "|   112934|           246862|        38484|                0.1296|     0.1284|        0.13|       0.13|    0.1254|2024-06-14 20:00:...|                  22|        false|    246862|ARMADA ACQUISITIO...|2024-06-17 06:01:...|         AACIW|              false|Domestic Common S...|             USD|Pennsylvania; U.S.A|               NASDAQ|      United States|      Shell Companies|            Industrials|        Blank Checks|Finance Insurance...|\n",
      "|   106832|           246862|        46030|                0.1182|      0.115|      0.1217|     0.1252|     0.115|2024-06-13 20:00:...|                  39|        false|    246862|ARMADA ACQUISITIO...|2024-06-17 06:01:...|         AACIW|              false|Domestic Common S...|             USD|Pennsylvania; U.S.A|               NASDAQ|      United States|      Shell Companies|            Industrials|        Blank Checks|Finance Insurance...|\n",
      "|    94614|           246862|         5000|                0.1111|      0.112|       0.111|     0.1124|     0.111|2024-06-11 19:59:...|                   8|        false|    246862|ARMADA ACQUISITIO...|2024-06-17 06:01:...|         AACIW|              false|Domestic Common S...|             USD|Pennsylvania; U.S.A|               NASDAQ|      United States|      Shell Companies|            Industrials|        Blank Checks|Finance Insurance...|\n",
      "|   121918|           236412|       757147|                0.3546|     0.3214|       0.359|       0.41|      0.32|2024-06-18 20:00:...|                1031|        false|    236412|AFRICAN AGRICULTU...|2024-06-17 06:01:...|          AAGR|              false|Domestic Common S...|             USD|    New York; U.S.A|               NASDAQ|      United States|        Farm Products|     Consumer Defensive|Agricultural Prod...|Agriculture Fores...|\n",
      "|   115778|           236412|       133089|                0.3356|       0.34|       0.332|      0.358|    0.3101|2024-06-17 19:58:...|                 207|        false|    236412|AFRICAN AGRICULTU...|2024-06-17 06:01:...|          AAGR|              false|Domestic Common S...|             USD|    New York; U.S.A|               NASDAQ|      United States|        Farm Products|     Consumer Defensive|Agricultural Prod...|Agriculture Fores...|\n",
      "|   109700|           236412|        82159|                0.3433|     0.3592|        0.34|     0.3592|      0.31|2024-06-14 20:00:...|                 198|        false|    236412|AFRICAN AGRICULTU...|2024-06-17 06:01:...|          AAGR|              false|Domestic Common S...|             USD|    New York; U.S.A|               NASDAQ|      United States|        Farm Products|     Consumer Defensive|Agricultural Prod...|Agriculture Fores...|\n",
      "|   103594|           236412|        18073|                0.3469|       0.33|      0.3542|      0.358|      0.33|2024-06-13 20:00:...|                  87|        false|    236412|AFRICAN AGRICULTU...|2024-06-17 06:01:...|          AAGR|              false|Domestic Common S...|             USD|    New York; U.S.A|               NASDAQ|      United States|        Farm Products|     Consumer Defensive|Agricultural Prod...|Agriculture Fores...|\n",
      "|    97474|           236412|        40282|                0.3492|     0.3442|       0.348|      0.358|     0.333|2024-06-12 20:00:...|                 209|        false|    236412|AFRICAN AGRICULTU...|2024-06-17 06:01:...|          AAGR|              false|Domestic Common S...|             USD|    New York; U.S.A|               NASDAQ|      United States|        Farm Products|     Consumer Defensive|Agricultural Prod...|Agriculture Fores...|\n",
      "+---------+-----------------+-------------+----------------------+-----------+------------+-----------+----------+--------------------+--------------------+-------------+----------+--------------------+--------------------+--------------+-------------------+--------------------+----------------+-------------------+---------------------+-------------------+---------------------+-----------------------+--------------------+--------------------+\n",
      "only showing top 20 rows\n",
      "\n"
     ]
    }
   ],
   "source": [
    "# Kết hợp hai bảng dựa trên company_id và candle_company_id\n",
    "joined_df = spark_df_candles.join(spark_df_companies_filtered, spark_df_candles.candle_company_id == spark_df_companies_filtered.company_id)\n",
    "\n",
    "# Hiển thị một vài hàng của DataFrame kết hợp\n",
    "joined_df.show()"
   ]
  },
  {
   "cell_type": "code",
   "execution_count": 133,
   "metadata": {},
   "outputs": [
    {
     "name": "stderr",
     "output_type": "stream",
     "text": [
      "24/06/20 08:56:08 WARN TaskSetManager: Stage 342 contains a task of very large size (1359 KiB). The maximum recommended task size is 1000 KiB.\n",
      "24/06/20 08:56:08 WARN TaskSetManager: Stage 343 contains a task of very large size (27397 KiB). The maximum recommended task size is 1000 KiB.\n",
      "                                                                                \r"
     ]
    },
    {
     "name": "stdout",
     "output_type": "stream",
     "text": [
      "+--------------------+---------------------+\n",
      "|               Ngành|Khối lượng trung bình|\n",
      "+--------------------+---------------------+\n",
      "|          Technology|            2067822.0|\n",
      "|   Consumer Cyclical|            2017198.0|\n",
      "|              Energy|            1743764.0|\n",
      "|Communication Ser...|            1664465.0|\n",
      "|     Basic Materials|            1630475.0|\n",
      "|  Consumer Defensive|            1403915.0|\n",
      "|           Utilities|            1295785.0|\n",
      "|          Healthcare|            1172194.0|\n",
      "|  Financial Services|            1159888.0|\n",
      "|         Real Estate|             976227.0|\n",
      "|         Industrials|             960901.0|\n",
      "+--------------------+---------------------+\n",
      "\n"
     ]
    },
    {
     "name": "stderr",
     "output_type": "stream",
     "text": [
      "24/06/20 08:56:11 WARN TaskSetManager: Stage 351 contains a task of very large size (1359 KiB). The maximum recommended task size is 1000 KiB.\n",
      "24/06/20 08:56:11 WARN TaskSetManager: Stage 352 contains a task of very large size (27397 KiB). The maximum recommended task size is 1000 KiB.\n",
      "                                                                                \r"
     ]
    },
    {
     "name": "stdout",
     "output_type": "stream",
     "text": [
      "+--------------------+---------------------+\n",
      "|           Ngành SIC|Khối lượng trung bình|\n",
      "+--------------------+---------------------+\n",
      "|              Mining|            1964628.0|\n",
      "|        Retail Trade|            1796498.0|\n",
      "|Transportation Co...|            1741571.0|\n",
      "|       Manufacturing|            1708938.0|\n",
      "|            Services|            1453866.0|\n",
      "|Finance Insurance...|             777687.0|\n",
      "|     Wholesale Trade|             658491.0|\n",
      "|        Construction|             477696.0|\n",
      "|Agriculture Fores...|             300966.0|\n",
      "+--------------------+---------------------+\n",
      "\n"
     ]
    }
   ],
   "source": [
    "# Thống kê khối lượng giao dịch trung bình theo ngành công nghiệp\n",
    "joined_df\\\n",
    "    .groupBy(\"company_industry_sector\")\\\n",
    "    .agg(round(avg(\"candle_volume\")).alias(\"Khối lượng trung bình\"))\\\n",
    "    .orderBy(\"Khối lượng trung bình\", ascending=False)\\\n",
    "    .withColumnRenamed(\"company_industry_sector\", \"Ngành\")\\\n",
    "    .show()\n",
    "    \n",
    "# Thống kê khối lượng giao dịch trung bình theo ngành công nghiệp theo SIC\n",
    "joined_df\\\n",
    "    .groupBy(\"company_sic_sector\")\\\n",
    "    .agg(round(avg(\"candle_volume\")).alias(\"Khối lượng trung bình\"))\\\n",
    "    .orderBy(\"Khối lượng trung bình\", ascending=False)\\\n",
    "    .withColumnRenamed(\"company_sic_sector\", \"Ngành SIC\")\\\n",
    "    .show()"
   ]
  },
  {
   "cell_type": "code",
   "execution_count": 139,
   "metadata": {},
   "outputs": [
    {
     "name": "stderr",
     "output_type": "stream",
     "text": [
      "24/06/20 09:00:37 WARN TaskSetManager: Stage 396 contains a task of very large size (1359 KiB). The maximum recommended task size is 1000 KiB.\n",
      "24/06/20 09:00:37 WARN TaskSetManager: Stage 397 contains a task of very large size (27397 KiB). The maximum recommended task size is 1000 KiB.\n",
      "                                                                                \r"
     ]
    },
    {
     "name": "stdout",
     "output_type": "stream",
     "text": [
      "+--------------------+---------------------------------------+--------------------------------+\n",
      "|         Tên công ty|Tổng khối lượng cổ phiếu được giao dịch|Tổng số giao dịch được thực hiện|\n",
      "+--------------------+---------------------------------------+--------------------------------+\n",
      "|         NVIDIA CORP|                             1657885106|                        12087721|\n",
      "|     MUSTANG BIO INC|                             1428299544|                         1505777|\n",
      "|NAUTICUS ROBOTICS...|                              885844261|                          882342|\n",
      "|           APPLE INC|                              703956224|                         7244030|\n",
      "|CROWN ELECTROKINE...|                              640968519|                          295617|\n",
      "|       GAMESTOP CORP|                              613487824|                         4668247|\n",
      "|           TESLA INC|                              532751516|                         6547924|\n",
      "|ENDRA LIFE SCIENC...|                              401052442|                          269207|\n",
      "|RELIANCE GLOBAL G...|                              396202336|                          608887|\n",
      "|      LONGEVERON INC|                              385393886|                         1452882|\n",
      "+--------------------+---------------------------------------+--------------------------------+\n",
      "\n"
     ]
    }
   ],
   "source": [
    "# Top 10 công ty có tổng khối lượng giao dịch nhiều nhất hiện tại\n",
    "joined_df\\\n",
    "    .groupBy(\"company_name\")\\\n",
    "    .agg(\n",
    "        _sum(\"candle_volume\").alias(\"Tổng khối lượng cổ phiếu được giao dịch\"),\n",
    "        _sum(\"candle_num_of_trades\").alias(\"Tổng số giao dịch được thực hiện\")\n",
    "    )\\\n",
    "    .orderBy(\"Tổng khối lượng cổ phiếu được giao dịch\", ascending=False)\\\n",
    "    .withColumnRenamed(\"company_name\", \"Tên công ty\")\\\n",
    "    .limit(10)\\\n",
    "    .show()"
   ]
  }
 ],
 "metadata": {
  "kernelspec": {
   "display_name": "api_venv",
   "language": "python",
   "name": "python3"
  },
  "language_info": {
   "codemirror_mode": {
    "name": "ipython",
    "version": 3
   },
   "file_extension": ".py",
   "mimetype": "text/x-python",
   "name": "python",
   "nbconvert_exporter": "python",
   "pygments_lexer": "ipython3",
   "version": "3.8.10"
  }
 },
 "nbformat": 4,
 "nbformat_minor": 2
}
